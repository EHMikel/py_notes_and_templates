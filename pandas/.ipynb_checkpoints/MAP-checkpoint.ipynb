{
 "cells": [
  {
   "cell_type": "markdown",
   "id": "945a428f",
   "metadata": {},
   "source": [
    "# .MAP()\n",
    "\n",
    "La función map() mapea una columna de un dataframe o un series de pandas en vase a un criterio, se puede usar una función normal, se puede usar una función lambda o se puede usar un diccionario."
   ]
  },
  {
   "cell_type": "code",
   "execution_count": 1,
   "id": "dfcdd3ab",
   "metadata": {},
   "outputs": [],
   "source": [
    "import numpy as np\n",
    "import pandas as pd"
   ]
  },
  {
   "cell_type": "markdown",
   "id": "9afc77e9",
   "metadata": {},
   "source": [
    "## cargando df"
   ]
  },
  {
   "cell_type": "code",
   "execution_count": 7,
   "id": "e3d17a6e",
   "metadata": {
    "scrolled": true
   },
   "outputs": [
    {
     "data": {
      "text/html": [
       "<div>\n",
       "<style scoped>\n",
       "    .dataframe tbody tr th:only-of-type {\n",
       "        vertical-align: middle;\n",
       "    }\n",
       "\n",
       "    .dataframe tbody tr th {\n",
       "        vertical-align: top;\n",
       "    }\n",
       "\n",
       "    .dataframe thead th {\n",
       "        text-align: right;\n",
       "    }\n",
       "</style>\n",
       "<table border=\"1\" class=\"dataframe\">\n",
       "  <thead>\n",
       "    <tr style=\"text-align: right;\">\n",
       "      <th></th>\n",
       "      <th>mpg</th>\n",
       "      <th>cilindros</th>\n",
       "      <th>desplazamiento</th>\n",
       "      <th>potencia</th>\n",
       "      <th>peso</th>\n",
       "      <th>aceleracion</th>\n",
       "      <th>año</th>\n",
       "      <th>origen</th>\n",
       "      <th>nombre</th>\n",
       "    </tr>\n",
       "  </thead>\n",
       "  <tbody>\n",
       "    <tr>\n",
       "      <th>0</th>\n",
       "      <td>18.0</td>\n",
       "      <td>8</td>\n",
       "      <td>307.0</td>\n",
       "      <td>130.0</td>\n",
       "      <td>3504.0</td>\n",
       "      <td>12.0</td>\n",
       "      <td>70</td>\n",
       "      <td>1</td>\n",
       "      <td>chevrolet chevelle malibu</td>\n",
       "    </tr>\n",
       "    <tr>\n",
       "      <th>1</th>\n",
       "      <td>15.0</td>\n",
       "      <td>8</td>\n",
       "      <td>350.0</td>\n",
       "      <td>165.0</td>\n",
       "      <td>3693.0</td>\n",
       "      <td>11.5</td>\n",
       "      <td>70</td>\n",
       "      <td>1</td>\n",
       "      <td>buick skylark 320</td>\n",
       "    </tr>\n",
       "    <tr>\n",
       "      <th>2</th>\n",
       "      <td>18.0</td>\n",
       "      <td>8</td>\n",
       "      <td>318.0</td>\n",
       "      <td>150.0</td>\n",
       "      <td>3436.0</td>\n",
       "      <td>11.0</td>\n",
       "      <td>70</td>\n",
       "      <td>1</td>\n",
       "      <td>plymouth satellite</td>\n",
       "    </tr>\n",
       "    <tr>\n",
       "      <th>3</th>\n",
       "      <td>16.0</td>\n",
       "      <td>8</td>\n",
       "      <td>304.0</td>\n",
       "      <td>150.0</td>\n",
       "      <td>3433.0</td>\n",
       "      <td>12.0</td>\n",
       "      <td>70</td>\n",
       "      <td>1</td>\n",
       "      <td>amc rebel sst</td>\n",
       "    </tr>\n",
       "    <tr>\n",
       "      <th>4</th>\n",
       "      <td>17.0</td>\n",
       "      <td>8</td>\n",
       "      <td>302.0</td>\n",
       "      <td>140.0</td>\n",
       "      <td>3449.0</td>\n",
       "      <td>10.5</td>\n",
       "      <td>70</td>\n",
       "      <td>1</td>\n",
       "      <td>ford torino</td>\n",
       "    </tr>\n",
       "    <tr>\n",
       "      <th>5</th>\n",
       "      <td>15.0</td>\n",
       "      <td>8</td>\n",
       "      <td>429.0</td>\n",
       "      <td>198.0</td>\n",
       "      <td>4341.0</td>\n",
       "      <td>10.0</td>\n",
       "      <td>70</td>\n",
       "      <td>1</td>\n",
       "      <td>ford galaxie 500</td>\n",
       "    </tr>\n",
       "    <tr>\n",
       "      <th>6</th>\n",
       "      <td>14.0</td>\n",
       "      <td>8</td>\n",
       "      <td>454.0</td>\n",
       "      <td>220.0</td>\n",
       "      <td>4354.0</td>\n",
       "      <td>9.0</td>\n",
       "      <td>70</td>\n",
       "      <td>1</td>\n",
       "      <td>chevrolet impala</td>\n",
       "    </tr>\n",
       "    <tr>\n",
       "      <th>7</th>\n",
       "      <td>14.0</td>\n",
       "      <td>8</td>\n",
       "      <td>440.0</td>\n",
       "      <td>215.0</td>\n",
       "      <td>4312.0</td>\n",
       "      <td>8.5</td>\n",
       "      <td>70</td>\n",
       "      <td>1</td>\n",
       "      <td>plymouth fury iii</td>\n",
       "    </tr>\n",
       "    <tr>\n",
       "      <th>8</th>\n",
       "      <td>14.0</td>\n",
       "      <td>8</td>\n",
       "      <td>455.0</td>\n",
       "      <td>225.0</td>\n",
       "      <td>4425.0</td>\n",
       "      <td>10.0</td>\n",
       "      <td>70</td>\n",
       "      <td>1</td>\n",
       "      <td>pontiac catalina</td>\n",
       "    </tr>\n",
       "    <tr>\n",
       "      <th>9</th>\n",
       "      <td>15.0</td>\n",
       "      <td>8</td>\n",
       "      <td>390.0</td>\n",
       "      <td>190.0</td>\n",
       "      <td>3850.0</td>\n",
       "      <td>8.5</td>\n",
       "      <td>70</td>\n",
       "      <td>1</td>\n",
       "      <td>amc ambassador dpl</td>\n",
       "    </tr>\n",
       "  </tbody>\n",
       "</table>\n",
       "</div>"
      ],
      "text/plain": [
       "    mpg  cilindros  desplazamiento  potencia    peso  aceleracion  año  \\\n",
       "0  18.0          8           307.0     130.0  3504.0         12.0   70   \n",
       "1  15.0          8           350.0     165.0  3693.0         11.5   70   \n",
       "2  18.0          8           318.0     150.0  3436.0         11.0   70   \n",
       "3  16.0          8           304.0     150.0  3433.0         12.0   70   \n",
       "4  17.0          8           302.0     140.0  3449.0         10.5   70   \n",
       "5  15.0          8           429.0     198.0  4341.0         10.0   70   \n",
       "6  14.0          8           454.0     220.0  4354.0          9.0   70   \n",
       "7  14.0          8           440.0     215.0  4312.0          8.5   70   \n",
       "8  14.0          8           455.0     225.0  4425.0         10.0   70   \n",
       "9  15.0          8           390.0     190.0  3850.0          8.5   70   \n",
       "\n",
       "   origen                     nombre  \n",
       "0       1  chevrolet chevelle malibu  \n",
       "1       1          buick skylark 320  \n",
       "2       1         plymouth satellite  \n",
       "3       1              amc rebel sst  \n",
       "4       1                ford torino  \n",
       "5       1           ford galaxie 500  \n",
       "6       1           chevrolet impala  \n",
       "7       1          plymouth fury iii  \n",
       "8       1           pontiac catalina  \n",
       "9       1         amc ambassador dpl  "
      ]
     },
     "execution_count": 7,
     "metadata": {},
     "output_type": "execute_result"
    }
   ],
   "source": [
    "path = 'http://archive.ics.uci.edu/ml/machine-learning-databases/auto-mpg/auto-mpg.data'\n",
    "\n",
    "df = pd.read_csv(path, delim_whitespace=True, header=None,\n",
    "            names = ['mpg', 'cilindros', 'desplazamiento','potencia',\n",
    "            'peso', 'aceleracion', 'año', 'origen', 'nombre'],\n",
    "            na_values='?')\n",
    "\n",
    "df.head(10)"
   ]
  },
  {
   "cell_type": "code",
   "execution_count": 23,
   "id": "a47d78dc",
   "metadata": {},
   "outputs": [
    {
     "data": {
      "text/plain": [
       "array([70, 71, 72, 73, 74, 75, 76, 77, 78, 79, 80, 81, 82], dtype=int64)"
      ]
     },
     "execution_count": 23,
     "metadata": {},
     "output_type": "execute_result"
    }
   ],
   "source": [
    "df.año.unique()"
   ]
  },
  {
   "cell_type": "markdown",
   "id": "753a1e8b",
   "metadata": {},
   "source": [
    "## ejemplo simple con un pandas series"
   ]
  },
  {
   "cell_type": "code",
   "execution_count": 3,
   "id": "57b799d6",
   "metadata": {},
   "outputs": [
    {
     "data": {
      "text/plain": [
       "0       cat\n",
       "1       dog\n",
       "2       NaN\n",
       "3    rabbit\n",
       "dtype: object"
      ]
     },
     "execution_count": 3,
     "metadata": {},
     "output_type": "execute_result"
    }
   ],
   "source": [
    "s = pd.Series(['cat','dog','NaN','rabbit'])\n",
    "\n",
    "s"
   ]
  },
  {
   "cell_type": "code",
   "execution_count": 4,
   "id": "d0c61ae1",
   "metadata": {},
   "outputs": [
    {
     "data": {
      "text/plain": [
       "0    kitty\n",
       "1    puppy\n",
       "2      NaN\n",
       "3      NaN\n",
       "dtype: object"
      ]
     },
     "execution_count": 4,
     "metadata": {},
     "output_type": "execute_result"
    }
   ],
   "source": [
    "mapping_dict = {'cat':'kitty', 'dog':'puppy'}\n",
    "\n",
    "s.map(mapping_dict)"
   ]
  },
  {
   "cell_type": "code",
   "execution_count": 6,
   "id": "09fe88fd",
   "metadata": {},
   "outputs": [
    {
     "data": {
      "text/plain": [
       "0       cat\n",
       "1       dog\n",
       "2       NaN\n",
       "3    rabbit\n",
       "dtype: object"
      ]
     },
     "execution_count": 6,
     "metadata": {},
     "output_type": "execute_result"
    }
   ],
   "source": [
    "s # no cambia la serie original, no tiene metodo inplace"
   ]
  },
  {
   "cell_type": "code",
   "execution_count": null,
   "id": "e178af1c",
   "metadata": {},
   "outputs": [],
   "source": []
  },
  {
   "cell_type": "markdown",
   "id": "9dde2e28",
   "metadata": {},
   "source": [
    "## map con una función normal\n",
    "\n",
    "### Al estilo apply()"
   ]
  },
  {
   "cell_type": "code",
   "execution_count": 8,
   "id": "754593e8",
   "metadata": {
    "scrolled": true
   },
   "outputs": [
    {
     "data": {
      "text/plain": [
       "0      chevrolet chevelle malibu\n",
       "1              buick skylark 320\n",
       "2             plymouth satellite\n",
       "3                  AMC rebel sst\n",
       "4                    ford torino\n",
       "                 ...            \n",
       "393              ford mustang gl\n",
       "394                    vw pickup\n",
       "395                dodge rampage\n",
       "396                  ford ranger\n",
       "397                   chevy s-10\n",
       "Name: nombre, Length: 398, dtype: object"
      ]
     },
     "execution_count": 8,
     "metadata": {},
     "output_type": "execute_result"
    }
   ],
   "source": [
    "def cambiar_palabra(palabra):\n",
    "    return palabra.replace('amc', 'AMC')   # donde se encuentra amc, lo pasara a AMC\n",
    "\n",
    "df['nombre'].map(cambiar_palabra)"
   ]
  },
  {
   "cell_type": "markdown",
   "id": "7c2c9e1c",
   "metadata": {},
   "source": [
    "### Función matemática"
   ]
  },
  {
   "cell_type": "code",
   "execution_count": null,
   "id": "a53898b7",
   "metadata": {},
   "outputs": [],
   "source": []
  },
  {
   "cell_type": "code",
   "execution_count": null,
   "id": "263052c7",
   "metadata": {},
   "outputs": [],
   "source": []
  },
  {
   "cell_type": "code",
   "execution_count": null,
   "id": "fbc46575",
   "metadata": {},
   "outputs": [],
   "source": []
  },
  {
   "cell_type": "markdown",
   "id": "fb906774",
   "metadata": {},
   "source": [
    "## para ignorar Nans"
   ]
  },
  {
   "cell_type": "code",
   "execution_count": 17,
   "id": "e7ba301f",
   "metadata": {},
   "outputs": [
    {
     "data": {
      "text/plain": [
       "0      None\n",
       "1      None\n",
       "2      None\n",
       "3      None\n",
       "4      None\n",
       "       ... \n",
       "393    None\n",
       "394    None\n",
       "395    None\n",
       "396    None\n",
       "397    None\n",
       "Name: nombre, Length: 398, dtype: object"
      ]
     },
     "execution_count": 17,
     "metadata": {},
     "output_type": "execute_result"
    }
   ],
   "source": [
    "def funcion(el_contenido_de_la_columna):\n",
    "    pass\n",
    "\n",
    "df['nombre'].map(funcion, na_action= 'ignore') # si se encuentra Nans los ignora"
   ]
  },
  {
   "cell_type": "code",
   "execution_count": null,
   "id": "09a5d856",
   "metadata": {},
   "outputs": [],
   "source": []
  },
  {
   "cell_type": "markdown",
   "id": "de41816e",
   "metadata": {},
   "source": [
    "## con funcion lambda"
   ]
  },
  {
   "cell_type": "code",
   "execution_count": 19,
   "id": "e9c0dc80",
   "metadata": {},
   "outputs": [
    {
     "data": {
      "text/html": [
       "<div>\n",
       "<style scoped>\n",
       "    .dataframe tbody tr th:only-of-type {\n",
       "        vertical-align: middle;\n",
       "    }\n",
       "\n",
       "    .dataframe tbody tr th {\n",
       "        vertical-align: top;\n",
       "    }\n",
       "\n",
       "    .dataframe thead th {\n",
       "        text-align: right;\n",
       "    }\n",
       "</style>\n",
       "<table border=\"1\" class=\"dataframe\">\n",
       "  <thead>\n",
       "    <tr style=\"text-align: right;\">\n",
       "      <th></th>\n",
       "      <th>mpg</th>\n",
       "      <th>cilindros</th>\n",
       "      <th>desplazamiento</th>\n",
       "      <th>potencia</th>\n",
       "      <th>peso</th>\n",
       "      <th>aceleracion</th>\n",
       "      <th>año</th>\n",
       "      <th>origen</th>\n",
       "      <th>nombre</th>\n",
       "    </tr>\n",
       "  </thead>\n",
       "  <tbody>\n",
       "    <tr>\n",
       "      <th>0</th>\n",
       "      <td>18.0</td>\n",
       "      <td>8</td>\n",
       "      <td>307.0</td>\n",
       "      <td>130.0</td>\n",
       "      <td>3504.0</td>\n",
       "      <td>12.0</td>\n",
       "      <td>70</td>\n",
       "      <td>1</td>\n",
       "      <td>chevrolet chevelle malibu</td>\n",
       "    </tr>\n",
       "    <tr>\n",
       "      <th>1</th>\n",
       "      <td>15.0</td>\n",
       "      <td>8</td>\n",
       "      <td>350.0</td>\n",
       "      <td>165.0</td>\n",
       "      <td>3693.0</td>\n",
       "      <td>11.5</td>\n",
       "      <td>70</td>\n",
       "      <td>1</td>\n",
       "      <td>buick skylark 320</td>\n",
       "    </tr>\n",
       "    <tr>\n",
       "      <th>2</th>\n",
       "      <td>18.0</td>\n",
       "      <td>8</td>\n",
       "      <td>318.0</td>\n",
       "      <td>150.0</td>\n",
       "      <td>3436.0</td>\n",
       "      <td>11.0</td>\n",
       "      <td>70</td>\n",
       "      <td>1</td>\n",
       "      <td>plymouth satellite</td>\n",
       "    </tr>\n",
       "    <tr>\n",
       "      <th>3</th>\n",
       "      <td>16.0</td>\n",
       "      <td>8</td>\n",
       "      <td>304.0</td>\n",
       "      <td>150.0</td>\n",
       "      <td>3433.0</td>\n",
       "      <td>12.0</td>\n",
       "      <td>70</td>\n",
       "      <td>1</td>\n",
       "      <td>amc rebel sst</td>\n",
       "    </tr>\n",
       "    <tr>\n",
       "      <th>4</th>\n",
       "      <td>17.0</td>\n",
       "      <td>8</td>\n",
       "      <td>302.0</td>\n",
       "      <td>140.0</td>\n",
       "      <td>3449.0</td>\n",
       "      <td>10.5</td>\n",
       "      <td>70</td>\n",
       "      <td>1</td>\n",
       "      <td>ford torino</td>\n",
       "    </tr>\n",
       "  </tbody>\n",
       "</table>\n",
       "</div>"
      ],
      "text/plain": [
       "    mpg  cilindros  desplazamiento  potencia    peso  aceleracion  año  \\\n",
       "0  18.0          8           307.0     130.0  3504.0         12.0   70   \n",
       "1  15.0          8           350.0     165.0  3693.0         11.5   70   \n",
       "2  18.0          8           318.0     150.0  3436.0         11.0   70   \n",
       "3  16.0          8           304.0     150.0  3433.0         12.0   70   \n",
       "4  17.0          8           302.0     140.0  3449.0         10.5   70   \n",
       "\n",
       "   origen                     nombre  \n",
       "0       1  chevrolet chevelle malibu  \n",
       "1       1          buick skylark 320  \n",
       "2       1         plymouth satellite  \n",
       "3       1              amc rebel sst  \n",
       "4       1                ford torino  "
      ]
     },
     "execution_count": 19,
     "metadata": {},
     "output_type": "execute_result"
    }
   ],
   "source": [
    "df.head()"
   ]
  },
  {
   "cell_type": "code",
   "execution_count": 27,
   "id": "c3d1d97b",
   "metadata": {},
   "outputs": [],
   "source": [
    "df['es_viejo'] = df['año'].map(lambda x: 'viejo' if x <= 75   else 'no tan viejo')"
   ]
  },
  {
   "cell_type": "code",
   "execution_count": 28,
   "id": "7ec2daf7",
   "metadata": {},
   "outputs": [
    {
     "data": {
      "text/html": [
       "<div>\n",
       "<style scoped>\n",
       "    .dataframe tbody tr th:only-of-type {\n",
       "        vertical-align: middle;\n",
       "    }\n",
       "\n",
       "    .dataframe tbody tr th {\n",
       "        vertical-align: top;\n",
       "    }\n",
       "\n",
       "    .dataframe thead th {\n",
       "        text-align: right;\n",
       "    }\n",
       "</style>\n",
       "<table border=\"1\" class=\"dataframe\">\n",
       "  <thead>\n",
       "    <tr style=\"text-align: right;\">\n",
       "      <th></th>\n",
       "      <th>mpg</th>\n",
       "      <th>cilindros</th>\n",
       "      <th>desplazamiento</th>\n",
       "      <th>potencia</th>\n",
       "      <th>peso</th>\n",
       "      <th>aceleracion</th>\n",
       "      <th>año</th>\n",
       "      <th>origen</th>\n",
       "      <th>nombre</th>\n",
       "      <th>es_viejo</th>\n",
       "    </tr>\n",
       "  </thead>\n",
       "  <tbody>\n",
       "    <tr>\n",
       "      <th>326</th>\n",
       "      <td>43.4</td>\n",
       "      <td>4</td>\n",
       "      <td>90.0</td>\n",
       "      <td>48.0</td>\n",
       "      <td>2335.0</td>\n",
       "      <td>23.7</td>\n",
       "      <td>80</td>\n",
       "      <td>2</td>\n",
       "      <td>vw dasher (diesel)</td>\n",
       "      <td>no tan viejo</td>\n",
       "    </tr>\n",
       "    <tr>\n",
       "      <th>292</th>\n",
       "      <td>18.5</td>\n",
       "      <td>8</td>\n",
       "      <td>360.0</td>\n",
       "      <td>150.0</td>\n",
       "      <td>3940.0</td>\n",
       "      <td>13.0</td>\n",
       "      <td>79</td>\n",
       "      <td>1</td>\n",
       "      <td>chrysler lebaron town @ country (sw)</td>\n",
       "      <td>no tan viejo</td>\n",
       "    </tr>\n",
       "    <tr>\n",
       "      <th>283</th>\n",
       "      <td>20.2</td>\n",
       "      <td>6</td>\n",
       "      <td>232.0</td>\n",
       "      <td>90.0</td>\n",
       "      <td>3265.0</td>\n",
       "      <td>18.2</td>\n",
       "      <td>79</td>\n",
       "      <td>1</td>\n",
       "      <td>amc concord dl 6</td>\n",
       "      <td>no tan viejo</td>\n",
       "    </tr>\n",
       "    <tr>\n",
       "      <th>133</th>\n",
       "      <td>16.0</td>\n",
       "      <td>6</td>\n",
       "      <td>250.0</td>\n",
       "      <td>100.0</td>\n",
       "      <td>3781.0</td>\n",
       "      <td>17.0</td>\n",
       "      <td>74</td>\n",
       "      <td>1</td>\n",
       "      <td>chevrolet chevelle malibu classic</td>\n",
       "      <td>viejo</td>\n",
       "    </tr>\n",
       "    <tr>\n",
       "      <th>102</th>\n",
       "      <td>26.0</td>\n",
       "      <td>4</td>\n",
       "      <td>97.0</td>\n",
       "      <td>46.0</td>\n",
       "      <td>1950.0</td>\n",
       "      <td>21.0</td>\n",
       "      <td>73</td>\n",
       "      <td>2</td>\n",
       "      <td>volkswagen super beetle</td>\n",
       "      <td>viejo</td>\n",
       "    </tr>\n",
       "  </tbody>\n",
       "</table>\n",
       "</div>"
      ],
      "text/plain": [
       "      mpg  cilindros  desplazamiento  potencia    peso  aceleracion  año  \\\n",
       "326  43.4          4            90.0      48.0  2335.0         23.7   80   \n",
       "292  18.5          8           360.0     150.0  3940.0         13.0   79   \n",
       "283  20.2          6           232.0      90.0  3265.0         18.2   79   \n",
       "133  16.0          6           250.0     100.0  3781.0         17.0   74   \n",
       "102  26.0          4            97.0      46.0  1950.0         21.0   73   \n",
       "\n",
       "     origen                                nombre      es_viejo  \n",
       "326       2                    vw dasher (diesel)  no tan viejo  \n",
       "292       1  chrysler lebaron town @ country (sw)  no tan viejo  \n",
       "283       1                      amc concord dl 6  no tan viejo  \n",
       "133       1     chevrolet chevelle malibu classic         viejo  \n",
       "102       2               volkswagen super beetle         viejo  "
      ]
     },
     "execution_count": 28,
     "metadata": {},
     "output_type": "execute_result"
    }
   ],
   "source": [
    "df.sample(5)"
   ]
  },
  {
   "cell_type": "markdown",
   "id": "227e504e",
   "metadata": {},
   "source": [
    "## con un diccionario"
   ]
  },
  {
   "cell_type": "code",
   "execution_count": 31,
   "id": "93c03ee8",
   "metadata": {},
   "outputs": [],
   "source": [
    "dicc = {70:'muy_pellejo',\n",
    "        72: 'no_demasiado_pellejo', \n",
    "        74:'viejo',\n",
    "        76: 'pasado_de_moda',\n",
    "        78: 'old_school',\n",
    "        80: 'just_flow',\n",
    "        82: 'tienes estilo'}\n",
    "\n",
    "# los valores fuera del dicc (71,73,75, etc.) se les asignará NaN\n",
    "\n",
    "df['es_viejo'] = df['año'].map(dicc)"
   ]
  },
  {
   "cell_type": "code",
   "execution_count": 32,
   "id": "ae3b871b",
   "metadata": {},
   "outputs": [
    {
     "data": {
      "text/html": [
       "<div>\n",
       "<style scoped>\n",
       "    .dataframe tbody tr th:only-of-type {\n",
       "        vertical-align: middle;\n",
       "    }\n",
       "\n",
       "    .dataframe tbody tr th {\n",
       "        vertical-align: top;\n",
       "    }\n",
       "\n",
       "    .dataframe thead th {\n",
       "        text-align: right;\n",
       "    }\n",
       "</style>\n",
       "<table border=\"1\" class=\"dataframe\">\n",
       "  <thead>\n",
       "    <tr style=\"text-align: right;\">\n",
       "      <th></th>\n",
       "      <th>mpg</th>\n",
       "      <th>cilindros</th>\n",
       "      <th>desplazamiento</th>\n",
       "      <th>potencia</th>\n",
       "      <th>peso</th>\n",
       "      <th>aceleracion</th>\n",
       "      <th>año</th>\n",
       "      <th>origen</th>\n",
       "      <th>nombre</th>\n",
       "      <th>es_viejo</th>\n",
       "    </tr>\n",
       "  </thead>\n",
       "  <tbody>\n",
       "    <tr>\n",
       "      <th>260</th>\n",
       "      <td>18.6</td>\n",
       "      <td>6</td>\n",
       "      <td>225.0</td>\n",
       "      <td>110.0</td>\n",
       "      <td>3620.0</td>\n",
       "      <td>18.7</td>\n",
       "      <td>78</td>\n",
       "      <td>1</td>\n",
       "      <td>dodge aspen</td>\n",
       "      <td>old_school</td>\n",
       "    </tr>\n",
       "    <tr>\n",
       "      <th>262</th>\n",
       "      <td>19.2</td>\n",
       "      <td>8</td>\n",
       "      <td>305.0</td>\n",
       "      <td>145.0</td>\n",
       "      <td>3425.0</td>\n",
       "      <td>13.2</td>\n",
       "      <td>78</td>\n",
       "      <td>1</td>\n",
       "      <td>chevrolet monte carlo landau</td>\n",
       "      <td>old_school</td>\n",
       "    </tr>\n",
       "    <tr>\n",
       "      <th>243</th>\n",
       "      <td>21.5</td>\n",
       "      <td>3</td>\n",
       "      <td>80.0</td>\n",
       "      <td>110.0</td>\n",
       "      <td>2720.0</td>\n",
       "      <td>13.5</td>\n",
       "      <td>77</td>\n",
       "      <td>3</td>\n",
       "      <td>mazda rx-4</td>\n",
       "      <td>NaN</td>\n",
       "    </tr>\n",
       "    <tr>\n",
       "      <th>71</th>\n",
       "      <td>19.0</td>\n",
       "      <td>3</td>\n",
       "      <td>70.0</td>\n",
       "      <td>97.0</td>\n",
       "      <td>2330.0</td>\n",
       "      <td>13.5</td>\n",
       "      <td>72</td>\n",
       "      <td>3</td>\n",
       "      <td>mazda rx2 coupe</td>\n",
       "      <td>no_demasiado_pellejo</td>\n",
       "    </tr>\n",
       "    <tr>\n",
       "      <th>93</th>\n",
       "      <td>14.0</td>\n",
       "      <td>8</td>\n",
       "      <td>318.0</td>\n",
       "      <td>150.0</td>\n",
       "      <td>4237.0</td>\n",
       "      <td>14.5</td>\n",
       "      <td>73</td>\n",
       "      <td>1</td>\n",
       "      <td>plymouth fury gran sedan</td>\n",
       "      <td>NaN</td>\n",
       "    </tr>\n",
       "  </tbody>\n",
       "</table>\n",
       "</div>"
      ],
      "text/plain": [
       "      mpg  cilindros  desplazamiento  potencia    peso  aceleracion  año  \\\n",
       "260  18.6          6           225.0     110.0  3620.0         18.7   78   \n",
       "262  19.2          8           305.0     145.0  3425.0         13.2   78   \n",
       "243  21.5          3            80.0     110.0  2720.0         13.5   77   \n",
       "71   19.0          3            70.0      97.0  2330.0         13.5   72   \n",
       "93   14.0          8           318.0     150.0  4237.0         14.5   73   \n",
       "\n",
       "     origen                        nombre              es_viejo  \n",
       "260       1                   dodge aspen            old_school  \n",
       "262       1  chevrolet monte carlo landau            old_school  \n",
       "243       3                    mazda rx-4                   NaN  \n",
       "71        3               mazda rx2 coupe  no_demasiado_pellejo  \n",
       "93        1      plymouth fury gran sedan                   NaN  "
      ]
     },
     "execution_count": 32,
     "metadata": {},
     "output_type": "execute_result"
    }
   ],
   "source": [
    "df.sample(5)"
   ]
  },
  {
   "cell_type": "markdown",
   "id": "374559fa",
   "metadata": {},
   "source": [
    "## añadiendo texto a una columna"
   ]
  },
  {
   "cell_type": "code",
   "execution_count": 11,
   "id": "fa70a4e7",
   "metadata": {},
   "outputs": [
    {
     "data": {
      "text/plain": [
       "0      el nombre del coche es: chevrolet chevelle malibu\n",
       "1              el nombre del coche es: buick skylark 320\n",
       "2             el nombre del coche es: plymouth satellite\n",
       "3                  el nombre del coche es: amc rebel sst\n",
       "4                    el nombre del coche es: ford torino\n",
       "                             ...                        \n",
       "393              el nombre del coche es: ford mustang gl\n",
       "394                    el nombre del coche es: vw pickup\n",
       "395                el nombre del coche es: dodge rampage\n",
       "396                  el nombre del coche es: ford ranger\n",
       "397                   el nombre del coche es: chevy s-10\n",
       "Name: nombre, Length: 398, dtype: object"
      ]
     },
     "execution_count": 11,
     "metadata": {},
     "output_type": "execute_result"
    }
   ],
   "source": [
    "df['nombre'].map('el nombre del coche es: {}'.format)"
   ]
  },
  {
   "cell_type": "code",
   "execution_count": null,
   "id": "6111f44e",
   "metadata": {},
   "outputs": [],
   "source": []
  }
 ],
 "metadata": {
  "kernelspec": {
   "display_name": "Python 3 (ipykernel)",
   "language": "python",
   "name": "python3"
  },
  "language_info": {
   "codemirror_mode": {
    "name": "ipython",
    "version": 3
   },
   "file_extension": ".py",
   "mimetype": "text/x-python",
   "name": "python",
   "nbconvert_exporter": "python",
   "pygments_lexer": "ipython3",
   "version": "3.10.6"
  },
  "toc": {
   "base_numbering": 1,
   "nav_menu": {},
   "number_sections": true,
   "sideBar": true,
   "skip_h1_title": false,
   "title_cell": "Table of Contents",
   "title_sidebar": "Contents",
   "toc_cell": false,
   "toc_position": {},
   "toc_section_display": true,
   "toc_window_display": false
  }
 },
 "nbformat": 4,
 "nbformat_minor": 5
}
