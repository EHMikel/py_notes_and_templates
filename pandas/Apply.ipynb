{
 "cells": [
  {
   "cell_type": "code",
   "execution_count": 2,
   "id": "10bb041b",
   "metadata": {},
   "outputs": [],
   "source": [
    "import numpy as np\n",
    "import pandas as pd"
   ]
  },
  {
   "cell_type": "markdown",
   "id": "0bbb2bec",
   "metadata": {},
   "source": [
    "# Apply en pandas \n",
    "\n",
    "dataframe.apply(funcion)\n",
    "\n",
    "- la función puede ser definida por el usuario\n",
    "- puede ser una funcion lambda\n",
    "- axis = 0 es para que calcule algo según las columnas por que el apply recorre el df a través de las filas\n",
    "- axis = 1 es para que calcule algo según las filas por que el apply recorre el df a través de las columnas"
   ]
  },
  {
   "cell_type": "code",
   "execution_count": 3,
   "id": "95013211",
   "metadata": {},
   "outputs": [
    {
     "data": {
      "text/html": [
       "<div>\n",
       "<style scoped>\n",
       "    .dataframe tbody tr th:only-of-type {\n",
       "        vertical-align: middle;\n",
       "    }\n",
       "\n",
       "    .dataframe tbody tr th {\n",
       "        vertical-align: top;\n",
       "    }\n",
       "\n",
       "    .dataframe thead th {\n",
       "        text-align: right;\n",
       "    }\n",
       "</style>\n",
       "<table border=\"1\" class=\"dataframe\">\n",
       "  <thead>\n",
       "    <tr style=\"text-align: right;\">\n",
       "      <th></th>\n",
       "      <th>A</th>\n",
       "      <th>B</th>\n",
       "    </tr>\n",
       "  </thead>\n",
       "  <tbody>\n",
       "    <tr>\n",
       "      <th>0</th>\n",
       "      <td>15</td>\n",
       "      <td>17</td>\n",
       "    </tr>\n",
       "    <tr>\n",
       "      <th>1</th>\n",
       "      <td>15</td>\n",
       "      <td>6</td>\n",
       "    </tr>\n",
       "    <tr>\n",
       "      <th>2</th>\n",
       "      <td>16</td>\n",
       "      <td>13</td>\n",
       "    </tr>\n",
       "    <tr>\n",
       "      <th>3</th>\n",
       "      <td>4</td>\n",
       "      <td>7</td>\n",
       "    </tr>\n",
       "    <tr>\n",
       "      <th>4</th>\n",
       "      <td>12</td>\n",
       "      <td>7</td>\n",
       "    </tr>\n",
       "    <tr>\n",
       "      <th>5</th>\n",
       "      <td>1</td>\n",
       "      <td>14</td>\n",
       "    </tr>\n",
       "    <tr>\n",
       "      <th>6</th>\n",
       "      <td>17</td>\n",
       "      <td>9</td>\n",
       "    </tr>\n",
       "    <tr>\n",
       "      <th>7</th>\n",
       "      <td>10</td>\n",
       "      <td>2</td>\n",
       "    </tr>\n",
       "    <tr>\n",
       "      <th>8</th>\n",
       "      <td>3</td>\n",
       "      <td>6</td>\n",
       "    </tr>\n",
       "    <tr>\n",
       "      <th>9</th>\n",
       "      <td>6</td>\n",
       "      <td>9</td>\n",
       "    </tr>\n",
       "  </tbody>\n",
       "</table>\n",
       "</div>"
      ],
      "text/plain": [
       "    A   B\n",
       "0  15  17\n",
       "1  15   6\n",
       "2  16  13\n",
       "3   4   7\n",
       "4  12   7\n",
       "5   1  14\n",
       "6  17   9\n",
       "7  10   2\n",
       "8   3   6\n",
       "9   6   9"
      ]
     },
     "metadata": {},
     "output_type": "display_data"
    }
   ],
   "source": [
    "np.random.seed(17)\n",
    "rand_matrix = np.random.randint(20, size =(10,2))\n",
    "\n",
    "df = pd.DataFrame(rand_matrix, columns= list('AB'))\n",
    "\n",
    "display(df)"
   ]
  },
  {
   "cell_type": "markdown",
   "id": "a442b814",
   "metadata": {},
   "source": [
    "## calculo por columnas, es decir, através de las filas (axis = 0)\n",
    "### con lambda"
   ]
  },
  {
   "cell_type": "code",
   "execution_count": 4,
   "id": "59defafe",
   "metadata": {},
   "outputs": [
    {
     "name": "stdout",
     "output_type": "stream",
     "text": [
      "A    16\n",
      "B    15\n",
      "dtype: int32\n"
     ]
    }
   ],
   "source": [
    "print(df.apply(lambda x: x.max() - x.min())) # si no ponemos por defecto axis = 0"
   ]
  },
  {
   "cell_type": "code",
   "execution_count": 5,
   "id": "57a8ae51",
   "metadata": {
    "scrolled": false
   },
   "outputs": [
    {
     "name": "stdout",
     "output_type": "stream",
     "text": [
      "A    16\n",
      "B    15\n",
      "dtype: int32\n"
     ]
    }
   ],
   "source": [
    "print(df.max(axis=0)-df.min(axis= 0))"
   ]
  },
  {
   "cell_type": "code",
   "execution_count": 7,
   "id": "6a69f2de",
   "metadata": {},
   "outputs": [
    {
     "name": "stdout",
     "output_type": "stream",
     "text": [
      "0     2\n",
      "1     9\n",
      "2     3\n",
      "3     3\n",
      "4     5\n",
      "5    13\n",
      "6     8\n",
      "7     8\n",
      "8     3\n",
      "9     3\n",
      "dtype: int32\n"
     ]
    }
   ],
   "source": [
    "print(df.apply(lambda x: x.max() - x.min(), axis= 1))"
   ]
  },
  {
   "cell_type": "markdown",
   "id": "17f925b7",
   "metadata": {},
   "source": [
    "### sin lambda"
   ]
  },
  {
   "cell_type": "code",
   "execution_count": 15,
   "id": "e6b9c439",
   "metadata": {},
   "outputs": [],
   "source": [
    "def dif_max_min(serie):\n",
    "    return serie.max()-serie.min()"
   ]
  },
  {
   "cell_type": "code",
   "execution_count": 16,
   "id": "b34e9239",
   "metadata": {},
   "outputs": [
    {
     "name": "stdout",
     "output_type": "stream",
     "text": [
      "A    16\n",
      "B    15\n",
      "dtype: int32\n"
     ]
    }
   ],
   "source": [
    "print(df.apply(lambda x:dif_max_min(x))) # tecnicamente si usa el lambda "
   ]
  },
  {
   "cell_type": "code",
   "execution_count": 18,
   "id": "0f9b3e64",
   "metadata": {},
   "outputs": [
    {
     "name": "stdout",
     "output_type": "stream",
     "text": [
      "A    16\n",
      "B    15\n",
      "dtype: int32\n"
     ]
    }
   ],
   "source": [
    "print(df.apply(dif_max_min)) # funciona sin el lambda tambien"
   ]
  },
  {
   "cell_type": "markdown",
   "id": "9e8e79a4",
   "metadata": {},
   "source": [
    "## calculo por filas, es decir, a través de las columnas (axis = 1)"
   ]
  },
  {
   "cell_type": "code",
   "execution_count": 9,
   "id": "109e12ea",
   "metadata": {},
   "outputs": [
    {
     "data": {
      "text/html": [
       "<div>\n",
       "<style scoped>\n",
       "    .dataframe tbody tr th:only-of-type {\n",
       "        vertical-align: middle;\n",
       "    }\n",
       "\n",
       "    .dataframe tbody tr th {\n",
       "        vertical-align: top;\n",
       "    }\n",
       "\n",
       "    .dataframe thead th {\n",
       "        text-align: right;\n",
       "    }\n",
       "</style>\n",
       "<table border=\"1\" class=\"dataframe\">\n",
       "  <thead>\n",
       "    <tr style=\"text-align: right;\">\n",
       "      <th></th>\n",
       "      <th>0</th>\n",
       "      <th>1</th>\n",
       "      <th>2</th>\n",
       "      <th>3</th>\n",
       "    </tr>\n",
       "  </thead>\n",
       "  <tbody>\n",
       "    <tr>\n",
       "      <th>0</th>\n",
       "      <td>9</td>\n",
       "      <td>1</td>\n",
       "      <td>5</td>\n",
       "      <td>1</td>\n",
       "    </tr>\n",
       "    <tr>\n",
       "      <th>1</th>\n",
       "      <td>0</td>\n",
       "      <td>5</td>\n",
       "      <td>6</td>\n",
       "      <td>6</td>\n",
       "    </tr>\n",
       "    <tr>\n",
       "      <th>2</th>\n",
       "      <td>2</td>\n",
       "      <td>6</td>\n",
       "      <td>9</td>\n",
       "      <td>8</td>\n",
       "    </tr>\n",
       "  </tbody>\n",
       "</table>\n",
       "</div>"
      ],
      "text/plain": [
       "   0  1  2  3\n",
       "0  9  1  5  1\n",
       "1  0  5  6  6\n",
       "2  2  6  9  8"
      ]
     },
     "metadata": {},
     "output_type": "display_data"
    }
   ],
   "source": [
    "rand_matrix = np.random.randint(10, size = (3,4))\n",
    "frame = pd.DataFrame(rand_matrix)\n",
    "display(frame)"
   ]
  },
  {
   "cell_type": "markdown",
   "id": "e12c6b0e",
   "metadata": {},
   "source": [
    "### con lambda "
   ]
  },
  {
   "cell_type": "code",
   "execution_count": 10,
   "id": "559d0821",
   "metadata": {},
   "outputs": [
    {
     "name": "stdout",
     "output_type": "stream",
     "text": [
      "0    8\n",
      "1    6\n",
      "2    7\n",
      "dtype: int32\n"
     ]
    }
   ],
   "source": [
    "print(frame.apply(lambda x: x.max()- x.min(), axis = 1))"
   ]
  },
  {
   "cell_type": "code",
   "execution_count": 12,
   "id": "5064f73f",
   "metadata": {},
   "outputs": [
    {
     "name": "stdout",
     "output_type": "stream",
     "text": [
      "0    8\n",
      "1    6\n",
      "2    7\n",
      "dtype: int32\n"
     ]
    }
   ],
   "source": [
    "print(frame.max(axis=1)-frame.min(axis= 1))"
   ]
  },
  {
   "cell_type": "markdown",
   "id": "03395b9e",
   "metadata": {},
   "source": [
    "### sin lambda"
   ]
  },
  {
   "cell_type": "code",
   "execution_count": 20,
   "id": "324d4e85",
   "metadata": {},
   "outputs": [
    {
     "name": "stdout",
     "output_type": "stream",
     "text": [
      "0    8\n",
      "1    6\n",
      "2    7\n",
      "dtype: int32\n"
     ]
    }
   ],
   "source": [
    "print(frame.apply(dif_max_min, axis= 1))"
   ]
  },
  {
   "cell_type": "code",
   "execution_count": null,
   "id": "edde4c85",
   "metadata": {},
   "outputs": [],
   "source": []
  }
 ],
 "metadata": {
  "kernelspec": {
   "display_name": "Python 3 (ipykernel)",
   "language": "python",
   "name": "python3"
  },
  "language_info": {
   "codemirror_mode": {
    "name": "ipython",
    "version": 3
   },
   "file_extension": ".py",
   "mimetype": "text/x-python",
   "name": "python",
   "nbconvert_exporter": "python",
   "pygments_lexer": "ipython3",
   "version": "3.10.6"
  },
  "toc": {
   "base_numbering": 1,
   "nav_menu": {},
   "number_sections": true,
   "sideBar": true,
   "skip_h1_title": false,
   "title_cell": "Table of Contents",
   "title_sidebar": "Contents",
   "toc_cell": false,
   "toc_position": {},
   "toc_section_display": true,
   "toc_window_display": false
  }
 },
 "nbformat": 4,
 "nbformat_minor": 5
}
