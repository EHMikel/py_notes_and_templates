{
 "cells": [
  {
   "cell_type": "markdown",
   "metadata": {},
   "source": [
    "Esto es el tutorial de openai para function calling\n",
    "\n",
    "https://cookbook.openai.com/examples/how_to_call_functions_with_chat_models\n",
    "\n",
    "# How to call functions with chat models\n",
    "\n",
    "Este cuaderno explica cómo utilizar la <span style=\"color: rgb(0,255,0);\">***Chat Completions API***</span> en combinación con funciones externas para ampliar las capacidades de los modelos GPT.\n",
    "\n",
    "<span style=\"color: rgb(0,255,0);\">***Tools***</span> es un parámetro opcional de la <span style=\"color: rgb(0,255,0);\">***Chat Completions API***</span> que puede utilizarse para proporcionar especificaciones de función. El propósito de esto es permitir que los modelos generen argumentos de función que se adhieran a las especificaciones proporcionadas. Tenga en cuenta que EN ESTE EJEMPLO la API no ejecutará ninguna llamada a funciones. Corresponde a los desarrolladores ejecutar las llamadas a funciones utilizando los outputs del modelo.\n",
    "\n",
    "Dentro del parámetro <span style=\"color: rgb(0,255,0);\">***tools***</span>, si se proporciona el parámetro <span style=\"color: rgb(0,255,0);\">***functions***</span>, el modelo decidirá por defecto cuándo es apropiado utilizar una de las funciones. La API puede ser forzada a utilizar una función específica estableciendo el parámetro <span style=\"color: rgb(0,255,0);\">***tool_choice***</span> a <span style=\"color: rgb(0,255,0);\">***{\"name\":\"< insert-function-name >\"}***</span>. También se puede forzar a la API a no utilizar ninguna función estableciendo el parámetro <span style=\"color: rgb(0,255,0);\">***tool_choice***</span> como <span style=\"color: rgb(0,255,0);\">***\"none\"***</span>. Si se utiliza una función, la salida contendrá <span style=\"color: rgb(0,255,0);\">***\"finish_reason\": \"function_call\"***</span> en la respuesta, así como un objeto <span style=\"color: rgb(0,255,0);\">***tool_choice***</span> que tiene el nombre de la función y los argumentos de función generados.\n",
    "\n",
    "Este cuaderno contiene las 2 secciones siguientes:\n",
    "\n",
    "1. **Cómo generar argumentos de función**: Especificar un conjunto de funciones y utilizar la API para generar argumentos de función.\n",
    "\n",
    "2. **Cómo llamar a funciones con argumentos generados por el modelo**: Cierre el bucle ejecutando realmente funciones con argumentos generados por el modelo.\n",
    "\n",
    "# Cómo generar argumentos de función"
   ]
  },
  {
   "cell_type": "code",
   "execution_count": 1,
   "metadata": {},
   "outputs": [],
   "source": [
    "# !pip install scipy\n",
    "# !pip install tenacity\n",
    "# !pip install tiktoken\n",
    "# !pip install termcolor \n",
    "# !pip install openai\n",
    "# !pip install requests"
   ]
  },
  {
   "cell_type": "code",
   "execution_count": 1,
   "metadata": {},
   "outputs": [],
   "source": [
    "import json\n",
    "import openai\n",
    "import requests\n",
    "from tenacity import retry, wait_random_exponential, stop_after_attempt\n",
    "from termcolor import colored\n",
    "import os\n",
    "from dotenv import load_dotenv\n",
    "\n",
    "# Cargar variables de entorno desde .env\n",
    "load_dotenv()\n",
    "\n",
    "# Acceder a la API key\n",
    "api_key = os.getenv(\"API_KEY\")\n",
    "openai.api_key = api_key"
   ]
  },
  {
   "cell_type": "markdown",
   "metadata": {},
   "source": [
    "## Utilidades\n",
    "\n",
    "En primer lugar, vamos a definir algunas utilidades para realizar llamadas a la <span style=\"color: rgb(0,255,0);\">***Chat Completions API***</span> y para mantener y realizar un seguimiento del estado de la conversación."
   ]
  },
  {
   "cell_type": "code",
   "execution_count": 2,
   "metadata": {},
   "outputs": [],
   "source": [
    "#@retry(wait=wait_random_exponential(multiplier=1, max=40), stop=stop_after_attempt(3))\n",
    "def chat_completion_request(messages, tools=None, tool_choice=None, model=GPT_MODEL):\n",
    "    headers = {\n",
    "        \"Content-Type\": \"application/json\",\n",
    "        \"Authorization\": \"Bearer \" + api,      # openai.api_key\n",
    "    }\n",
    "\n",
    "    json_data = {\"model\": model, \"messages\": messages}\n",
    "\n",
    "    if tools is not None:\n",
    "        json_data.update({\"tools\": tools})\n",
    "\n",
    "    if tool_choice is not None:\n",
    "        json_data.update({\"tool_choice\": tool_choice})\n",
    "\n",
    "    try:\n",
    "        response = requests.post(\n",
    "            \"https://api.openai.com/v1/chat/completions\",\n",
    "            headers=headers,\n",
    "            json=json_data,\n",
    "        )\n",
    "        return response\n",
    "    \n",
    "    except Exception as e:\n",
    "        print(\"Unable to generate ChatCompletion response\")\n",
    "        print(f\"Exception: {e}\")\n",
    "        return e\n",
    "\n",
    "def pretty_print_conversation(messages):\n",
    "    role_to_color = {\n",
    "        \"system\": \"red\",\n",
    "        \"user\": \"green\",\n",
    "        \"assistant\": \"blue\",\n",
    "        \"tool\": \"magenta\",\n",
    "    }\n",
    "    \n",
    "    for message in messages:\n",
    "        if message[\"role\"] == \"system\":\n",
    "            print(colored(f\"system: {message['content']}\\n\", role_to_color[message[\"role\"]]))\n",
    "        elif message[\"role\"] == \"user\":\n",
    "            print(colored(f\"user: {message['content']}\\n\", role_to_color[message[\"role\"]]))\n",
    "        elif message[\"role\"] == \"assistant\" and message.get(\"function_call\"):\n",
    "            print(colored(f\"assistant: {message['function_call']}\\n\", role_to_color[message[\"role\"]]))\n",
    "        elif message[\"role\"] == \"assistant\" and not message.get(\"function_call\"):\n",
    "            print(colored(f\"assistant: {message['content']}\\n\", role_to_color[message[\"role\"]]))\n",
    "        elif message[\"role\"] == \"tool\":\n",
    "            print(colored(f\"function ({message['name']}): {message['content']}\\n\", role_to_color[message[\"role\"]]))\n"
   ]
  },
  {
   "cell_type": "markdown",
   "metadata": {},
   "source": [
    "## Conceptos básicos\n",
    "\n",
    "### tools\n",
    "\n",
    "Vamos a crear algunas especificaciones de función para interactuar con una hipotética API meteorológica. Pasaremos estas especificaciones de función a la <span style=\"color: rgb(0,255,0);\">***Chat Completions API***</span>  para generar argumentos de función que se adhieran a la especificación."
   ]
  },
  {
   "cell_type": "code",
   "execution_count": 3,
   "metadata": {},
   "outputs": [],
   "source": [
    "tools = [\n",
    "    {   \n",
    "        \"type\"    : \"function\",                            # herramienta 1 de tipo funcion\n",
    "        \"function\": {\n",
    "\n",
    "            \"name\"       : \"get_current_weather\",          # nombre de la funcion\n",
    "            \"description\": \"Get the current weather\",      # descripción de lo que la funcion\n",
    "            \"parameters\" : {                               # parametros que acepta la funcion\n",
    "\n",
    "                \"type\"      :\"object\",                     # indica que los parámtros son un objeto\n",
    "                \"properties\": {                            # propiedades (parametros de la función)\n",
    "\n",
    "                    \"location\": {                          # parametro 1 location\n",
    "                        \"type\"       : \"string\",           # el tipo de dato\n",
    "                        \"description\": \"The city and state, e.g. San Francisco, CA\",\n",
    "                    },\n",
    "                    \"format\"  : {                          # parametro 2 formato\n",
    "\n",
    "                        \"type\"       : \"string\",                    # tipo\n",
    "                        \"enum\"       : [\"celsius\", \"fahrenheit\"],   # valores permitidos\n",
    "                        \"description\": \"The temperature unit to use. Infer this from the users location.\",\n",
    "                    },\n",
    "                },\n",
    "                \"required\"  : [\"location\", \"format\"],      # cuales de los parametros son requeridos u obligatorios\n",
    "            },\n",
    "        }\n",
    "    },\n",
    "    {\n",
    "        \"type\"    : \"function\",                            # herramienta 2 de tipo función\n",
    "        \"function\": {\n",
    "\n",
    "            \"name\"       : \"get_n_day_weather_forecast\",\n",
    "            \"description\": \"Get an N-day weather forecast\",\n",
    "            \"parameters\" : {\n",
    "\n",
    "                \"type\"      : \"object\",\n",
    "                \"properties\": {\n",
    "\n",
    "                    \"location\": {\n",
    "\n",
    "                        \"type\"       : \"string\",\n",
    "                        \"description\": \"The city and state, e.g. San Francisco, CA\",\n",
    "                    },\n",
    "\n",
    "                    \"format\"   : {\n",
    "\n",
    "                        \"type\"       : \"string\",\n",
    "                        \"enum\"       : [\"celsius\", \"fahrenheit\"],\n",
    "                        \"description\": \"The temperature unit to use. Infer this from the users location.\",\n",
    "                    },\n",
    "\n",
    "                    \"num_days\": {\n",
    "\n",
    "                        \"type\"       : \"integer\",\n",
    "                        \"description\": \"The number of days to forecast\",\n",
    "                    }\n",
    "                },\n",
    "\n",
    "                \"required\": [\"location\", \"format\", \"num_days\"]\n",
    "            },\n",
    "        }\n",
    "    },\n",
    "]"
   ]
  },
  {
   "cell_type": "markdown",
   "metadata": {},
   "source": [
    "#### Explicación\n",
    "\n",
    "- Este código define dos herramientas que pueden ser llamadas como parte de una conversación utilizando la API de OpenAI.\n",
    "- Cada herramienta tiene un nombre, una descripción, y define sus parámetros.\n",
    "- Los parámetros son definidos como un objeto con propiedades específicas, incluyendo su tipo, valores permitidos (en caso de que sea necesario), y una descripción.\n",
    "- También se especifican los parámetros requeridos para cada función.\n",
    "\n",
    "### Message\n",
    "\n",
    "If we prompt the model about the current weather, it will respond with some clarifying questions."
   ]
  },
  {
   "cell_type": "code",
   "execution_count": 4,
   "metadata": {},
   "outputs": [
    {
     "data": {
      "text/plain": [
       "{'role': 'assistant',\n",
       " 'content': 'Sure, could you please let me know your current location?'}"
      ]
     },
     "execution_count": 4,
     "metadata": {},
     "output_type": "execute_result"
    }
   ],
   "source": [
    "# If we prompt the model about the current weather, it will respond with some clarifying questions.\n",
    "messages = []\n",
    "messages.append({\"role\": \"system\", \"content\": \"Don't make assumptions about what values to plug into functions. Ask for clarification if a user request is ambiguous.\"})\n",
    "messages.append({\"role\": \"user\",   \"content\": \"What's the weather like today\"})\n",
    "chat_response = chat_completion_request(\n",
    "    messages, \n",
    "    tools=tools\n",
    ")\n",
    "assistant_message = chat_response.json()[\"choices\"][0][\"message\"]\n",
    "messages.append(assistant_message)\n",
    "assistant_message"
   ]
  },
  {
   "cell_type": "markdown",
   "metadata": {},
   "source": [
    "Once we provide the missing information, it will generate the appropriate function arguments for us."
   ]
  },
  {
   "cell_type": "code",
   "execution_count": 5,
   "metadata": {},
   "outputs": [
    {
     "data": {
      "text/plain": [
       "{'role': 'assistant',\n",
       " 'content': None,\n",
       " 'tool_calls': [{'id': 'call_PHypElMcP7XA4MGwVYdmvrWa',\n",
       "   'type': 'function',\n",
       "   'function': {'name': 'get_current_weather',\n",
       "    'arguments': '{\\n  \"location\": \"Glasgow, Scotland\",\\n  \"format\": \"celsius\"\\n}'}}]}"
      ]
     },
     "execution_count": 5,
     "metadata": {},
     "output_type": "execute_result"
    }
   ],
   "source": [
    "messages.append({\"role\": \"user\", \"content\": \"I'm in Glasgow, Scotland.\"})\n",
    "chat_response = chat_completion_request(\n",
    "    messages, tools=tools\n",
    ")\n",
    "assistant_message = chat_response.json()[\"choices\"][0][\"message\"]\n",
    "messages.append(assistant_message)\n",
    "assistant_message\n"
   ]
  },
  {
   "cell_type": "markdown",
   "metadata": {},
   "source": [
    "By prompting it differently, we can get it to target the other function we've told it about."
   ]
  },
  {
   "cell_type": "code",
   "execution_count": 6,
   "metadata": {},
   "outputs": [
    {
     "data": {
      "text/plain": [
       "{'role': 'assistant',\n",
       " 'content': \"Sure, I can help you with that. Please provide the value of 'x' to get the weather forecast for the next 'x' days in Glasgow, Scotland.\"}"
      ]
     },
     "execution_count": 6,
     "metadata": {},
     "output_type": "execute_result"
    }
   ],
   "source": [
    "messages = []\n",
    "messages.append({\"role\": \"system\", \"content\": \"Don't make assumptions about what values to plug into functions. Ask for clarification if a user request is ambiguous.\"})\n",
    "messages.append({\"role\": \"user\",   \"content\": \"what is the weather going to be like in Glasgow, Scotland over the next x days\"})\n",
    "chat_response = chat_completion_request(\n",
    "    messages, tools=tools\n",
    ")\n",
    "assistant_message = chat_response.json()[\"choices\"][0][\"message\"]\n",
    "messages.append(assistant_message)\n",
    "assistant_message\n"
   ]
  },
  {
   "cell_type": "markdown",
   "metadata": {},
   "source": [
    "Once again, the model is asking us for clarification because it doesn't have enough information yet. In this case it already knows the location for the forecast, but it needs to know how many days are required in the forecast."
   ]
  },
  {
   "cell_type": "code",
   "execution_count": 7,
   "metadata": {},
   "outputs": [
    {
     "data": {
      "text/plain": [
       "{'index': 0,\n",
       " 'message': {'role': 'assistant',\n",
       "  'content': None,\n",
       "  'tool_calls': [{'id': 'call_vbvwnYGdD5Y3wfPEsNbjieAr',\n",
       "    'type': 'function',\n",
       "    'function': {'name': 'get_n_day_weather_forecast',\n",
       "     'arguments': '{\\n  \"location\": \"Glasgow, Scotland\",\\n  \"format\": \"celsius\",\\n  \"num_days\": 5\\n}'}}]},\n",
       " 'finish_reason': 'tool_calls'}"
      ]
     },
     "execution_count": 7,
     "metadata": {},
     "output_type": "execute_result"
    }
   ],
   "source": [
    "messages.append({\"role\": \"user\", \"content\": \"5 days\"})\n",
    "chat_response = chat_completion_request(\n",
    "    messages, tools=tools\n",
    ")\n",
    "chat_response.json()[\"choices\"][0]"
   ]
  },
  {
   "cell_type": "markdown",
   "metadata": {},
   "source": [
    "### Forzar el uso de funciones específicas o ninguna función\n",
    "\n",
    "Podemos forzar al modelo a utilizar una función específica, por ejemplo <span style=\"color: rgb(0,255,0);\">***get_n_day_weather_forecast***</span>  utilizando el argumento <span style=\"color: rgb(0,255,0);\">***function_call***</span> . Al hacerlo, forzamos al modelo a hacer suposiciones sobre cómo utilizarla."
   ]
  },
  {
   "cell_type": "code",
   "execution_count": 8,
   "metadata": {},
   "outputs": [
    {
     "data": {
      "text/plain": [
       "{'role': 'assistant',\n",
       " 'content': None,\n",
       " 'tool_calls': [{'id': 'call_m063WvD7rGlK01fCYAVk0Wzr',\n",
       "   'type': 'function',\n",
       "   'function': {'name': 'get_n_day_weather_forecast',\n",
       "    'arguments': '{\\n  \"location\": \"Toronto, Canada\",\\n  \"format\": \"celsius\",\\n  \"num_days\": 1\\n}'}}]}"
      ]
     },
     "execution_count": 8,
     "metadata": {},
     "output_type": "execute_result"
    }
   ],
   "source": [
    "# in this cell we force the model to use get_n_day_weather_forecast\n",
    "messages = []\n",
    "messages.append({\"role\": \"system\", \"content\": \"Don't make assumptions about what values to plug into functions. Ask for clarification if a user request is ambiguous.\"})\n",
    "messages.append({\"role\": \"user\", \"content\": \"Give me a weather report for Toronto, Canada.\"})\n",
    "chat_response = chat_completion_request(\n",
    "    messages, \n",
    "    tools=tools, \n",
    "    tool_choice={\"type\": \"function\", \"function\": {\"name\": \"get_n_day_weather_forecast\"}}\n",
    ")\n",
    "chat_response.json()[\"choices\"][0][\"message\"]"
   ]
  },
  {
   "cell_type": "code",
   "execution_count": 9,
   "metadata": {},
   "outputs": [
    {
     "data": {
      "text/plain": [
       "{'role': 'assistant',\n",
       " 'content': None,\n",
       " 'tool_calls': [{'id': 'call_Mi03xO2FknakEqNEUtaFb3Pn',\n",
       "   'type': 'function',\n",
       "   'function': {'name': 'get_current_weather',\n",
       "    'arguments': '{\\n  \"location\": \"Toronto, Canada\",\\n  \"format\": \"celsius\"\\n}'}}]}"
      ]
     },
     "execution_count": 9,
     "metadata": {},
     "output_type": "execute_result"
    }
   ],
   "source": [
    "# if we don't force the model to use get_n_day_weather_forecast it may not\n",
    "messages = []\n",
    "messages.append({\"role\": \"system\", \"content\": \"Don't make assumptions about what values to plug into functions. Ask for clarification if a user request is ambiguous.\"})\n",
    "messages.append({\"role\": \"user\", \"content\": \"Give me a weather report for Toronto, Canada.\"})\n",
    "chat_response = chat_completion_request(\n",
    "    messages, \n",
    "    tools=tools\n",
    ")\n",
    "chat_response.json()[\"choices\"][0][\"message\"]\n"
   ]
  },
  {
   "cell_type": "markdown",
   "metadata": {},
   "source": [
    "También podemos forzar al modelo a no utilizar ninguna función. De este modo evitamos que produzca una llamada a función adecuada."
   ]
  },
  {
   "cell_type": "code",
   "execution_count": 10,
   "metadata": {},
   "outputs": [
    {
     "data": {
      "text/plain": [
       "{'role': 'assistant',\n",
       " 'content': 'Please use the \"get_current_weather\" function to get the current weather for Toronto, Canada in Celsius.'}"
      ]
     },
     "execution_count": 10,
     "metadata": {},
     "output_type": "execute_result"
    }
   ],
   "source": [
    "messages = []\n",
    "messages.append({\"role\": \"system\", \"content\": \"Don't make assumptions about what values to plug into functions. Ask for clarification if a user request is ambiguous.\"})\n",
    "messages.append({\"role\": \"user\", \"content\": \"Give me the current weather (use Celcius) for Toronto, Canada.\"})\n",
    "chat_response = chat_completion_request(\n",
    "    messages, \n",
    "    tools=tools, \n",
    "    tool_choice=\"none\"\n",
    ")\n",
    "\n",
    "chat_response.json()[\"choices\"][0][\"message\"]"
   ]
  },
  {
   "cell_type": "code",
   "execution_count": null,
   "metadata": {},
   "outputs": [],
   "source": []
  },
  {
   "cell_type": "code",
   "execution_count": null,
   "metadata": {},
   "outputs": [],
   "source": []
  },
  {
   "cell_type": "markdown",
   "metadata": {},
   "source": [
    "### Llamada de funciones en paralelo - Parallel function calling\n",
    "\n",
    "Los modelos más recientes como gpt-4-1106-preview o gpt-3.5-turbo-1106 pueden llamar a múltiples funciones en un turno."
   ]
  },
  {
   "cell_type": "code",
   "execution_count": 11,
   "metadata": {},
   "outputs": [
    {
     "data": {
      "text/plain": [
       "[{'id': 'call_0XAFYmCPTS2vUMdcJFApWvyU',\n",
       "  'type': 'function',\n",
       "  'function': {'name': 'get_n_day_weather_forecast',\n",
       "   'arguments': '{\"location\": \"San Francisco, CA\", \"format\": \"celsius\", \"num_days\": 4}'}},\n",
       " {'id': 'call_aoANwTwMHsU0QOzg9QFG5HBE',\n",
       "  'type': 'function',\n",
       "  'function': {'name': 'get_n_day_weather_forecast',\n",
       "   'arguments': '{\"location\": \"Glasgow\", \"format\": \"celsius\", \"num_days\": 4}'}}]"
      ]
     },
     "execution_count": 11,
     "metadata": {},
     "output_type": "execute_result"
    }
   ],
   "source": [
    "messages = []\n",
    "messages.append({\"role\": \"system\", \"content\": \"Don't make assumptions about what values to plug into functions. Ask for clarification if a user request is ambiguous.\"})\n",
    "messages.append({\"role\": \"user\", \"content\": \"what is the weather going to be like in San Francisco and Glasgow over the next 4 days\"})\n",
    "chat_response = chat_completion_request(\n",
    "    \n",
    "    messages, \n",
    "    tools=tools, \n",
    "    model='gpt-3.5-turbo-1106'\n",
    ")\n",
    "\n",
    "chat_response.json()\n",
    "assistant_message = chat_response.json()[\"choices\"][0][\"message\"]['tool_calls']\n",
    "assistant_message"
   ]
  },
  {
   "cell_type": "markdown",
   "metadata": {},
   "source": [
    "## Cómo llamar a funciones con argumentos generados por el modelo\n",
    "\n",
    "En nuestro siguiente ejemplo, demostraremos cómo ejecutar funciones cuyas entradas son generadas por el modelo, y usaremos esto para implementar un agente que pueda responder preguntas por nosotros sobre una base de datos. Para simplificar utilizaremos la base de datos de ejemplo Chinook.\n",
    "\n",
    "Nota: La generación de SQL puede ser de alto riesgo en un entorno de producción, ya que los modelos no son perfectamente fiables a la hora de generar SQL correcto.\n",
    "\n",
    "### Especificación de una función para ejecutar consultas SQL\n",
    "\n",
    "Primero vamos a definir algunas funciones útiles para extraer datos de una base de datos SQLite."
   ]
  },
  {
   "cell_type": "code",
   "execution_count": 12,
   "metadata": {},
   "outputs": [
    {
     "ename": "OperationalError",
     "evalue": "unable to open database file",
     "output_type": "error",
     "traceback": [
      "\u001b[1;31m---------------------------------------------------------------------------\u001b[0m",
      "\u001b[1;31mOperationalError\u001b[0m                          Traceback (most recent call last)",
      "\u001b[1;32mc:\\Users\\plane\\OneDrive\\Escritorio\\COMPUTING SCIENCE\\Apuntes_plantillas\\openai_API\\01_function_calling.ipynb Cell 26\u001b[0m line \u001b[0;36m3\n\u001b[0;32m      <a href='vscode-notebook-cell:/c%3A/Users/plane/OneDrive/Escritorio/COMPUTING%20SCIENCE/Apuntes_plantillas/openai_API/01_function_calling.ipynb#X26sZmlsZQ%3D%3D?line=0'>1</a>\u001b[0m \u001b[39mimport\u001b[39;00m \u001b[39msqlite3\u001b[39;00m\n\u001b[1;32m----> <a href='vscode-notebook-cell:/c%3A/Users/plane/OneDrive/Escritorio/COMPUTING%20SCIENCE/Apuntes_plantillas/openai_API/01_function_calling.ipynb#X26sZmlsZQ%3D%3D?line=2'>3</a>\u001b[0m conn \u001b[39m=\u001b[39m sqlite3\u001b[39m.\u001b[39;49mconnect(\u001b[39m\"\u001b[39;49m\u001b[39mdata/Chinook.db\u001b[39;49m\u001b[39m\"\u001b[39;49m)\n\u001b[0;32m      <a href='vscode-notebook-cell:/c%3A/Users/plane/OneDrive/Escritorio/COMPUTING%20SCIENCE/Apuntes_plantillas/openai_API/01_function_calling.ipynb#X26sZmlsZQ%3D%3D?line=3'>4</a>\u001b[0m \u001b[39mprint\u001b[39m(\u001b[39m\"\u001b[39m\u001b[39mOpened database successfully\u001b[39m\u001b[39m\"\u001b[39m)\n",
      "\u001b[1;31mOperationalError\u001b[0m: unable to open database file"
     ]
    }
   ],
   "source": [
    "import sqlite3\n",
    "\n",
    "conn = sqlite3.connect(\"data/Chinook.db\")\n",
    "print(\"Opened database successfully\")"
   ]
  },
  {
   "cell_type": "code",
   "execution_count": 15,
   "metadata": {},
   "outputs": [],
   "source": [
    "def get_table_names(conn):\n",
    "    \"\"\"Return a list of table names.\"\"\"\n",
    "    table_names = []\n",
    "    tables = conn.execute(\"SELECT name FROM sqlite_master WHERE type='table';\")\n",
    "    for table in tables.fetchall():\n",
    "        table_names.append(table[0])\n",
    "    return table_names\n",
    "\n",
    "\n",
    "def get_column_names(conn, table_name):\n",
    "    \"\"\"Return a list of column names.\"\"\"\n",
    "    column_names = []\n",
    "    columns = conn.execute(f\"PRAGMA table_info('{table_name}');\").fetchall()\n",
    "    for col in columns:\n",
    "        column_names.append(col[1])\n",
    "    return column_names\n",
    "\n",
    "\n",
    "def get_database_info(conn):\n",
    "    \"\"\"Return a list of dicts containing the table name and columns for each table in the database.\"\"\"\n",
    "    table_dicts = []\n",
    "    for table_name in get_table_names(conn):\n",
    "        columns_names = get_column_names(conn, table_name)\n",
    "        table_dicts.append({\"table_name\": table_name, \"column_names\": columns_names})\n",
    "    return table_dicts\n"
   ]
  },
  {
   "cell_type": "markdown",
   "metadata": {},
   "source": [
    "Ahora puede utilizar estas funciones de utilidad para extraer una representación del esquema de la base de datos."
   ]
  },
  {
   "cell_type": "code",
   "execution_count": 16,
   "metadata": {},
   "outputs": [
    {
     "ename": "NameError",
     "evalue": "name 'conn' is not defined",
     "output_type": "error",
     "traceback": [
      "\u001b[1;31m---------------------------------------------------------------------------\u001b[0m",
      "\u001b[1;31mNameError\u001b[0m                                 Traceback (most recent call last)",
      "\u001b[1;32mc:\\Users\\plane\\OneDrive\\Escritorio\\COMPUTING SCIENCE\\Apuntes_plantillas\\openai_API\\01_function_calling.ipynb Cell 29\u001b[0m line \u001b[0;36m1\n\u001b[1;32m----> <a href='vscode-notebook-cell:/c%3A/Users/plane/OneDrive/Escritorio/COMPUTING%20SCIENCE/Apuntes_plantillas/openai_API/01_function_calling.ipynb#X44sZmlsZQ%3D%3D?line=0'>1</a>\u001b[0m database_schema_dict \u001b[39m=\u001b[39m get_database_info(conn)\n\u001b[0;32m      <a href='vscode-notebook-cell:/c%3A/Users/plane/OneDrive/Escritorio/COMPUTING%20SCIENCE/Apuntes_plantillas/openai_API/01_function_calling.ipynb#X44sZmlsZQ%3D%3D?line=1'>2</a>\u001b[0m database_schema_string \u001b[39m=\u001b[39m \u001b[39m\"\u001b[39m\u001b[39m\\n\u001b[39;00m\u001b[39m\"\u001b[39m\u001b[39m.\u001b[39mjoin(\n\u001b[0;32m      <a href='vscode-notebook-cell:/c%3A/Users/plane/OneDrive/Escritorio/COMPUTING%20SCIENCE/Apuntes_plantillas/openai_API/01_function_calling.ipynb#X44sZmlsZQ%3D%3D?line=2'>3</a>\u001b[0m     [\n\u001b[0;32m      <a href='vscode-notebook-cell:/c%3A/Users/plane/OneDrive/Escritorio/COMPUTING%20SCIENCE/Apuntes_plantillas/openai_API/01_function_calling.ipynb#X44sZmlsZQ%3D%3D?line=3'>4</a>\u001b[0m         \u001b[39mf\u001b[39m\u001b[39m\"\u001b[39m\u001b[39mTable: \u001b[39m\u001b[39m{\u001b[39;00mtable[\u001b[39m'\u001b[39m\u001b[39mtable_name\u001b[39m\u001b[39m'\u001b[39m]\u001b[39m}\u001b[39;00m\u001b[39m\\n\u001b[39;00m\u001b[39mColumns: \u001b[39m\u001b[39m{\u001b[39;00m\u001b[39m'\u001b[39m\u001b[39m, \u001b[39m\u001b[39m'\u001b[39m\u001b[39m.\u001b[39mjoin(table[\u001b[39m'\u001b[39m\u001b[39mcolumn_names\u001b[39m\u001b[39m'\u001b[39m])\u001b[39m}\u001b[39;00m\u001b[39m\"\u001b[39m\n\u001b[0;32m      <a href='vscode-notebook-cell:/c%3A/Users/plane/OneDrive/Escritorio/COMPUTING%20SCIENCE/Apuntes_plantillas/openai_API/01_function_calling.ipynb#X44sZmlsZQ%3D%3D?line=4'>5</a>\u001b[0m         \u001b[39mfor\u001b[39;00m table \u001b[39min\u001b[39;00m database_schema_dict\n\u001b[0;32m      <a href='vscode-notebook-cell:/c%3A/Users/plane/OneDrive/Escritorio/COMPUTING%20SCIENCE/Apuntes_plantillas/openai_API/01_function_calling.ipynb#X44sZmlsZQ%3D%3D?line=5'>6</a>\u001b[0m     ]\n\u001b[0;32m      <a href='vscode-notebook-cell:/c%3A/Users/plane/OneDrive/Escritorio/COMPUTING%20SCIENCE/Apuntes_plantillas/openai_API/01_function_calling.ipynb#X44sZmlsZQ%3D%3D?line=6'>7</a>\u001b[0m )\n",
      "\u001b[1;31mNameError\u001b[0m: name 'conn' is not defined"
     ]
    }
   ],
   "source": [
    "database_schema_dict = get_database_info(conn)\n",
    "database_schema_string = \"\\n\".join(\n",
    "    [\n",
    "        f\"Table: {table['table_name']}\\nColumns: {', '.join(table['column_names'])}\"\n",
    "        for table in database_schema_dict\n",
    "    ]\n",
    ")"
   ]
  },
  {
   "cell_type": "markdown",
   "metadata": {},
   "source": [
    "Como antes, definiremos una especificación de función para la función para la que queremos que la API genere argumentos. Observa que estamos insertando el esquema de la base de datos en la especificación de la función. Esto será importante para el modelo a conocer."
   ]
  },
  {
   "cell_type": "code",
   "execution_count": 13,
   "metadata": {},
   "outputs": [
    {
     "ename": "NameError",
     "evalue": "name 'database_schema_string' is not defined",
     "output_type": "error",
     "traceback": [
      "\u001b[1;31m---------------------------------------------------------------------------\u001b[0m",
      "\u001b[1;31mNameError\u001b[0m                                 Traceback (most recent call last)",
      "\u001b[1;32mc:\\Users\\plane\\OneDrive\\Escritorio\\COMPUTING SCIENCE\\Apuntes_plantillas\\openai_API\\01_function_calling.ipynb Cell 31\u001b[0m line \u001b[0;36m1\n\u001b[0;32m      <a href='vscode-notebook-cell:/c%3A/Users/plane/OneDrive/Escritorio/COMPUTING%20SCIENCE/Apuntes_plantillas/openai_API/01_function_calling.ipynb#X46sZmlsZQ%3D%3D?line=0'>1</a>\u001b[0m tools \u001b[39m=\u001b[39m [\n\u001b[0;32m      <a href='vscode-notebook-cell:/c%3A/Users/plane/OneDrive/Escritorio/COMPUTING%20SCIENCE/Apuntes_plantillas/openai_API/01_function_calling.ipynb#X46sZmlsZQ%3D%3D?line=1'>2</a>\u001b[0m     {\n\u001b[0;32m      <a href='vscode-notebook-cell:/c%3A/Users/plane/OneDrive/Escritorio/COMPUTING%20SCIENCE/Apuntes_plantillas/openai_API/01_function_calling.ipynb#X46sZmlsZQ%3D%3D?line=2'>3</a>\u001b[0m         \u001b[39m\"\u001b[39m\u001b[39mtype\u001b[39m\u001b[39m\"\u001b[39m: \u001b[39m\"\u001b[39m\u001b[39mfunction\u001b[39m\u001b[39m\"\u001b[39m,\n\u001b[0;32m      <a href='vscode-notebook-cell:/c%3A/Users/plane/OneDrive/Escritorio/COMPUTING%20SCIENCE/Apuntes_plantillas/openai_API/01_function_calling.ipynb#X46sZmlsZQ%3D%3D?line=3'>4</a>\u001b[0m         \u001b[39m\"\u001b[39m\u001b[39mfunction\u001b[39m\u001b[39m\"\u001b[39m: {\n\u001b[0;32m      <a href='vscode-notebook-cell:/c%3A/Users/plane/OneDrive/Escritorio/COMPUTING%20SCIENCE/Apuntes_plantillas/openai_API/01_function_calling.ipynb#X46sZmlsZQ%3D%3D?line=4'>5</a>\u001b[0m             \u001b[39m\"\u001b[39m\u001b[39mname\u001b[39m\u001b[39m\"\u001b[39m: \u001b[39m\"\u001b[39m\u001b[39mask_database\u001b[39m\u001b[39m\"\u001b[39m,\n\u001b[0;32m      <a href='vscode-notebook-cell:/c%3A/Users/plane/OneDrive/Escritorio/COMPUTING%20SCIENCE/Apuntes_plantillas/openai_API/01_function_calling.ipynb#X46sZmlsZQ%3D%3D?line=5'>6</a>\u001b[0m             \u001b[39m\"\u001b[39m\u001b[39mdescription\u001b[39m\u001b[39m\"\u001b[39m: \u001b[39m\"\u001b[39m\u001b[39mUse this function to answer user questions about music. Input should be a fully formed SQL query.\u001b[39m\u001b[39m\"\u001b[39m,\n\u001b[0;32m      <a href='vscode-notebook-cell:/c%3A/Users/plane/OneDrive/Escritorio/COMPUTING%20SCIENCE/Apuntes_plantillas/openai_API/01_function_calling.ipynb#X46sZmlsZQ%3D%3D?line=6'>7</a>\u001b[0m             \u001b[39m\"\u001b[39m\u001b[39mparameters\u001b[39m\u001b[39m\"\u001b[39m: {\n\u001b[0;32m      <a href='vscode-notebook-cell:/c%3A/Users/plane/OneDrive/Escritorio/COMPUTING%20SCIENCE/Apuntes_plantillas/openai_API/01_function_calling.ipynb#X46sZmlsZQ%3D%3D?line=7'>8</a>\u001b[0m                 \u001b[39m\"\u001b[39m\u001b[39mtype\u001b[39m\u001b[39m\"\u001b[39m: \u001b[39m\"\u001b[39m\u001b[39mobject\u001b[39m\u001b[39m\"\u001b[39m,\n\u001b[0;32m      <a href='vscode-notebook-cell:/c%3A/Users/plane/OneDrive/Escritorio/COMPUTING%20SCIENCE/Apuntes_plantillas/openai_API/01_function_calling.ipynb#X46sZmlsZQ%3D%3D?line=8'>9</a>\u001b[0m                 \u001b[39m\"\u001b[39m\u001b[39mproperties\u001b[39m\u001b[39m\"\u001b[39m: {\n\u001b[0;32m     <a href='vscode-notebook-cell:/c%3A/Users/plane/OneDrive/Escritorio/COMPUTING%20SCIENCE/Apuntes_plantillas/openai_API/01_function_calling.ipynb#X46sZmlsZQ%3D%3D?line=9'>10</a>\u001b[0m                     \u001b[39m\"\u001b[39m\u001b[39mquery\u001b[39m\u001b[39m\"\u001b[39m: {\n\u001b[0;32m     <a href='vscode-notebook-cell:/c%3A/Users/plane/OneDrive/Escritorio/COMPUTING%20SCIENCE/Apuntes_plantillas/openai_API/01_function_calling.ipynb#X46sZmlsZQ%3D%3D?line=10'>11</a>\u001b[0m                         \u001b[39m\"\u001b[39m\u001b[39mtype\u001b[39m\u001b[39m\"\u001b[39m: \u001b[39m\"\u001b[39m\u001b[39mstring\u001b[39m\u001b[39m\"\u001b[39m,\n\u001b[0;32m     <a href='vscode-notebook-cell:/c%3A/Users/plane/OneDrive/Escritorio/COMPUTING%20SCIENCE/Apuntes_plantillas/openai_API/01_function_calling.ipynb#X46sZmlsZQ%3D%3D?line=11'>12</a>\u001b[0m                         \u001b[39m\"\u001b[39m\u001b[39mdescription\u001b[39m\u001b[39m\"\u001b[39m: \u001b[39mf\u001b[39m\u001b[39m\"\"\"\u001b[39m\n\u001b[0;32m     <a href='vscode-notebook-cell:/c%3A/Users/plane/OneDrive/Escritorio/COMPUTING%20SCIENCE/Apuntes_plantillas/openai_API/01_function_calling.ipynb#X46sZmlsZQ%3D%3D?line=12'>13</a>\u001b[0m \u001b[39m                                SQL query extracting info to answer the user\u001b[39m\u001b[39m'\u001b[39m\u001b[39ms question.\u001b[39m\n\u001b[0;32m     <a href='vscode-notebook-cell:/c%3A/Users/plane/OneDrive/Escritorio/COMPUTING%20SCIENCE/Apuntes_plantillas/openai_API/01_function_calling.ipynb#X46sZmlsZQ%3D%3D?line=13'>14</a>\u001b[0m \u001b[39m                                SQL should be written using this database schema:\u001b[39m\n\u001b[1;32m---> <a href='vscode-notebook-cell:/c%3A/Users/plane/OneDrive/Escritorio/COMPUTING%20SCIENCE/Apuntes_plantillas/openai_API/01_function_calling.ipynb#X46sZmlsZQ%3D%3D?line=14'>15</a>\u001b[0m \u001b[39m                                \u001b[39m\u001b[39m{\u001b[39;00mdatabase_schema_string\u001b[39m}\u001b[39;00m\n\u001b[0;32m     <a href='vscode-notebook-cell:/c%3A/Users/plane/OneDrive/Escritorio/COMPUTING%20SCIENCE/Apuntes_plantillas/openai_API/01_function_calling.ipynb#X46sZmlsZQ%3D%3D?line=15'>16</a>\u001b[0m \u001b[39m                                The query should be returned in plain text, not in JSON.\u001b[39m\n\u001b[0;32m     <a href='vscode-notebook-cell:/c%3A/Users/plane/OneDrive/Escritorio/COMPUTING%20SCIENCE/Apuntes_plantillas/openai_API/01_function_calling.ipynb#X46sZmlsZQ%3D%3D?line=16'>17</a>\u001b[0m \u001b[39m                                \u001b[39m\u001b[39m\"\"\"\u001b[39m,\n\u001b[0;32m     <a href='vscode-notebook-cell:/c%3A/Users/plane/OneDrive/Escritorio/COMPUTING%20SCIENCE/Apuntes_plantillas/openai_API/01_function_calling.ipynb#X46sZmlsZQ%3D%3D?line=17'>18</a>\u001b[0m                     }\n\u001b[0;32m     <a href='vscode-notebook-cell:/c%3A/Users/plane/OneDrive/Escritorio/COMPUTING%20SCIENCE/Apuntes_plantillas/openai_API/01_function_calling.ipynb#X46sZmlsZQ%3D%3D?line=18'>19</a>\u001b[0m                 },\n\u001b[0;32m     <a href='vscode-notebook-cell:/c%3A/Users/plane/OneDrive/Escritorio/COMPUTING%20SCIENCE/Apuntes_plantillas/openai_API/01_function_calling.ipynb#X46sZmlsZQ%3D%3D?line=19'>20</a>\u001b[0m                 \u001b[39m\"\u001b[39m\u001b[39mrequired\u001b[39m\u001b[39m\"\u001b[39m: [\u001b[39m\"\u001b[39m\u001b[39mquery\u001b[39m\u001b[39m\"\u001b[39m],\n\u001b[0;32m     <a href='vscode-notebook-cell:/c%3A/Users/plane/OneDrive/Escritorio/COMPUTING%20SCIENCE/Apuntes_plantillas/openai_API/01_function_calling.ipynb#X46sZmlsZQ%3D%3D?line=20'>21</a>\u001b[0m             },\n\u001b[0;32m     <a href='vscode-notebook-cell:/c%3A/Users/plane/OneDrive/Escritorio/COMPUTING%20SCIENCE/Apuntes_plantillas/openai_API/01_function_calling.ipynb#X46sZmlsZQ%3D%3D?line=21'>22</a>\u001b[0m         }\n\u001b[0;32m     <a href='vscode-notebook-cell:/c%3A/Users/plane/OneDrive/Escritorio/COMPUTING%20SCIENCE/Apuntes_plantillas/openai_API/01_function_calling.ipynb#X46sZmlsZQ%3D%3D?line=22'>23</a>\u001b[0m     }\n\u001b[0;32m     <a href='vscode-notebook-cell:/c%3A/Users/plane/OneDrive/Escritorio/COMPUTING%20SCIENCE/Apuntes_plantillas/openai_API/01_function_calling.ipynb#X46sZmlsZQ%3D%3D?line=23'>24</a>\u001b[0m ]\n",
      "\u001b[1;31mNameError\u001b[0m: name 'database_schema_string' is not defined"
     ]
    }
   ],
   "source": [
    "tools = [\n",
    "    {\n",
    "        \"type\": \"function\",\n",
    "        \"function\": {\n",
    "            \"name\": \"ask_database\",\n",
    "            \"description\": \"Use this function to answer user questions about music. Input should be a fully formed SQL query.\",\n",
    "            \"parameters\": {\n",
    "                \"type\": \"object\",\n",
    "                \"properties\": {\n",
    "                    \"query\": {\n",
    "                        \"type\": \"string\",\n",
    "                        \"description\": f\"\"\"\n",
    "                                SQL query extracting info to answer the user's question.\n",
    "                                SQL should be written using this database schema:\n",
    "                                {database_schema_string}\n",
    "                                The query should be returned in plain text, not in JSON.\n",
    "                                \"\"\",\n",
    "                    }\n",
    "                },\n",
    "                \"required\": [\"query\"],\n",
    "            },\n",
    "        }\n",
    "    }\n",
    "]"
   ]
  },
  {
   "cell_type": "markdown",
   "metadata": {},
   "source": [
    "### Ejecución de consultas SQL\n",
    "\n",
    "Ahora vamos a implementar la función que realmente ejecutará las consultas contra la base de datos."
   ]
  },
  {
   "cell_type": "code",
   "execution_count": null,
   "metadata": {},
   "outputs": [],
   "source": [
    "def ask_database(conn, query):\n",
    "    \"\"\"Function to query SQLite database with a provided SQL query.\"\"\"\n",
    "    try:\n",
    "        results = str(conn.execute(query).fetchall())\n",
    "    except Exception as e:\n",
    "        results = f\"query failed with error: {e}\"\n",
    "    return results\n",
    "\n",
    "def execute_function_call(message):\n",
    "    if message[\"tool_calls\"][0][\"function\"][\"name\"] == \"ask_database\":\n",
    "        query = json.loads(message[\"tool_calls\"][0][\"function\"][\"arguments\"])[\"query\"]\n",
    "        results = ask_database(conn, query)\n",
    "    else:\n",
    "        results = f\"Error: function {message['tool_calls'][0]['function']['name']} does not exist\"\n",
    "    return results"
   ]
  },
  {
   "cell_type": "code",
   "execution_count": null,
   "metadata": {},
   "outputs": [],
   "source": [
    "messages = []\n",
    "messages.append({\"role\": \"system\", \"content\": \"Answer user questions by generating SQL queries against the Chinook Music Database.\"})\n",
    "messages.append({\"role\": \"user\", \"content\": \"Hi, who are the top 5 artists by number of tracks?\"})\n",
    "chat_response = chat_completion_request(messages, tools)\n",
    "assistant_message = chat_response.json()[\"choices\"][0][\"message\"]\n",
    "assistant_message['content'] = str(assistant_message[\"tool_calls\"][0][\"function\"])\n",
    "messages.append(assistant_message)\n",
    "if assistant_message.get(\"tool_calls\"):\n",
    "    results = execute_function_call(assistant_message)\n",
    "    messages.append({\"role\": \"tool\", \"tool_call_id\": assistant_message[\"tool_calls\"][0]['id'], \"name\": assistant_message[\"tool_calls\"][0][\"function\"][\"name\"], \"content\": results})\n",
    "pretty_print_conversation(messages)"
   ]
  },
  {
   "cell_type": "code",
   "execution_count": null,
   "metadata": {},
   "outputs": [],
   "source": [
    "messages.append({\"role\": \"user\", \"content\": \"What is the name of the album with the most tracks?\"})\n",
    "chat_response = chat_completion_request(messages, tools)\n",
    "assistant_message = chat_response.json()[\"choices\"][0][\"message\"]\n",
    "assistant_message['content'] = str(assistant_message[\"tool_calls\"][0][\"function\"])\n",
    "messages.append(assistant_message)\n",
    "if assistant_message.get(\"tool_calls\"):\n",
    "    results = execute_function_call(assistant_message)\n",
    "    messages.append({\"role\": \"tool\", \"tool_call_id\": assistant_message[\"tool_calls\"][0]['id'], \"name\": assistant_message[\"tool_calls\"][0][\"function\"][\"name\"], \"content\": results})\n",
    "pretty_print_conversation(messages)"
   ]
  },
  {
   "cell_type": "code",
   "execution_count": null,
   "metadata": {},
   "outputs": [],
   "source": []
  },
  {
   "cell_type": "code",
   "execution_count": null,
   "metadata": {},
   "outputs": [],
   "source": []
  }
 ],
 "metadata": {
  "kernelspec": {
   "display_name": "venv",
   "language": "python",
   "name": "python3"
  },
  "language_info": {
   "codemirror_mode": {
    "name": "ipython",
    "version": 3
   },
   "file_extension": ".py",
   "mimetype": "text/x-python",
   "name": "python",
   "nbconvert_exporter": "python",
   "pygments_lexer": "ipython3",
   "version": "3.9.11"
  }
 },
 "nbformat": 4,
 "nbformat_minor": 2
}
