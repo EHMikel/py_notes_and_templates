{
 "cells": [
  {
   "cell_type": "markdown",
   "id": "4b5dac11",
   "metadata": {},
   "source": [
    "# imports"
   ]
  },
  {
   "cell_type": "code",
   "execution_count": 1,
   "id": "d1ddb480",
   "metadata": {},
   "outputs": [],
   "source": [
    "from sklearn.datasets import load_iris\n",
    "from sklearn.model_selection import GridSearchCV, KFold\n",
    "from sklearn.preprocessing import StandardScaler\n",
    "from sklearn.svm import SVC\n",
    "import pandas as pd\n",
    "import numpy as np\n",
    "import matplotlib.pyplot as plt\n",
    "from sklearn.model_selection import train_test_split"
   ]
  },
  {
   "cell_type": "markdown",
   "id": "e2c7c4d8",
   "metadata": {},
   "source": [
    "# cargar el dataset"
   ]
  },
  {
   "cell_type": "code",
   "execution_count": 2,
   "id": "1b4be2e6",
   "metadata": {},
   "outputs": [
    {
     "data": {
      "text/html": [
       "<div>\n",
       "<style scoped>\n",
       "    .dataframe tbody tr th:only-of-type {\n",
       "        vertical-align: middle;\n",
       "    }\n",
       "\n",
       "    .dataframe tbody tr th {\n",
       "        vertical-align: top;\n",
       "    }\n",
       "\n",
       "    .dataframe thead th {\n",
       "        text-align: right;\n",
       "    }\n",
       "</style>\n",
       "<table border=\"1\" class=\"dataframe\">\n",
       "  <thead>\n",
       "    <tr style=\"text-align: right;\">\n",
       "      <th></th>\n",
       "      <th>sepal length (cm)</th>\n",
       "      <th>sepal width (cm)</th>\n",
       "      <th>petal length (cm)</th>\n",
       "      <th>petal width (cm)</th>\n",
       "      <th>flower</th>\n",
       "    </tr>\n",
       "  </thead>\n",
       "  <tbody>\n",
       "    <tr>\n",
       "      <th>91</th>\n",
       "      <td>6.1</td>\n",
       "      <td>3.0</td>\n",
       "      <td>4.6</td>\n",
       "      <td>1.4</td>\n",
       "      <td>1</td>\n",
       "    </tr>\n",
       "    <tr>\n",
       "      <th>76</th>\n",
       "      <td>6.8</td>\n",
       "      <td>2.8</td>\n",
       "      <td>4.8</td>\n",
       "      <td>1.4</td>\n",
       "      <td>1</td>\n",
       "    </tr>\n",
       "    <tr>\n",
       "      <th>134</th>\n",
       "      <td>6.1</td>\n",
       "      <td>2.6</td>\n",
       "      <td>5.6</td>\n",
       "      <td>1.4</td>\n",
       "      <td>2</td>\n",
       "    </tr>\n",
       "    <tr>\n",
       "      <th>80</th>\n",
       "      <td>5.5</td>\n",
       "      <td>2.4</td>\n",
       "      <td>3.8</td>\n",
       "      <td>1.1</td>\n",
       "      <td>1</td>\n",
       "    </tr>\n",
       "    <tr>\n",
       "      <th>16</th>\n",
       "      <td>5.4</td>\n",
       "      <td>3.9</td>\n",
       "      <td>1.3</td>\n",
       "      <td>0.4</td>\n",
       "      <td>0</td>\n",
       "    </tr>\n",
       "  </tbody>\n",
       "</table>\n",
       "</div>"
      ],
      "text/plain": [
       "     sepal length (cm)  sepal width (cm)  petal length (cm)  petal width (cm)  \\\n",
       "91                 6.1               3.0                4.6               1.4   \n",
       "76                 6.8               2.8                4.8               1.4   \n",
       "134                6.1               2.6                5.6               1.4   \n",
       "80                 5.5               2.4                3.8               1.1   \n",
       "16                 5.4               3.9                1.3               0.4   \n",
       "\n",
       "     flower  \n",
       "91        1  \n",
       "76        1  \n",
       "134       2  \n",
       "80        1  \n",
       "16        0  "
      ]
     },
     "execution_count": 2,
     "metadata": {},
     "output_type": "execute_result"
    }
   ],
   "source": [
    "iris = load_iris()\n",
    "df = pd.DataFrame(iris.data, columns= iris.feature_names)\n",
    "df['flower'] = iris.target\n",
    "\n",
    "df.sample(5)"
   ]
  },
  {
   "cell_type": "markdown",
   "id": "0c3754a8",
   "metadata": {},
   "source": [
    "# split y hold out"
   ]
  },
  {
   "cell_type": "code",
   "execution_count": 3,
   "id": "3ee490e3",
   "metadata": {},
   "outputs": [],
   "source": [
    "X = df[['sepal length (cm)', 'sepal width (cm)', 'petal length (cm)', 'petal width (cm)']]\n",
    "y = df['flower']\n",
    "\n",
    "X_train, X_test, y_train, y_test = train_test_split(X, y, test_size = 0.3, random_state=42)\n",
    "\n",
    "scaler = StandardScaler()\n",
    "X_train = scaler.fit_transform(X_train.values)\n",
    "X_test = scaler.transform(X_test.values)"
   ]
  },
  {
   "cell_type": "markdown",
   "id": "cedbbc90",
   "metadata": {},
   "source": [
    "# SVM\n",
    "\n",
    "class sklearn.svm.SVR(*, kernel='rbf', degree=3, gamma='scale', coef0=0.0, tol=0.001, C=1.0, epsilon=0.1, shrinking=True, cache_size=200, verbose=False, max_iter=-1)[source]¶\n",
    "\n",
    "- **C** float, default=1.0\n",
    "\n",
    "    Regularization parameter. The strength of the regularization is inversely proportional to C. Must be strictly positive.     The penalty is a squared l2 penalty.\n",
    "\n",
    "\n",
    "- **kernel** = {'linear', 'poly', 'rbf', 'sigmoid', 'precomputed'}\n",
    "\n",
    "    Specifies the kernel type to be used in the algorithm. If none is given, ‘rbf’ will be used. If a callable is given it     is used to pre-compute the kernel matrix from data matrices; that matrix should be an array of shape \n",
    "    \n",
    "    \n",
    "- **gamma** = {'scale', 'auto'} or float, default='scale'\n",
    "\n",
    "    Kernel coefficient for 'rbf', 'poly' and 'sigmoid'.\n",
    "\n",
    "    if gamma='scale' (default) is passed then it uses 1 / (n_features * X.var()) as value of gamma,\n",
    "\n",
    "     if ‘auto’, uses 1 / n_features\n",
    "\n",
    "     if float, must be non-negative.\n",
    "     \n",
    "     \n",
    "- **decision_function_shape** = {'ovo', 'ovr'}, default='ovr'\n",
    "\n",
    "    Whether to return a one-vs-rest (‘ovr’) decision function of shape (n_samples, n_classes) as all other classifiers, or     the original one-vs-one (‘ovo’) decision function of libsvm which has shape (n_samples, n_classes * (n_classes - 1) /       2). However, note that internally, one-vs-one (‘ovo’) is always used as a multi-class strategy to train models; an ovr     matrix is only constructed from the ovo matrix. The parameter is ignored for binary classification."
   ]
  },
  {
   "cell_type": "code",
   "execution_count": 4,
   "id": "59cc1782",
   "metadata": {},
   "outputs": [
    {
     "name": "stdout",
     "output_type": "stream",
     "text": [
      "SVC(C=1, gamma='auto', kernel='linear')\n",
      "{'C': 1, 'kernel': 'linear'}\n"
     ]
    }
   ],
   "source": [
    "hiperparams = {'C': [0.1 ,1, 10, 20, 50],\n",
    "               'kernel': ['rbf', 'linear']}\n",
    "\n",
    "grid_search_SVC = GridSearchCV(estimator= SVC(gamma= 'auto'),                      # el modelo\n",
    "                          param_grid= hiperparams,                                 # red de hiperparametros\n",
    "                          scoring='accuracy',                                      # metrica a optimizar\n",
    "                          cv= KFold(n_splits= 5, shuffle= True, random_state=42),  # cross validation interna\n",
    "                          n_jobs= -1,                                              # usa todos los nucleos de la cpu\n",
    "                         ) \n",
    "grid_search_SVC.fit(X_train, y_train)\n",
    "\n",
    "print(grid_search_SVC.best_estimator_)\n",
    "print(grid_search_SVC.best_params_)"
   ]
  },
  {
   "cell_type": "code",
   "execution_count": 14,
   "id": "897f9917",
   "metadata": {},
   "outputs": [],
   "source": [
    "metricas = {\n",
    "  'ACC':    lambda y_true, y_pred: metrics.accuracy_score(y_true, y_pred),\n",
    "  'PREC':   lambda y_true, y_pred:metrics.precision_score(y_true, y_pred, average= 'macro'),\n",
    "  'RECALL': lambda y_true, y_pred:\n",
    "            metrics.recall_score(y_true, y_pred, average= 'macro'),\n",
    "  'F1':     lambda y_true, y_pred:\n",
    "            metrics.f1_score(y_true, y_pred, average= 'macro'),\n",
    "#  \"AUC\":    lambda y_true, y_pred: metrics.roc_auc_score(y_true, y_pred)\n",
    "}\n",
    "# hiperparams = {'C': [0.1 ,1, 10, 20, 50],\n",
    "#                'kernel': ['rbf', 'linear']}\n",
    "\n",
    "\n",
    "# # para mas de una metrica\n",
    "# grid_search_SVC = GridSearchCV(estimator= SVC(gamma= 'auto'),                      # el modelo\n",
    "#                           param_grid= hiperparams,                                 # red de hiperparametros\n",
    "#                           scoring=metricas,                                        # metrica a optimizar\n",
    "#                           cv= KFold(n_splits= 5, shuffle= True, random_state=42),  # cross validation interna\n",
    "#                           n_jobs= -1,                                              # usa todos los nucleos de la cpu\n",
    "#                           refit= 'F1'\n",
    "#                          ) \n",
    "# grid_search_SVC.fit(X_train, y_train)\n",
    "\n",
    "# print(grid_search_SVC.best_estimator_)\n",
    "# print(grid_search_SVC.best_params_)"
   ]
  },
  {
   "cell_type": "code",
   "execution_count": 18,
   "id": "f230af6c",
   "metadata": {},
   "outputs": [
    {
     "name": "stdout",
     "output_type": "stream",
     "text": [
      "para la metrica ACC \t  se obtienen un valor de \t  ---> \t 0.9777777777777777\n",
      "para la metrica PREC \t  se obtienen un valor de \t  ---> \t 0.9743589743589745\n",
      "para la metrica RECALL \t  se obtienen un valor de \t  ---> \t 0.9761904761904763\n",
      "para la metrica F1 \t  se obtienen un valor de \t  ---> \t 0.974320987654321\n"
     ]
    }
   ],
   "source": [
    "from sklearn import metrics\n",
    "best_SVC_model = grid_search_SVC.best_estimator_\n",
    "\n",
    "best_SVC_model.fit(X_train, y_train)\n",
    "\n",
    "y_pred = best_SVC_model.predict(X_test)\n",
    "\n",
    "for nombre, metrica in metricas.items():\n",
    "    print(f'para la metrica {nombre} \\t  se obtienen un valor de \\t  ---> \\t {metrica(y_pred, y_test)}')"
   ]
  },
  {
   "cell_type": "code",
   "execution_count": null,
   "id": "eb686845",
   "metadata": {},
   "outputs": [],
   "source": []
  }
 ],
 "metadata": {
  "kernelspec": {
   "display_name": "Python 3 (ipykernel)",
   "language": "python",
   "name": "python3"
  },
  "language_info": {
   "codemirror_mode": {
    "name": "ipython",
    "version": 3
   },
   "file_extension": ".py",
   "mimetype": "text/x-python",
   "name": "python",
   "nbconvert_exporter": "python",
   "pygments_lexer": "ipython3",
   "version": "3.10.6"
  },
  "toc": {
   "base_numbering": 1,
   "nav_menu": {},
   "number_sections": true,
   "sideBar": true,
   "skip_h1_title": false,
   "title_cell": "Table of Contents",
   "title_sidebar": "Contents",
   "toc_cell": false,
   "toc_position": {},
   "toc_section_display": true,
   "toc_window_display": false
  }
 },
 "nbformat": 4,
 "nbformat_minor": 5
}
