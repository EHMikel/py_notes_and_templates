{
 "cells": [
  {
   "cell_type": "code",
   "execution_count": 1,
   "id": "5dc5a575",
   "metadata": {},
   "outputs": [],
   "source": [
    "import numpy as np\n",
    "import pandas as pd\n",
    "from sklearn.model_selection import cross_validate, cross_val_predict, cross_val_score, KFold\n",
    "from math import sqrt\n",
    "from pprint import pprint\n",
    "from sklearn import datasets, linear_model, metrics\n",
    "from sklearn.dummy import DummyRegressor\n",
    "from sklearn.model_selection import train_test_split\n",
    "from sklearn import preprocessing\n",
    "from sklearn.metrics import make_scorer, mean_squared_error\n",
    "import matplotlib.pyplot as plt\n",
    "from sklearn.model_selection import GridSearchCV \n",
    "from sklearn.preprocessing import StandardScaler"
   ]
  },
  {
   "cell_type": "markdown",
   "id": "6941a678",
   "metadata": {},
   "source": [
    "# Ejemplo tonto KFold CV\n",
    "\n",
    "Init signature: KFold(n_splits=5, *, shuffle=False, random_state=None)\n",
    "\n",
    "\n",
    "Provides train/test indices to split data in train/test sets. Split\n",
    "dataset into k consecutive folds (without shuffling by default).\n",
    "\n",
    "Each fold is then used once as a validation while the k - 1 remaining\n",
    "folds form the training set.\n",
    "\n",
    "\n",
    "Parameters\n",
    "----------\n",
    "- **n_splits** : int, default=5\n",
    "    Number of folds. Must be at least 2.\n",
    "\n",
    "\n",
    "\n",
    "\n",
    "- **shuffle** : bool, default=False\n",
    "    Whether to shuffle the data before splitting into batches.\n",
    "    Note that the samples within each split will not be shuffled.\n",
    "    \n",
    "    \n",
    "\n",
    "- **random_state** : int, RandomState instance or None, default=None\n",
    "    When `shuffle` is True, `random_state` affects the ordering of the\n",
    "    indices, which controls the randomness of each fold. Otherwise, this\n",
    "    parameter has no effect.\n",
    "    Pass an int for reproducible output across multiple function calls."
   ]
  },
  {
   "cell_type": "code",
   "execution_count": 2,
   "id": "626b9804",
   "metadata": {},
   "outputs": [
    {
     "name": "stdout",
     "output_type": "stream",
     "text": [
      "<generator object _BaseKFold.split at 0x00000223F62CC9E0>\n"
     ]
    }
   ],
   "source": [
    "# Carga de datos.\n",
    "X = [\"a\", \"b\", \"c\", \"d\", \"e\", \"f\", \"g\", \"h\", \"i\", \"j\"]\n",
    "\n",
    "kf = KFold(n_splits = 5, shuffle=True) # Shuffle permite aleatorizar las bolsas de test vez de hacer una lectura por orden \n",
    "bolsas = kf.split(X)\n",
    "print(bolsas)"
   ]
  },
  {
   "cell_type": "code",
   "execution_count": 3,
   "id": "6e7821e4",
   "metadata": {},
   "outputs": [
    {
     "name": "stdout",
     "output_type": "stream",
     "text": [
      "Iteracion 1 :\n",
      " - Entrenamiento: [0 1 3 4 6 7 8 9]\n",
      " - Test: [2 5]\n",
      "Iteracion 2 :\n",
      " - Entrenamiento: [1 2 3 4 5 6 7 9]\n",
      " - Test: [0 8]\n",
      "Iteracion 3 :\n",
      " - Entrenamiento: [0 1 2 5 6 7 8 9]\n",
      " - Test: [3 4]\n",
      "Iteracion 4 :\n",
      " - Entrenamiento: [0 2 3 4 5 6 7 8]\n",
      " - Test: [1 9]\n",
      "Iteracion 5 :\n",
      " - Entrenamiento: [0 1 2 3 4 5 8 9]\n",
      " - Test: [6 7]\n"
     ]
    }
   ],
   "source": [
    "k = 1\n",
    "for train, test in bolsas:\n",
    "    print(\"Iteracion\", k, \":\")\n",
    "    print(\" - Entrenamiento: %s\" % (train)) \n",
    "    print(\" - Test: %s\" % (test))\n",
    "    k = k + 1"
   ]
  },
  {
   "cell_type": "markdown",
   "id": "62b2d8e6",
   "metadata": {},
   "source": [
    "# REGRESIÓN\n",
    "## cargando el dataset"
   ]
  },
  {
   "cell_type": "code",
   "execution_count": 4,
   "id": "a7d2f27c",
   "metadata": {},
   "outputs": [
    {
     "data": {
      "text/html": [
       "<div>\n",
       "<style scoped>\n",
       "    .dataframe tbody tr th:only-of-type {\n",
       "        vertical-align: middle;\n",
       "    }\n",
       "\n",
       "    .dataframe tbody tr th {\n",
       "        vertical-align: top;\n",
       "    }\n",
       "\n",
       "    .dataframe thead th {\n",
       "        text-align: right;\n",
       "    }\n",
       "</style>\n",
       "<table border=\"1\" class=\"dataframe\">\n",
       "  <thead>\n",
       "    <tr style=\"text-align: right;\">\n",
       "      <th></th>\n",
       "      <th>crim</th>\n",
       "      <th>zn</th>\n",
       "      <th>indus</th>\n",
       "      <th>chas</th>\n",
       "      <th>nox</th>\n",
       "      <th>rm</th>\n",
       "      <th>age</th>\n",
       "      <th>dis</th>\n",
       "      <th>rad</th>\n",
       "      <th>tax</th>\n",
       "      <th>ptratio</th>\n",
       "      <th>b</th>\n",
       "      <th>lstat</th>\n",
       "      <th>medv</th>\n",
       "    </tr>\n",
       "  </thead>\n",
       "  <tbody>\n",
       "    <tr>\n",
       "      <th>0</th>\n",
       "      <td>0.00632</td>\n",
       "      <td>18.0</td>\n",
       "      <td>2.31</td>\n",
       "      <td>0</td>\n",
       "      <td>0.538</td>\n",
       "      <td>6.575</td>\n",
       "      <td>65.2</td>\n",
       "      <td>4.0900</td>\n",
       "      <td>1</td>\n",
       "      <td>296</td>\n",
       "      <td>15.3</td>\n",
       "      <td>396.90</td>\n",
       "      <td>4.98</td>\n",
       "      <td>24.0</td>\n",
       "    </tr>\n",
       "    <tr>\n",
       "      <th>1</th>\n",
       "      <td>0.02731</td>\n",
       "      <td>0.0</td>\n",
       "      <td>7.07</td>\n",
       "      <td>0</td>\n",
       "      <td>0.469</td>\n",
       "      <td>6.421</td>\n",
       "      <td>78.9</td>\n",
       "      <td>4.9671</td>\n",
       "      <td>2</td>\n",
       "      <td>242</td>\n",
       "      <td>17.8</td>\n",
       "      <td>396.90</td>\n",
       "      <td>9.14</td>\n",
       "      <td>21.6</td>\n",
       "    </tr>\n",
       "    <tr>\n",
       "      <th>2</th>\n",
       "      <td>0.02729</td>\n",
       "      <td>0.0</td>\n",
       "      <td>7.07</td>\n",
       "      <td>0</td>\n",
       "      <td>0.469</td>\n",
       "      <td>7.185</td>\n",
       "      <td>61.1</td>\n",
       "      <td>4.9671</td>\n",
       "      <td>2</td>\n",
       "      <td>242</td>\n",
       "      <td>17.8</td>\n",
       "      <td>392.83</td>\n",
       "      <td>4.03</td>\n",
       "      <td>34.7</td>\n",
       "    </tr>\n",
       "    <tr>\n",
       "      <th>3</th>\n",
       "      <td>0.03237</td>\n",
       "      <td>0.0</td>\n",
       "      <td>2.18</td>\n",
       "      <td>0</td>\n",
       "      <td>0.458</td>\n",
       "      <td>6.998</td>\n",
       "      <td>45.8</td>\n",
       "      <td>6.0622</td>\n",
       "      <td>3</td>\n",
       "      <td>222</td>\n",
       "      <td>18.7</td>\n",
       "      <td>394.63</td>\n",
       "      <td>2.94</td>\n",
       "      <td>33.4</td>\n",
       "    </tr>\n",
       "    <tr>\n",
       "      <th>4</th>\n",
       "      <td>0.06905</td>\n",
       "      <td>0.0</td>\n",
       "      <td>2.18</td>\n",
       "      <td>0</td>\n",
       "      <td>0.458</td>\n",
       "      <td>7.147</td>\n",
       "      <td>54.2</td>\n",
       "      <td>6.0622</td>\n",
       "      <td>3</td>\n",
       "      <td>222</td>\n",
       "      <td>18.7</td>\n",
       "      <td>396.90</td>\n",
       "      <td>5.33</td>\n",
       "      <td>36.2</td>\n",
       "    </tr>\n",
       "  </tbody>\n",
       "</table>\n",
       "</div>"
      ],
      "text/plain": [
       "      crim    zn  indus  chas    nox     rm   age     dis  rad  tax  ptratio  \\\n",
       "0  0.00632  18.0   2.31     0  0.538  6.575  65.2  4.0900    1  296     15.3   \n",
       "1  0.02731   0.0   7.07     0  0.469  6.421  78.9  4.9671    2  242     17.8   \n",
       "2  0.02729   0.0   7.07     0  0.469  7.185  61.1  4.9671    2  242     17.8   \n",
       "3  0.03237   0.0   2.18     0  0.458  6.998  45.8  6.0622    3  222     18.7   \n",
       "4  0.06905   0.0   2.18     0  0.458  7.147  54.2  6.0622    3  222     18.7   \n",
       "\n",
       "        b  lstat  medv  \n",
       "0  396.90   4.98  24.0  \n",
       "1  396.90   9.14  21.6  \n",
       "2  392.83   4.03  34.7  \n",
       "3  394.63   2.94  33.4  \n",
       "4  396.90   5.33  36.2  "
      ]
     },
     "execution_count": 4,
     "metadata": {},
     "output_type": "execute_result"
    }
   ],
   "source": [
    "path = 'C:/Users/plane/OneDrive/Escritorio/COMPUTING SCIENCE/MASTER Inteligencia artificial/05_Aprendizaje_supervisado/data/BostonHousing.csv'\n",
    "\n",
    "data = pd.read_csv(path, sep= ',')\n",
    "\n",
    "data.head()"
   ]
  },
  {
   "cell_type": "markdown",
   "id": "862534a8",
   "metadata": {},
   "source": [
    "## separando variables dependientes e independientes"
   ]
  },
  {
   "cell_type": "code",
   "execution_count": 5,
   "id": "3d28d7b1",
   "metadata": {},
   "outputs": [
    {
     "name": "stdout",
     "output_type": "stream",
     "text": [
      "(506, 13)\n",
      "(506,)\n"
     ]
    }
   ],
   "source": [
    "X = data.drop('medv', axis = 1)\n",
    "y = data['medv']\n",
    "\n",
    "print(X.shape)\n",
    "print(y.shape)"
   ]
  },
  {
   "cell_type": "markdown",
   "id": "1e2a9bd2",
   "metadata": {},
   "source": [
    "## Hold out split"
   ]
  },
  {
   "cell_type": "code",
   "execution_count": 6,
   "id": "4b658297",
   "metadata": {},
   "outputs": [
    {
     "name": "stdout",
     "output_type": "stream",
     "text": [
      "(404, 13)\n",
      "(404,)\n",
      "(102, 13)\n",
      "(102,)\n"
     ]
    }
   ],
   "source": [
    "X_train, X_test, y_train, y_test = train_test_split(X, y, test_size= 0.2, shuffle= True, random_state=42)\n",
    "\n",
    "print(X_train.shape)\n",
    "print(y_train.shape)\n",
    "print(X_test.shape)\n",
    "print(y_test.shape)"
   ]
  },
  {
   "cell_type": "markdown",
   "id": "569f9fb3",
   "metadata": {},
   "source": [
    "## escalando los datos"
   ]
  },
  {
   "cell_type": "code",
   "execution_count": 7,
   "id": "d14d9d1f",
   "metadata": {},
   "outputs": [
    {
     "name": "stderr",
     "output_type": "stream",
     "text": [
      "c:\\Users\\plane\\OneDrive\\Escritorio\\COMPUTING SCIENCE\\Plantillas\\venv\\lib\\site-packages\\sklearn\\base.py:439: UserWarning: X does not have valid feature names, but StandardScaler was fitted with feature names\n",
      "  warnings.warn(\n"
     ]
    }
   ],
   "source": [
    "scl = StandardScaler()\n",
    "X_train = scl.fit_transform(X_train)\n",
    "X_test = scl.transform(X_train)"
   ]
  },
  {
   "cell_type": "markdown",
   "id": "6235a5fc",
   "metadata": {},
   "source": [
    "## Cross validate\n",
    "\n",
    "Cross validate devuelve un diccionario con:\n",
    "\n",
    "- fit_time: el tiempo en tarda en entrenar cada uno de los modelos key = fit_time, value= un array con el valor de cada fold\n",
    "- score_time: el tiempo que tarda en dar el score que nosotros le demos. key = score_time, value= un array con el valor de cada fold\n",
    "- test_score: los resultados de las metricas que le hemos dado en el argumento scoring. key = nombre de la score, value= un array con los valores de cada metrica para cada fold\n",
    "\n",
    "\n",
    "- **ACEPTA VARIAS MÉTRICAS**\n",
    "- **DEVUELVE UN DICCIONARIO** con las keys nombre de la metrica y value un array con los valores obtenidos de cada fold"
   ]
  },
  {
   "cell_type": "code",
   "execution_count": 8,
   "id": "c03648d9",
   "metadata": {},
   "outputs": [],
   "source": [
    "reg = linear_model.LinearRegression(fit_intercept= True)"
   ]
  },
  {
   "cell_type": "code",
   "execution_count": 9,
   "id": "72085c87",
   "metadata": {},
   "outputs": [
    {
     "name": "stdout",
     "output_type": "stream",
     "text": [
      "<class 'dict'>\n"
     ]
    }
   ],
   "source": [
    "results = cross_validate(estimator= reg,\n",
    "                         X= X_train, y= y_train,\n",
    "                         cv= KFold(n_splits= 5, shuffle= True, random_state= 42),\n",
    "                         scoring= {'r2': 'r2', 'RMSE': 'neg_root_mean_squared_error'})\n",
    "print(type(results))"
   ]
  },
  {
   "cell_type": "code",
   "execution_count": 10,
   "id": "2fd96f5a",
   "metadata": {},
   "outputs": [
    {
     "name": "stdout",
     "output_type": "stream",
     "text": [
      "Los resultados obtenidos para la métrica  fit_time, en promedio es: \t--->\t 0.0015951633453369141\n",
      "Los resultados obtenidos para la métrica  score_time, en promedio es: \t--->\t 0.0009975433349609375\n",
      "Los resultados obtenidos para la métrica  test_r2, en promedio es: \t--->\t 0.7184784187192004\n",
      "Los resultados obtenidos para la métrica  test_RMSE, en promedio es: \t--->\t -4.866279636267083\n"
     ]
    }
   ],
   "source": [
    "for metric, result in results.items():\n",
    "    print(f'Los resultados obtenidos para la métrica  {metric}, en promedio es: \\t--->\\t {result.mean()}')"
   ]
  },
  {
   "cell_type": "markdown",
   "id": "50cdad4e",
   "metadata": {},
   "source": [
    "## Cross_val_score\n",
    "\n",
    "Cross_val_score es un metodo mas simple que el anterior pues unicamente devuelve un array con los scores de la métrica que le hemos dado. \n",
    "\n",
    "- **SOLO ACEPTA UNA MÉTRICA**\n",
    "- **DEVUELVE UN ARRAY** con los valores de cada fold"
   ]
  },
  {
   "cell_type": "code",
   "execution_count": 11,
   "id": "01192572",
   "metadata": {},
   "outputs": [
    {
     "name": "stdout",
     "output_type": "stream",
     "text": [
      "<class 'numpy.ndarray'>\n"
     ]
    }
   ],
   "source": [
    "res = cross_val_score(estimator= reg, \n",
    "                      X= X_train, y= y_train,\n",
    "                      cv= KFold(n_splits= 5, shuffle= True, random_state= 42),\n",
    "                      scoring= 'r2')\n",
    "\n",
    "print(type(res))"
   ]
  },
  {
   "cell_type": "code",
   "execution_count": 12,
   "id": "d1ed41ec",
   "metadata": {},
   "outputs": [
    {
     "name": "stdout",
     "output_type": "stream",
     "text": [
      "[0.6724828  0.76007223 0.58945002 0.75917498 0.81121207]\n"
     ]
    }
   ],
   "source": [
    "print(res)"
   ]
  },
  {
   "cell_type": "markdown",
   "id": "16c199cb",
   "metadata": {},
   "source": [
    "## Cross_val_predict\n",
    "\n",
    "Esta funcion devuelve un array con todas las predicciones realizadas en cada fold con el conjunto de datos de test, devolverá tantas prediccionens como instancias le pasemos.\n",
    "\n"
   ]
  },
  {
   "cell_type": "code",
   "execution_count": 13,
   "id": "afc5930d",
   "metadata": {},
   "outputs": [
    {
     "name": "stdout",
     "output_type": "stream",
     "text": [
      "<class 'numpy.ndarray'>\n"
     ]
    }
   ],
   "source": [
    "predictions = cross_val_predict(estimator=reg,                                              # el modelo\n",
    "                                X=X_train, y= y_train,                                      # datos de entrenamiento\n",
    "                                cv= KFold(n_splits= 5, shuffle= True, random_state= 42),    # datos de cv\n",
    "                                method= 'predict')                                          # el metodo, se le puede pedir predecir probabilidad predict_proba, decision_function, etc\n",
    "\n",
    "print(type(predictions))"
   ]
  },
  {
   "cell_type": "code",
   "execution_count": 14,
   "id": "c26c7d24",
   "metadata": {},
   "outputs": [
    {
     "name": "stdout",
     "output_type": "stream",
     "text": [
      "(404,)\n",
      "(404,)\n"
     ]
    }
   ],
   "source": [
    "print(y_train.shape)\n",
    "print(predictions.shape)"
   ]
  },
  {
   "cell_type": "code",
   "execution_count": 15,
   "id": "312e18c6",
   "metadata": {},
   "outputs": [
    {
     "name": "stdout",
     "output_type": "stream",
     "text": [
      "[11.00535883 19.26968635 23.31876459 11.57976829 18.39189108 24.62194264\n",
      " 21.06343467 23.78549695  7.81642776 20.23608684]\n"
     ]
    }
   ],
   "source": [
    "print(predictions[:10])             # las primeras 10 predicciones"
   ]
  },
  {
   "cell_type": "markdown",
   "id": "ea241275",
   "metadata": {},
   "source": [
    "# CLASIFICACIÓN\n",
    "\n",
    "## cargado el dataset"
   ]
  },
  {
   "cell_type": "code",
   "execution_count": 16,
   "id": "837c8b1c",
   "metadata": {},
   "outputs": [],
   "source": [
    "from sklearn.metrics import f1_score, precision_score, accuracy_score, recall_score"
   ]
  },
  {
   "cell_type": "code",
   "execution_count": 17,
   "id": "5c1024f6",
   "metadata": {},
   "outputs": [],
   "source": [
    "iris = datasets.load_iris()"
   ]
  },
  {
   "cell_type": "code",
   "execution_count": 18,
   "id": "34a7dc59",
   "metadata": {},
   "outputs": [
    {
     "name": "stdout",
     "output_type": "stream",
     "text": [
      "(150, 4)\n",
      "(150,)\n"
     ]
    }
   ],
   "source": [
    "X = iris.data\n",
    "y = iris.target\n",
    "\n",
    "print(X.shape)\n",
    "print(y.shape)"
   ]
  },
  {
   "cell_type": "markdown",
   "id": "2b4046f9",
   "metadata": {},
   "source": [
    "## separando test y train"
   ]
  },
  {
   "cell_type": "code",
   "execution_count": 19,
   "id": "ce20684f",
   "metadata": {},
   "outputs": [],
   "source": [
    "X_train, X_test, y_train, y_test = train_test_split(X, y, shuffle= True, test_size= 0.2, random_state=42)"
   ]
  },
  {
   "cell_type": "markdown",
   "id": "9b22fc02",
   "metadata": {},
   "source": [
    "## escalando los datos"
   ]
  },
  {
   "cell_type": "code",
   "execution_count": 20,
   "id": "f114dd29",
   "metadata": {},
   "outputs": [],
   "source": [
    "scl = StandardScaler()\n",
    "\n",
    "X_train = scl.fit_transform(X_train)\n",
    "X_test = scl.transform(X_test)"
   ]
  },
  {
   "cell_type": "markdown",
   "id": "d81aaba2",
   "metadata": {},
   "source": [
    "## el modelo"
   ]
  },
  {
   "cell_type": "code",
   "execution_count": 31,
   "id": "72b78aef",
   "metadata": {},
   "outputs": [],
   "source": [
    "from sklearn.svm import SVC"
   ]
  },
  {
   "cell_type": "code",
   "execution_count": 32,
   "id": "75b6cf5e",
   "metadata": {},
   "outputs": [],
   "source": [
    "clas = SVC(C=0.1, gamma='auto', kernel='rbf')"
   ]
  },
  {
   "cell_type": "markdown",
   "id": "a640955b",
   "metadata": {},
   "source": [
    "## Cross_val_score"
   ]
  },
  {
   "cell_type": "code",
   "execution_count": 37,
   "id": "299d0fd3",
   "metadata": {},
   "outputs": [
    {
     "name": "stdout",
     "output_type": "stream",
     "text": [
      "<class 'numpy.ndarray'>\n",
      "[1.         0.88854489 0.77777778 0.76388889 0.96023392]\n"
     ]
    }
   ],
   "source": [
    "clasification_results = cross_val_score(estimator= clas,\n",
    "                                        X= X_train, y= y_train,\n",
    "                                        scoring= 'f1_macro',\n",
    "                                        cv= KFold(n_splits= 5, shuffle= True, random_state= 42),\n",
    "                                        n_jobs= -1)\n",
    "\n",
    "print(type(clasification_results))\n",
    "print(clasification_results)"
   ]
  },
  {
   "cell_type": "markdown",
   "id": "5736df07",
   "metadata": {},
   "source": [
    "## cross_validate"
   ]
  },
  {
   "cell_type": "code",
   "execution_count": 42,
   "id": "4ab46058",
   "metadata": {},
   "outputs": [
    {
     "name": "stdout",
     "output_type": "stream",
     "text": [
      "<class 'dict'>\n",
      "Los resultados obtenidos para la métrica  fit_time, en promedio es: \t \t ---> \t 0.001990222930908203\n",
      "Los resultados obtenidos para la métrica  score_time, en promedio es: \t \t ---> \t 0.002991056442260742\n",
      "Los resultados obtenidos para la métrica  test_f1, en promedio es: \t \t ---> \t 0.8780890952872376\n",
      "Los resultados obtenidos para la métrica  test_accuracy, en promedio es: \t \t ---> \t 0.8833333333333334\n"
     ]
    }
   ],
   "source": [
    "clas_validate = cross_validate(estimator= clas,\n",
    "                                        X= X_train, y= y_train,\n",
    "                                        scoring= {'f1': 'f1_macro', 'accuracy':'accuracy'},\n",
    "                                        cv= KFold(n_splits= 5, shuffle= True, random_state= 42),\n",
    "                                        n_jobs= -1)\n",
    "\n",
    "print(type(clas_validate))\n",
    "for metric, result in clas_validate.items():\n",
    "    print(f'Los resultados obtenidos para la métrica  {metric}, en promedio es: \\t \\t ---> \\t {result.mean()}')"
   ]
  },
  {
   "cell_type": "markdown",
   "id": "5385d608",
   "metadata": {},
   "source": [
    "## cross_val_predict"
   ]
  },
  {
   "cell_type": "code",
   "execution_count": 44,
   "id": "802c78cb",
   "metadata": {},
   "outputs": [
    {
     "name": "stdout",
     "output_type": "stream",
     "text": [
      "[0 0 1 0 0 1 1 0 0 0 2 1 1 0 0 1 1 2 1 2 1 2 1 0 2 1 0 0 0 1 1 0 0 0 1 0 1\n",
      " 2 0 1 2 0 1 1 1 1 2 1 0 1 2 0 0 1 2 0 2 0 0 1 1 2 1 1 2 1 0 0 1 2 0 0 0 1\n",
      " 2 0 2 2 0 1 1 1 2 2 0 2 1 2 1 1 1 0 1 1 0 1 2 2 0 1 2 2 0 2 0 2 2 2 1 2 1\n",
      " 1 1 1 0 1 1 0 1 2]\n"
     ]
    }
   ],
   "source": [
    "y_pred = cross_val_predict(clas,\n",
    "                           X_train, y_train,\n",
    "                           cv= KFold(n_splits=5, shuffle= True, random_state=42))\n",
    "print(y_pred)  # las predicciones"
   ]
  },
  {
   "cell_type": "code",
   "execution_count": null,
   "id": "f507e194",
   "metadata": {},
   "outputs": [],
   "source": []
  }
 ],
 "metadata": {
  "kernelspec": {
   "display_name": "Python 3 (ipykernel)",
   "language": "python",
   "name": "python3"
  },
  "language_info": {
   "codemirror_mode": {
    "name": "ipython",
    "version": 3
   },
   "file_extension": ".py",
   "mimetype": "text/x-python",
   "name": "python",
   "nbconvert_exporter": "python",
   "pygments_lexer": "ipython3",
   "version": "3.10.6"
  },
  "toc": {
   "base_numbering": 1,
   "nav_menu": {},
   "number_sections": true,
   "sideBar": true,
   "skip_h1_title": false,
   "title_cell": "Table of Contents",
   "title_sidebar": "Contents",
   "toc_cell": false,
   "toc_position": {},
   "toc_section_display": true,
   "toc_window_display": false
  }
 },
 "nbformat": 4,
 "nbformat_minor": 5
}
