{
 "cells": [
  {
   "cell_type": "code",
   "execution_count": 1,
   "id": "4ba7cefc",
   "metadata": {},
   "outputs": [],
   "source": [
    "import numpy as np\n",
    "from math import sqrt\n",
    "from sklearn import datasets, linear_model, metrics\n",
    "from pprint import pprint\n",
    "from sklearn.metrics import make_scorer\n",
    "from sklearn.model_selection import cross_val_predict, cross_val_score, cross_validate, train_test_split, KFold\n",
    "from sklearn import preprocessing\n",
    "from sklearn.neighbors import KNeighborsRegressor\n",
    "from sklearn.preprocessing import StandardScaler\n",
    "from sklearn.feature_selection import SelectPercentile, f_regression\n",
    "import matplotlib.pyplot as plt\n",
    "import warnings\n",
    "warnings.filterwarnings(\"ignore\")"
   ]
  },
  {
   "cell_type": "code",
   "execution_count": 2,
   "id": "43905f94",
   "metadata": {},
   "outputs": [
    {
     "name": "stdout",
     "output_type": "stream",
     "text": [
      "(16512, 8)\n",
      "(4128, 8)\n",
      "(16512,)\n",
      "(4128,)\n"
     ]
    }
   ],
   "source": [
    "# Carga de datos.\n",
    "dataset = datasets.fetch_california_housing()\n",
    "X = dataset.data\n",
    "y = dataset.target\n",
    "\n",
    "X_train, X_test, y_train, y_test = train_test_split(X, y, shuffle= True, test_size=0.2, random_state=42)\n",
    "\n",
    "print(X_train.shape)\n",
    "print(X_test.shape)\n",
    "print(y_train.shape)\n",
    "print(y_test.shape)\n",
    "\n",
    "standardizer = preprocessing.StandardScaler()\n",
    "X_train = standardizer.fit_transform(X_train)\n",
    "X_test = standardizer.transform(X_test)"
   ]
  },
  {
   "cell_type": "markdown",
   "id": "ce45d689",
   "metadata": {},
   "source": [
    "# KNN\n",
    "\n",
    " class sklearn.neighbors.KNeighborsRegressor(n_neighbors=5, *, weights='uniform', algorithm='auto', leaf_size=30, p=2, metric='minkowski', metric_params=None, n_jobs=None)\n",
    " \n",
    " \n",
    "\n",
    "- n_neighbors = int, default=5\n",
    "\n",
    "    Number of neighbors to use by default for kneighbors queries.\n",
    "    \n",
    "- weights = {'uniform', 'distance'}, callable or None, default=’uniform’\n",
    "\n",
    "    Weight function used in prediction. Possible values:\n",
    "\n",
    "    'uniform' : uniform weights. All points in each neighborhood are weighted equally.\n",
    "\n",
    "    'distance' : weight points by the inverse of their distance. in this case, closer neighbors of a query point will have      a greater influence than neighbors which are further away.\n",
    "    [callable] : a user-defined function which accepts an array of distances, and returns an array of the same shape           containing the weights.Uniform weights are used by default.\n",
    "    \n",
    "    \n",
    "- algorithm{'auto', 'ball_tree', 'kd_tree', 'brute'}, default=’auto’\n",
    "\n",
    "     Algorithm used to compute the nearest neighbors:\n",
    "\n",
    "     'ball_tree' will use BallTree\n",
    "\n",
    "     'kd_tree' will use KDTree\n",
    "\n",
    "     'brute' will use a brute-force search.\n",
    "\n",
    "     'auto' will attempt to decide the most appropriate algorithm based on the values passed to fit method.\n",
    "     Note: fitting on sparse input will override the setting of this parameter, using brute force.\n",
    "     \n",
    "- metric = str or callable, default=’minkowski’\n",
    "\n",
    "    Metric to use for distance computation. Default is “minkowski”, which results in the standard Euclidean distance when p     = 2. See the documentation of scipy.spatial.distance and the metrics listed in distance_metrics for valid metric           values.\n",
    "    \n",
    "    If metric is “precomputed”, X is assumed to be a distance matrix and must be square during fit. X may be a sparse           graph, in which case only “nonzero” elements may be considered neighbors.\n",
    "\n",
    "    If metric is a callable function, it takes two arrays representing 1D vectors as inputs and must return one value           indicating the distance between those vectors. This works for Scipy’s metrics, but is less efficient than passing the       metric name as a string.\n",
    "    \n",
    "'cityblock' metrics.pairwise.manhattan_distances \n",
    "\n",
    "'cosine' metrics.pairwise.cosine_distances \n",
    "\n",
    "'euclidean' metrics.pairwise.euclidean_distance \n",
    "\n",
    "'haversine'metrics.pairwise.haversine_distances \n",
    "\n",
    "'l1' metrics.pairwise.manhattan_distances \n",
    "\n",
    "'l2' metrics.pairwise.euclidean_distances \n",
    "\n",
    "'manhattan' metrics.pairwise.manhattan_distances \n",
    "\n",
    "'nan_euclidean' metrics.pairwise.nan_euclidean_distances\n"
   ]
  },
  {
   "cell_type": "code",
   "execution_count": 3,
   "id": "e58a0026",
   "metadata": {},
   "outputs": [],
   "source": [
    "from sklearn.model_selection import GridSearchCV"
   ]
  },
  {
   "cell_type": "code",
   "execution_count": 4,
   "id": "3b3329eb",
   "metadata": {},
   "outputs": [
    {
     "name": "stdout",
     "output_type": "stream",
     "text": [
      "KNeighborsRegressor(metric='manhattan', n_neighbors=11, weights='distance')\n",
      "0.7285053450165693\n"
     ]
    }
   ],
   "source": [
    "knn = KNeighborsRegressor()\n",
    "\n",
    "h_params = {'n_neighbors': list(range(5, 17, 2)),\n",
    "            'weights': ['uniform', 'distance'],\n",
    "            'metric': ['euclidean', 'cosine','manhattan']}\n",
    "\n",
    "GD_KNN = GridSearchCV(estimator=knn,\n",
    "                          param_grid=h_params,\n",
    "                          scoring = 'r2',\n",
    "                          cv= KFold(n_splits=5, shuffle=True, random_state=42),\n",
    "                          n_jobs= -1)\n",
    "\n",
    "GD_KNN.fit(X_train, y_train)\n",
    "\n",
    "print(GD_KNN.best_estimator_)\n",
    "print(GD_KNN.best_score_)\n",
    "best_knn = GD_KNN.best_estimator_"
   ]
  },
  {
   "cell_type": "code",
   "execution_count": 6,
   "id": "50a0b20a",
   "metadata": {},
   "outputs": [
    {
     "name": "stdout",
     "output_type": "stream",
     "text": [
      "para la metrica \t MAE \t  se obtienen un valor de \t  ---> \t 0.4067905667958895\n",
      "para la metrica \t RMSE \t  se obtienen un valor de \t  ---> \t 0.6050943939216056\n",
      "para la metrica \t MAPE \t  se obtienen un valor de \t  ---> \t 22.96111407023188\n",
      "para la metrica \t R2 \t  se obtienen un valor de \t  ---> \t 0.7205916384617095\n"
     ]
    }
   ],
   "source": [
    "metricas = {\n",
    "  'MAE' : lambda y, y_pred: metrics.mean_absolute_error(y, y_pred),\n",
    "  'RMSE': lambda y, y_pred: sqrt(metrics.mean_squared_error(y, y_pred)),\n",
    "  'MAPE': lambda y, y_pred: np.mean(np.abs((y - y_pred) / y)) * 100,\n",
    "  'R2'  : lambda y, y_pred: metrics.r2_score(y, y_pred)}\n",
    "\n",
    "y_pred = best_knn.predict(X_test)\n",
    "\n",
    "for nombre, metrica in metricas.items():\n",
    "    print(f'para la metrica \\t {nombre} \\t  se obtienen un valor de \\t  ---> \\t {metrica(y_test, y_pred)}')"
   ]
  },
  {
   "cell_type": "code",
   "execution_count": null,
   "id": "9d35f04a",
   "metadata": {},
   "outputs": [],
   "source": []
  }
 ],
 "metadata": {
  "kernelspec": {
   "display_name": "Python 3 (ipykernel)",
   "language": "python",
   "name": "python3"
  },
  "language_info": {
   "codemirror_mode": {
    "name": "ipython",
    "version": 3
   },
   "file_extension": ".py",
   "mimetype": "text/x-python",
   "name": "python",
   "nbconvert_exporter": "python",
   "pygments_lexer": "ipython3",
   "version": "3.10.6"
  },
  "toc": {
   "base_numbering": 1,
   "nav_menu": {},
   "number_sections": true,
   "sideBar": true,
   "skip_h1_title": false,
   "title_cell": "Table of Contents",
   "title_sidebar": "Contents",
   "toc_cell": false,
   "toc_position": {},
   "toc_section_display": true,
   "toc_window_display": false
  }
 },
 "nbformat": 4,
 "nbformat_minor": 5
}
