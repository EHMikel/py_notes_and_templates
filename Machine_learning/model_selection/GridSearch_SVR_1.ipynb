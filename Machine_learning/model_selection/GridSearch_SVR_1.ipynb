{
 "cells": [
  {
   "cell_type": "code",
   "execution_count": 2,
   "id": "701ce002",
   "metadata": {},
   "outputs": [],
   "source": [
    "import numpy as np\n",
    "from math import sqrt\n",
    "from pprint import pprint\n",
    "from sklearn import datasets\n",
    "from sklearn.dummy import DummyRegressor\n",
    "from sklearn.model_selection import cross_validate\n",
    "from sklearn.model_selection import KFold\n",
    "from sklearn.metrics import make_scorer                 # para crear metricas propias a mano\n",
    "from sklearn.metrics import mean_squared_error\n",
    "from sklearn.model_selection import train_test_split\n",
    "from sklearn.svm import SVR\n",
    "from sklearn.metrics import mean_absolute_error, r2_score\n",
    "import matplotlib.pyplot as plt\n",
    "from sklearn import preprocessing\n",
    "from sklearn import metrics"
   ]
  },
  {
   "cell_type": "code",
   "execution_count": 3,
   "id": "e52ae305",
   "metadata": {},
   "outputs": [
    {
     "name": "stdout",
     "output_type": "stream",
     "text": [
      "(442, 10)\n"
     ]
    }
   ],
   "source": [
    "# Cargar y explorar los datos\n",
    "datos = datasets.load_diabetes()\n",
    "# print(datos)\n",
    "print(np.shape(datos.data))\n",
    "\n",
    "# Extraer la matriz de datos \"X\" y la variable target \"y\"\n",
    "X = datos.data\n",
    "y = datos.target\n",
    "\n",
    "# Partición EXTERNA: hold-out split 80% train - 20% test.\n",
    "X_train, X_test, y_train, y_test = train_test_split(X, y, test_size=0.2, random_state=42)\n",
    "\n",
    "# Estandarización de los datos de entrenamiento y test\n",
    "standarizer = preprocessing.StandardScaler()\n",
    "\n",
    "X_train = standarizer.fit_transform(X_train)\n",
    "X_test = standarizer.transform(X_test)"
   ]
  },
  {
   "cell_type": "markdown",
   "id": "e59814f4",
   "metadata": {},
   "source": [
    "# SVR\n",
    "\n",
    "- **C** float, default=1.0\n",
    "\n",
    "    Regularization parameter. The strength of the regularization is inversely proportional to C. Must be strictly positive.     The penalty is a squared l2 penalty.\n",
    "\n",
    "\n",
    "- **kernel** = {'linear', 'poly', 'rbf', 'sigmoid', 'precomputed'}\n",
    "\n",
    "    Specifies the kernel type to be used in the algorithm. If none is given, ‘rbf’ will be used. If a callable is given it     is used to pre-compute the kernel matrix from data matrices; that matrix should be an array of shape \n",
    "\n",
    "- **degree** = int, default=3\n",
    "\n",
    "    Degree of the polynomial kernel function (‘poly’). Must be non-negative. Ignored by all other kernels.\n",
    "\n",
    "    \n",
    "- **gamma** = {'scale', 'auto'} or float, default='scale'\n",
    "\n",
    "    Kernel coefficient for 'rbf', 'poly' and 'sigmoid'.\n",
    "\n",
    "    if gamma='scale' (default) is passed then it uses 1 / (n_features * X.var()) as value of gamma,\n",
    "\n",
    "     if ‘auto’, uses 1 / n_features\n",
    "\n",
    "     if float, must be non-negative.\n"
   ]
  },
  {
   "cell_type": "code",
   "execution_count": 5,
   "id": "f477c8ad",
   "metadata": {},
   "outputs": [
    {
     "name": "stdout",
     "output_type": "stream",
     "text": [
      "SVR(C=1, gamma='auto', kernel='linear')\n",
      "0.47492607147800314\n"
     ]
    }
   ],
   "source": [
    "from sklearn.model_selection import GridSearchCV\n",
    "\n",
    "# hiperparametros\n",
    "h_params = {'C': [0.01, 1, 10, 100],\n",
    "            'kernel': ['linear', 'rbf', 'poly'],\n",
    "            'gamma': ['auto', 'scale']}\n",
    "\n",
    "# Métricas de evaluación.\n",
    "metricas = ['r2', 'neg_root_mean_squared_error']\n",
    "\n",
    "GD = GridSearchCV(estimator= SVR(),\n",
    "                  param_grid= h_params,\n",
    "                  scoring= metricas, \n",
    "                  cv= KFold(n_splits=5, shuffle= True, random_state= 42),\n",
    "                  n_jobs= -1,\n",
    "                  refit='r2')\n",
    "\n",
    "GD.fit(X_train, y_train)\n",
    "\n",
    "best_SVR = GD.best_estimator_\n",
    "print(best_SVR)\n",
    "print(GD.best_score_)"
   ]
  },
  {
   "cell_type": "code",
   "execution_count": 8,
   "id": "3cbb36ca",
   "metadata": {},
   "outputs": [
    {
     "name": "stdout",
     "output_type": "stream",
     "text": [
      "para la metrica \t MAE \t  se obtienen un valor de \t  ---> \t 43.34160284347106\n",
      "para la metrica \t RMSE \t  se obtienen un valor de \t  ---> \t 54.220040394842165\n",
      "para la metrica \t MAPE \t  se obtienen un valor de \t  ---> \t 36.95619997812894\n",
      "para la metrica \t R2 \t  se obtienen un valor de \t  ---> \t 0.44512484353785875\n"
     ]
    }
   ],
   "source": [
    "metricas = {\n",
    "  'MAE' : lambda y, y_pred: metrics.mean_absolute_error(y, y_pred),\n",
    "  'RMSE': lambda y, y_pred: sqrt(metrics.mean_squared_error(y, y_pred)),\n",
    "  'MAPE': lambda y, y_pred: np.mean(np.abs((y - y_pred) / y)) * 100,\n",
    "  'R2'  : lambda y, y_pred: metrics.r2_score(y, y_pred)}\n",
    "\n",
    "y_pred = best_SVR.predict(X_test)\n",
    "\n",
    "for nombre, metrica in metricas.items():\n",
    "    print(f'para la metrica \\t {nombre} \\t  se obtienen un valor de \\t  ---> \\t {metrica(y_test, y_pred)}')"
   ]
  },
  {
   "cell_type": "code",
   "execution_count": null,
   "id": "c0940730",
   "metadata": {},
   "outputs": [],
   "source": []
  }
 ],
 "metadata": {
  "kernelspec": {
   "display_name": "Python 3 (ipykernel)",
   "language": "python",
   "name": "python3"
  },
  "language_info": {
   "codemirror_mode": {
    "name": "ipython",
    "version": 3
   },
   "file_extension": ".py",
   "mimetype": "text/x-python",
   "name": "python",
   "nbconvert_exporter": "python",
   "pygments_lexer": "ipython3",
   "version": "3.10.6"
  },
  "toc": {
   "base_numbering": 1,
   "nav_menu": {},
   "number_sections": true,
   "sideBar": true,
   "skip_h1_title": false,
   "title_cell": "Table of Contents",
   "title_sidebar": "Contents",
   "toc_cell": false,
   "toc_position": {},
   "toc_section_display": true,
   "toc_window_display": false
  }
 },
 "nbformat": 4,
 "nbformat_minor": 5
}
