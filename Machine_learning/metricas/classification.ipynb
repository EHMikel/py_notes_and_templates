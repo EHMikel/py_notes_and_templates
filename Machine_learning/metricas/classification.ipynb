{
 "cells": [
  {
   "cell_type": "code",
   "execution_count": 1,
   "metadata": {},
   "outputs": [],
   "source": [
    "from sklearn.metrics import f1_score, accuracy_score, precision_score, recall_score, confusion_matrix, classification_report"
   ]
  },
  {
   "cell_type": "markdown",
   "metadata": {},
   "source": [
    "# Métricas de clasificación\n",
    "\n",
    "A la izquierda estan los nombres de las métricas que hay que dar en los argumentos como scoring de funciones relacionadas con cross validation (scoring= 'nombre_metrica' siempre como string)y a la derecha esta la función de sklearn que debe importarla para utilizarla.\n",
    "\n",
    "- **‘accuracy’** ---> metrics.accuracy_score\n",
    "\n",
    "- **‘balanced_accuracy**’ ---> metrics.balanced_accuracy_score\n",
    "\t\n",
    "- **‘top_k_accuracy’** ---> metrics.top_k_accuracy_score\n",
    "\n",
    "- **‘average_precision’** ---> metrics.average_precision_score\n",
    "\t\n",
    "- **‘neg_brier_score’** ---> metrics.brier_score_loss\n",
    "\t\n",
    "- **‘f1’** ---> metrics.f1_score ---> for binary targets\n",
    "\n",
    "- **‘f1_micro’** ---> metrics.f1_score ---> micro-averaged\n",
    "\n",
    "- **‘f1_macro’** ---> metrics.f1_score ---> macro-averaged\n",
    "\n",
    "- **‘f1_weighted’** ---> metrics.f1_score ---> weighted average\n",
    "\n",
    "- **‘f1_samples’** ---> metrics.f1_score ---> by multilabel sample\n",
    "\n",
    "- **‘neg_log_loss’** ---> metrics.log_loss ---> requires predict_proba support\n",
    "\n",
    "- **‘precision’** etc. ---> metrics.precision_score ---> suffixes apply as with ‘f1’\n",
    "\n",
    "- **‘recall’** etc. ---> metrics.recall_score ---> suffixes apply as with ‘f1’\n",
    "\n",
    "- **‘jaccard’** etc. ---> metrics.jaccard_score ---> suffixes apply as with ‘f1’\n",
    "\n",
    "- **‘roc_auc’** ---> metrics.roc_auc_score\n",
    "\t\n",
    "- **‘roc_auc_ovr’** ---> metrics.roc_auc_score\n",
    "\t\n",
    "- **‘roc_auc_ovo’**---> metrics.roc_auc_score\n",
    "\t\n",
    "- **‘roc_auc_ovr_weighted’** ---> metrics.roc_auc_score\n",
    "\t\n",
    "- **‘roc_auc_ovo_weighted’** ---> metrics.roc_auc_score\n",
    "\n",
    "Las metricas mostradas debajo se le pasan a la funcion **cross_validate()** el parametro scoring= "
   ]
  },
  {
   "cell_type": "code",
   "execution_count": 2,
   "metadata": {},
   "outputs": [],
   "source": [
    "from sklearn import metrics\n",
    "\n",
    "metricas = {\n",
    "  'Accuracy':     lambda y_true, y_pred: metrics.accuracy_score(y_true, y_pred),\n",
    "  'Precision':    lambda y_true, y_pred: metrics.precision_score(y_true, y_pred, average='micro'),\n",
    "  'Recall':       lambda y_true, y_pred: metrics.recall_score(y_true, y_pred, average='micro'),\n",
    "  'f1':           lambda y_true, y_pred: metrics.f1_score(y_true, y_pred, average='micro')}"
   ]
  },
  {
   "cell_type": "code",
   "execution_count": null,
   "metadata": {},
   "outputs": [],
   "source": []
  }
 ],
 "metadata": {
  "kernelspec": {
   "display_name": "venv",
   "language": "python",
   "name": "python3"
  },
  "language_info": {
   "codemirror_mode": {
    "name": "ipython",
    "version": 3
   },
   "file_extension": ".py",
   "mimetype": "text/x-python",
   "name": "python",
   "nbconvert_exporter": "python",
   "pygments_lexer": "ipython3",
   "version": "3.10.6"
  },
  "orig_nbformat": 4
 },
 "nbformat": 4,
 "nbformat_minor": 2
}
