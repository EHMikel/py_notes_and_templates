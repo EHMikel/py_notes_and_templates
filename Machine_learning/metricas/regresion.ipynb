{
 "cells": [
  {
   "cell_type": "code",
   "execution_count": 1,
   "metadata": {},
   "outputs": [],
   "source": [
    "from sklearn.metrics import mean_absolute_error, mean_squared_error, r2_score, make_scorer"
   ]
  },
  {
   "cell_type": "markdown",
   "metadata": {},
   "source": [
    "# Métricas de regression\n",
    "\n",
    "A la izquierda estan los nombres de las métricas que hay que dar en los argumentos como scoring de funciones relacionadas con cross validation (scoring= 'nombre_metrica' siempre como string)y a la derecha esta la función de sklearn que debe importarla para utilizarla.\n",
    "\n",
    "- **explained_variance**                    --->         metrics.explained_variance_score\n",
    "\n",
    "- **max_error**                             --->         metrics.max_error\n",
    "\n",
    "- **neg_mean_absolute_error**               --->         metrics.mean_absolute_error\n",
    "\n",
    "- **neg_mean_squared_error**                --->         metrics.mean_squared_error\n",
    "\n",
    "- **neg_root_mean_squared_error**           --->         metrics.mean_squared_error\n",
    "- **neg_mean_squared_log_error**            --->         metrics.mean_squared_log_error\n",
    "- **neg_median_absolute_error**             --->         metrics.median_absolute_error\n",
    "- **r2**                                    --->         metrics.r2_score\n",
    "- **neg_mean_poisson_deviance**             --->         metrics.mean_poisson_deviance\n",
    "- **neg_mean_gamma_deviance**               --->         metrics.mean_gamma_deviance\n",
    "- **neg_mean_absolute_percentage_error**    --->         metrics.mean_absolute_percentage_error\n",
    "- **d2_absolute_error_score**               --->         metrics.d2_absolute_error_score\n",
    "- **d2_pinball_score**                      --->         metrics.d2_pinball_score\n",
    "- **d2_tweedie_score**                      --->         metrics.d2_tweedie_score\n",
    "\n",
    "Las metricas mostradas debajo se le pasan a la funcion **cross_validate()** el parametro scoring= "
   ]
  },
  {
   "cell_type": "code",
   "execution_count": 1,
   "metadata": {},
   "outputs": [],
   "source": [
    "from sklearn import metrics\n",
    "import numpy as np\n",
    "from math import sqrt\n",
    "\n",
    "metricas = {\n",
    "  'MAE' : lambda y, y_pred: metrics.mean_absolute_error(y, y_pred),\n",
    "  'RMSE': lambda y, y_pred: sqrt(metrics.mean_squared_error(y, y_pred)),\n",
    "  'MAPE': lambda y, y_pred: np.mean(np.abs((y - y_pred) / y)) * 100,\n",
    "  'R2'  : lambda y, y_pred: metrics.r2_score(y, y_pred)\n",
    "}"
   ]
  },
  {
   "cell_type": "markdown",
   "metadata": {},
   "source": []
  }
 ],
 "metadata": {
  "kernelspec": {
   "display_name": "Python 3 (ipykernel)",
   "language": "python",
   "name": "python3"
  },
  "language_info": {
   "codemirror_mode": {
    "name": "ipython",
    "version": 3
   },
   "file_extension": ".py",
   "mimetype": "text/x-python",
   "name": "python",
   "nbconvert_exporter": "python",
   "pygments_lexer": "ipython3",
   "version": "3.10.6"
  },
  "toc": {
   "base_numbering": 1,
   "nav_menu": {},
   "number_sections": true,
   "sideBar": true,
   "skip_h1_title": false,
   "title_cell": "Table of Contents",
   "title_sidebar": "Contents",
   "toc_cell": false,
   "toc_position": {},
   "toc_section_display": true,
   "toc_window_display": false
  }
 },
 "nbformat": 4,
 "nbformat_minor": 2
}
