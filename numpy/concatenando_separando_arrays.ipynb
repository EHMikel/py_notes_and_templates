{
 "cells": [
  {
   "cell_type": "code",
   "execution_count": 1,
   "id": "4cf890f5",
   "metadata": {},
   "outputs": [],
   "source": [
    "import numpy as np"
   ]
  },
  {
   "cell_type": "markdown",
   "id": "0d1a7e1e",
   "metadata": {},
   "source": [
    "# Stacking arrays\n",
    "\n",
    "A menudo es útil apilar diferentes matrices. NumPy ofrece varias funciones para hacer precisamente eso. Empecemos por crear unas cuantas matrices."
   ]
  },
  {
   "cell_type": "code",
   "execution_count": 2,
   "id": "78ab3c6c",
   "metadata": {},
   "outputs": [
    {
     "name": "stdout",
     "output_type": "stream",
     "text": [
      "[[1. 1. 1. 1.]\n",
      " [1. 1. 1. 1.]\n",
      " [1. 1. 1. 1.]]\n",
      "\n",
      "\n",
      "[[2. 2. 2. 2.]\n",
      " [2. 2. 2. 2.]\n",
      " [2. 2. 2. 2.]\n",
      " [2. 2. 2. 2.]]\n",
      "\n",
      "\n",
      "[[3. 3. 3. 3.]\n",
      " [3. 3. 3. 3.]\n",
      " [3. 3. 3. 3.]]\n"
     ]
    }
   ],
   "source": [
    "q1 = np.full((3,4), 1.0)\n",
    "q2 = np.full((4,4), 2.0)\n",
    "q3 = np.full((3,4), 3.0)\n",
    "print(q1)\n",
    "print('\\n')\n",
    "print(q2)\n",
    "print('\\n')\n",
    "print(q3)"
   ]
  },
  {
   "cell_type": "markdown",
   "id": "eecfffa2",
   "metadata": {},
   "source": [
    "# vstack()\n",
    "\n",
    "\n",
    "Este metodo concatena arrays verticalmente, se le pasa una tupla con los arrays que queremos concatenar. Estos arrais deben coincidir en el numero de columnas si no, no será posible la concatenación\n",
    "\n",
    "## Signature: np.vstack(tup)\n",
    "\n",
    "## Docstring:\n",
    "\n",
    "Stack arrays in sequence vertically (row wise).\n",
    "\n",
    "This is equivalent to concatenation along the first axis after 1-D arrays\n",
    "of shape `(N,)` have been reshaped to `(1,N)`. Rebuilds arrays divided by\n",
    "`vsplit`.\n",
    "\n",
    "This function makes most sense for arrays with up to 3 dimensions. For\n",
    "instance, for pixel-data with a height (first axis), width (second axis),\n",
    "and r/g/b channels (third axis). The functions `concatenate`, `stack` and\n",
    "`block` provide more general stacking and concatenation operations.\n",
    "\n",
    "## Parameters\n",
    "----------\n",
    "**tup** : sequence of ndarrays\n",
    "    The arrays must have the same shape along all but the first axis.\n",
    "    1-D arrays must have the same length.\n",
    "\n",
    "## Returns\n",
    "-------\n",
    "**stacked** : ndarray\n",
    "    The array formed by stacking the given arrays, will be at least 2-D."
   ]
  },
  {
   "cell_type": "code",
   "execution_count": 4,
   "id": "269bc539",
   "metadata": {},
   "outputs": [
    {
     "name": "stdout",
     "output_type": "stream",
     "text": [
      "[[1. 1. 1. 1.]\n",
      " [1. 1. 1. 1.]\n",
      " [1. 1. 1. 1.]\n",
      " [2. 2. 2. 2.]\n",
      " [2. 2. 2. 2.]\n",
      " [2. 2. 2. 2.]\n",
      " [2. 2. 2. 2.]\n",
      " [3. 3. 3. 3.]\n",
      " [3. 3. 3. 3.]\n",
      " [3. 3. 3. 3.]]\n",
      "(10, 4)\n"
     ]
    }
   ],
   "source": [
    "q4 = np.vstack((q1, q2, q3))\n",
    "print(q4)\n",
    "print(q4.shape)"
   ]
  },
  {
   "cell_type": "markdown",
   "id": "944d5840",
   "metadata": {},
   "source": [
    "# hstack()\n",
    "\n",
    "Lo mismo que vstack pero horizonalmente, los arrays deben coincidir en el número de filas\n",
    "\n",
    "## Signature: np.hstack(tup)\n",
    "## Docstring:\n",
    "\n",
    "Stack arrays in sequence horizontally (column wise).\n",
    "\n",
    "This is equivalent to concatenation along the second axis, except for 1-D\n",
    "arrays where it concatenates along the first axis. Rebuilds arrays divided\n",
    "by `hsplit`.\n",
    "\n",
    "This function makes most sense for arrays with up to 3 dimensions. For\n",
    "instance, for pixel-data with a height (first axis), width (second axis),\n",
    "and r/g/b channels (third axis). The functions `concatenate`, `stack` and\n",
    "`block` provide more general stacking and concatenation operations.\n",
    "\n",
    "## Parameters\n",
    "----------\n",
    "**tup** : sequence of ndarrays\n",
    "    The arrays must have the same shape along all but the second axis,\n",
    "    except 1-D arrays which can be any length.\n",
    "\n",
    "## Returns\n",
    "-------\n",
    "**stacked** : ndarray\n",
    "    The array formed by stacking the given arrays."
   ]
  },
  {
   "cell_type": "code",
   "execution_count": 6,
   "id": "705f3163",
   "metadata": {},
   "outputs": [
    {
     "name": "stdout",
     "output_type": "stream",
     "text": [
      "[[1. 1. 1. 1. 3. 3. 3. 3.]\n",
      " [1. 1. 1. 1. 3. 3. 3. 3.]\n",
      " [1. 1. 1. 1. 3. 3. 3. 3.]] (3, 8)\n"
     ]
    }
   ],
   "source": [
    "q5 = np.hstack((q1, q3))\n",
    "print(q5, q5.shape)"
   ]
  },
  {
   "cell_type": "code",
   "execution_count": 7,
   "id": "c7baae84",
   "metadata": {},
   "outputs": [
    {
     "name": "stdout",
     "output_type": "stream",
     "text": [
      "all the input array dimensions for the concatenation axis must match exactly, but along dimension 0, the array at index 0 has size 3 and the array at index 1 has size 4\n"
     ]
    }
   ],
   "source": [
    "try:\n",
    "    q5 = np.hstack((q1, q2, q3))\n",
    "except ValueError as e:\n",
    "    print(e)"
   ]
  },
  {
   "cell_type": "markdown",
   "id": "7c4458b1",
   "metadata": {},
   "source": [
    "# concatenate\n",
    "\n",
    "Es una función que abarca las dos funciones anteriores, sirve para concatenar horizontalmente como verticalmente. Hay que inidicarle el axis: \n",
    "\n",
    "- axis = 0 equivalente a vstack\n",
    "- axis = 1 equivalente a hstack\n",
    "\n",
    "## Docstring:\n",
    "\n",
    "**concatenate((a1, a2, ...), axis=0, out=None, dtype=None, casting=\"same_kind\")**\n",
    "\n",
    "Join a sequence of arrays along an existing axis.\n",
    "\n",
    "## Parameters\n",
    "----------\n",
    "**a1, a2, ...** : sequence of array_like\n",
    "    The arrays must have the same shape, except in the dimension\n",
    "    corresponding to `axis` (the first, by default).\n",
    "    \n",
    "**axis** : int, optional\n",
    "    The axis along which the arrays will be joined.  If axis is None,\n",
    "    arrays are flattened before use.  Default is 0.\n",
    "    \n",
    "**out** : ndarray, optional\n",
    "    If provided, the destination to place the result. The shape must be\n",
    "    correct, matching that of what concatenate would have returned if no\n",
    "    out argument were specified.\n",
    "    \n",
    "**dtype** : str or dtype\n",
    "    If provided, the destination array will have this dtype. Cannot be\n",
    "    provided together with `out`.\n",
    "\n",
    "\n",
    "**casting** : {'no', 'equiv', 'safe', 'same_kind', 'unsafe'}, optional\n",
    "    Controls what kind of data casting may occur. Defaults to 'same_kind'.\n",
    "\n",
    "\n",
    "\n",
    "## Returns\n",
    "-------\n",
    "**res** : ndarray\n",
    "    The concatenated array."
   ]
  },
  {
   "cell_type": "code",
   "execution_count": 9,
   "id": "84a54c92",
   "metadata": {},
   "outputs": [
    {
     "name": "stdout",
     "output_type": "stream",
     "text": [
      "[[1. 1. 1. 1.]\n",
      " [1. 1. 1. 1.]\n",
      " [1. 1. 1. 1.]\n",
      " [2. 2. 2. 2.]\n",
      " [2. 2. 2. 2.]\n",
      " [2. 2. 2. 2.]\n",
      " [2. 2. 2. 2.]\n",
      " [3. 3. 3. 3.]\n",
      " [3. 3. 3. 3.]\n",
      " [3. 3. 3. 3.]]\n"
     ]
    }
   ],
   "source": [
    "q7 = np.concatenate((q1,q2,q3), axis= 0)\n",
    "print(q7)"
   ]
  },
  {
   "cell_type": "markdown",
   "id": "f98e0824",
   "metadata": {},
   "source": [
    "# stack\n",
    "\n",
    "concatena dos arrays a través de un nuevo 'axis'; todos los arrays deben tener la misma forma - shape.\n",
    "\n",
    "## Signature: np.stack(arrays, axis=0, out=None)\n",
    "## Docstring:\n",
    "Join a sequence of arrays along a new axis.\n",
    "\n",
    "The ``axis`` parameter specifies the index of the new axis in the\n",
    "dimensions of the result. For example, if ``axis=0`` it will be the first\n",
    "dimension and if ``axis=-1`` it will be the last dimension.\n",
    "\n",
    ".. versionadded:: 1.10.0\n",
    "\n",
    "## Parameters\n",
    "----------\n",
    "**arrays** : sequence of array_like\n",
    "    Each array must have the same shape.\n",
    "\n",
    "**axis** : int, optional\n",
    "    The axis in the result array along which the input arrays are stacked.\n",
    "\n",
    "**out** : ndarray, optional\n",
    "    If provided, the destination to place the result. The shape must be\n",
    "    correct, matching that of what stack would have returned if no\n",
    "    out argument were specified.\n",
    "\n",
    "## Returns\n",
    "-------\n",
    "**stacked** : ndarray\n",
    "    The stacked array has one more dimension than the input arrays."
   ]
  },
  {
   "cell_type": "code",
   "execution_count": 13,
   "id": "9a3af014",
   "metadata": {},
   "outputs": [
    {
     "data": {
      "text/plain": [
       "array([[[1., 1., 1., 1.],\n",
       "        [1., 1., 1., 1.],\n",
       "        [1., 1., 1., 1.]],\n",
       "\n",
       "       [[3., 3., 3., 3.],\n",
       "        [3., 3., 3., 3.],\n",
       "        [3., 3., 3., 3.]]])"
      ]
     },
     "execution_count": 13,
     "metadata": {},
     "output_type": "execute_result"
    }
   ],
   "source": [
    "q8 = np.stack((q1, q3), axis= 0)\n",
    "q8"
   ]
  },
  {
   "cell_type": "code",
   "execution_count": 14,
   "id": "06751d8c",
   "metadata": {},
   "outputs": [
    {
     "data": {
      "text/plain": [
       "array([[[1., 1., 1., 1.],\n",
       "        [3., 3., 3., 3.]],\n",
       "\n",
       "       [[1., 1., 1., 1.],\n",
       "        [3., 3., 3., 3.]],\n",
       "\n",
       "       [[1., 1., 1., 1.],\n",
       "        [3., 3., 3., 3.]]])"
      ]
     },
     "execution_count": 14,
     "metadata": {},
     "output_type": "execute_result"
    }
   ],
   "source": [
    "q8 = np.stack((q1, q3), axis= 1)\n",
    "q8"
   ]
  },
  {
   "cell_type": "code",
   "execution_count": 15,
   "id": "86cbeec0",
   "metadata": {},
   "outputs": [
    {
     "data": {
      "text/plain": [
       "array([[[1., 3.],\n",
       "        [1., 3.],\n",
       "        [1., 3.],\n",
       "        [1., 3.]],\n",
       "\n",
       "       [[1., 3.],\n",
       "        [1., 3.],\n",
       "        [1., 3.],\n",
       "        [1., 3.]],\n",
       "\n",
       "       [[1., 3.],\n",
       "        [1., 3.],\n",
       "        [1., 3.],\n",
       "        [1., 3.]]])"
      ]
     },
     "execution_count": 15,
     "metadata": {},
     "output_type": "execute_result"
    }
   ],
   "source": [
    "q8 = np.stack((q1, q3), axis= 2)\n",
    "q8"
   ]
  },
  {
   "cell_type": "markdown",
   "id": "6eebe87f",
   "metadata": {},
   "source": [
    "# np.c_[array1, array2, ...]\n",
    "\n",
    "Para concatenar columnas, equivalente a hstack\n",
    "\n",
    "## Docstring:  \n",
    "Translates slice objects to concatenation along the second axis.\n",
    "\n",
    "This is short-hand for ``np.r_['-1,2,0', index expression]``, which is\n",
    "useful because of its common occurrence. In particular, arrays will be\n",
    "stacked along their last axis after being upgraded to at least 2-D with\n",
    "1's post-pended to the shape (column vectors made out of 1-D arrays).\n"
   ]
  },
  {
   "cell_type": "code",
   "execution_count": 25,
   "id": "f4d1e73e",
   "metadata": {},
   "outputs": [
    {
     "data": {
      "text/plain": [
       "array([[1, 4],\n",
       "       [2, 5],\n",
       "       [3, 6]])"
      ]
     },
     "execution_count": 25,
     "metadata": {},
     "output_type": "execute_result"
    }
   ],
   "source": [
    "np.c_[np.array([1,2,3]), np.array([4,5,6])]"
   ]
  },
  {
   "cell_type": "code",
   "execution_count": 27,
   "id": "db131c31",
   "metadata": {},
   "outputs": [
    {
     "data": {
      "text/plain": [
       "array([[1., 1., 1., 1., 3., 3., 3., 3.],\n",
       "       [1., 1., 1., 1., 3., 3., 3., 3.],\n",
       "       [1., 1., 1., 1., 3., 3., 3., 3.]])"
      ]
     },
     "execution_count": 27,
     "metadata": {},
     "output_type": "execute_result"
    }
   ],
   "source": [
    "np.c_[q1, q3]"
   ]
  },
  {
   "cell_type": "markdown",
   "id": "1e9573e9",
   "metadata": {},
   "source": [
    "# np.r_[ array1, array2, ...]\n",
    "\n",
    "Equivalente a usar vstack\n",
    "\n",
    "## Docstring:  \n",
    "\n",
    "Translates slice objects to concatenation along the first axis.\n",
    "\n",
    "This is a simple way to build up arrays quickly. There are two use cases.\n",
    "\n",
    "1. If the index expression contains comma separated arrays, then stack\n",
    "   them along their first axis.\n",
    "   \n",
    "2. If the index expression contains slice notation or scalars then create\n",
    "   a 1-D array with a range indicated by the slice notation.\n",
    "\n",
    "If slice notation is used, the syntax ``start:stop:step`` is equivalent\n",
    "to ``np.arange(start, stop, step)`` inside of the brackets. However, if\n",
    "``step`` is an imaginary number (i.e. 100j) then its integer portion is\n",
    "interpreted as a number-of-points desired and the start and stop are\n",
    "inclusive. In other words ``start:stop:stepj`` is interpreted as\n",
    "``np.linspace(start, stop, step, endpoint=1)`` inside of the brackets.\n",
    "After expansion of slice notation, all comma separated sequences are\n",
    "concatenated together.\n",
    "\n",
    "Optional character strings placed as the first element of the index\n",
    "expression can be used to change the output. The strings 'r' or 'c' result\n",
    "in matrix output. If the result is 1-D and 'r' is specified a 1 x N (row)\n",
    "matrix is produced. If the result is 1-D and 'c' is specified, then a N x 1\n",
    "(column) matrix is produced. If the result is 2-D then both provide the\n",
    "same matrix result.\n",
    "\n",
    "A string integer specifies which axis to stack multiple comma separated\n",
    "arrays along. A string of two comma-separated integers allows indication\n",
    "of the minimum number of dimensions to force each entry into as the\n",
    "second integer (the axis to concatenate along is still the first integer).\n",
    "\n",
    "A string with three comma-separated integers allows specification of the\n",
    "axis to concatenate along, the minimum number of dimensions to force the\n",
    "entries to, and which axis should contain the start of the arrays which\n",
    "are less than the specified number of dimensions. In other words the third\n",
    "integer allows you to specify where the 1's should be placed in the shape\n",
    "of the arrays that have their shapes upgraded. By default, they are placed\n",
    "in the front of the shape tuple. The third argument allows you to specify\n",
    "where the start of the array should be instead. Thus, a third argument of\n",
    "'0' would place the 1's at the end of the array shape. Negative integers\n",
    "specify where in the new shape tuple the last dimension of upgraded arrays\n",
    "should be placed, so the default is '-1'.\n",
    "\n",
    "## Parameters\n",
    "----------\n",
    "Not a function, so takes no parameters\n",
    "\n",
    "\n",
    "## Returns\n",
    "-------\n",
    "A concatenated ndarray or matrix."
   ]
  },
  {
   "cell_type": "code",
   "execution_count": 28,
   "id": "2240fb3b",
   "metadata": {},
   "outputs": [
    {
     "data": {
      "text/plain": [
       "array([[1., 1., 1., 1.],\n",
       "       [1., 1., 1., 1.],\n",
       "       [1., 1., 1., 1.],\n",
       "       [2., 2., 2., 2.],\n",
       "       [2., 2., 2., 2.],\n",
       "       [2., 2., 2., 2.],\n",
       "       [2., 2., 2., 2.],\n",
       "       [3., 3., 3., 3.],\n",
       "       [3., 3., 3., 3.],\n",
       "       [3., 3., 3., 3.]])"
      ]
     },
     "execution_count": 28,
     "metadata": {},
     "output_type": "execute_result"
    }
   ],
   "source": [
    "np.r_[q1, q2, q3]"
   ]
  },
  {
   "cell_type": "markdown",
   "id": "bd0928ac",
   "metadata": {},
   "source": [
    "# Splits\n",
    "\n",
    "Es lo contrario a stack; divide vectores - matrizes. LA DIVISIÓN DEBE RESULTAR EN VECTORES - MATRIZES DE MISMAS DIRECCIONES\n",
    "\n",
    "# np.vsplit()\n",
    "\n",
    "Rompe - separa una matriz en diferentes filas\n",
    "\n",
    "## Signature: \n",
    "\n",
    "**np.vsplit(ary, indices_or_sections)**\n",
    "\n",
    "## Docstring:\n",
    "\n",
    "Split an array into multiple sub-arrays vertically (row-wise).\n",
    "\n",
    "Please refer to the ``split`` documentation.  ``vsplit`` is equivalent\n",
    "to ``split`` with `axis=0` (default), the array is always split along the\n",
    "first axis regardless of the array dimension.\n"
   ]
  },
  {
   "cell_type": "code",
   "execution_count": 29,
   "id": "19930245",
   "metadata": {},
   "outputs": [
    {
     "name": "stdout",
     "output_type": "stream",
     "text": [
      "[[ 0  1  2  3]\n",
      " [ 4  5  6  7]\n",
      " [ 8  9 10 11]\n",
      " [12 13 14 15]\n",
      " [16 17 18 19]\n",
      " [20 21 22 23]]\n"
     ]
    }
   ],
   "source": [
    "r = np.arange(24).reshape(6, 4)\n",
    "print(r)"
   ]
  },
  {
   "cell_type": "code",
   "execution_count": 32,
   "id": "c2d776b3",
   "metadata": {},
   "outputs": [
    {
     "name": "stdout",
     "output_type": "stream",
     "text": [
      "[[0 1 2 3]\n",
      " [4 5 6 7]] \n",
      "\n",
      " [[ 8  9 10 11]\n",
      " [12 13 14 15]] \n",
      "\n",
      " [[16 17 18 19]\n",
      " [20 21 22 23]]\n"
     ]
    }
   ],
   "source": [
    "r1, r2, r3 = np.vsplit(r, 3)\n",
    "print(r1,'\\n\\n', r2,'\\n\\n', r3)"
   ]
  },
  {
   "cell_type": "markdown",
   "id": "c94555a7",
   "metadata": {},
   "source": [
    "# np.hsplit()\n",
    "\n",
    "Rompe - separa el array por columnas.\n",
    "\n",
    "## Signature:\n",
    "\n",
    "**np.hsplit(ary, indices_or_sections)**\n",
    "\n",
    "## Docstring:\n",
    "\n",
    "Split an array into multiple sub-arrays horizontally (column-wise).\n",
    "\n",
    "Please refer to the `split` documentation.  `hsplit` is equivalent\n",
    "to `split` with ``axis=1``, the array is always split along the second\n",
    "axis except for 1-D arrays, where it is split at ``axis=0``."
   ]
  },
  {
   "cell_type": "code",
   "execution_count": 33,
   "id": "6a95cb0b",
   "metadata": {},
   "outputs": [
    {
     "name": "stdout",
     "output_type": "stream",
     "text": [
      "[[ 0]\n",
      " [ 4]\n",
      " [ 8]\n",
      " [12]\n",
      " [16]\n",
      " [20]] \n",
      "\n",
      " [[ 1]\n",
      " [ 5]\n",
      " [ 9]\n",
      " [13]\n",
      " [17]\n",
      " [21]] \n",
      "\n",
      " [[ 2]\n",
      " [ 6]\n",
      " [10]\n",
      " [14]\n",
      " [18]\n",
      " [22]] \n",
      "\n",
      " [[ 3]\n",
      " [ 7]\n",
      " [11]\n",
      " [15]\n",
      " [19]\n",
      " [23]]\n"
     ]
    }
   ],
   "source": [
    "r1, r2, r3, r4 = np.hsplit(r, 4)\n",
    "print(r1,'\\n\\n', r2,'\\n\\n', r3, '\\n\\n', r4)"
   ]
  },
  {
   "cell_type": "markdown",
   "id": "17a05b9f",
   "metadata": {},
   "source": [
    "# np.split\n",
    "\n",
    "es el genérico de hsplit y vsplit \n",
    "\n",
    "## Signature:\n",
    "\n",
    "**np.split(ary, indices_or_sections, axis=0)**\n",
    "\n",
    "## Docstring:\n",
    "\n",
    "Split an array into multiple sub-arrays as views into `ary`.\n",
    "\n",
    "Parameters\n",
    "----------\n",
    "**ary** : ndarray\n",
    "    Array to be divided into sub-arrays.\n",
    "    \n",
    "**indices_or_sections** : int or 1-D array\n",
    "    If `indices_or_sections` is an integer, N, the array will be divided\n",
    "    into N equal arrays along `axis`.  If such a split is not possible,\n",
    "    an error is raised.\n",
    "\n",
    "    If `indices_or_sections` is a 1-D array of sorted integers, the entries\n",
    "    indicate where along `axis` the array is split.  For example,\n",
    "    ``[2, 3]`` would, for ``axis=0``, result in\n",
    "\n",
    "      - ary[:2]\n",
    "      - ary[2:3]\n",
    "      - ary[3:]\n",
    "\n",
    "    If an index exceeds the dimension of the array along `axis`,\n",
    "    an empty sub-array is returned correspondingly.\n",
    "    \n",
    "**axis** : int, optional\n",
    "    The axis along which to split, default is 0.\n",
    "\n",
    "Returns\n",
    "-------\n",
    "**sub-arrays** : list of ndarrays\n",
    "    A list of sub-arrays as views into `ary`."
   ]
  },
  {
   "cell_type": "code",
   "execution_count": 36,
   "id": "3da949ad",
   "metadata": {},
   "outputs": [
    {
     "data": {
      "text/plain": [
       "[array([[ 0,  1],\n",
       "        [ 4,  5],\n",
       "        [ 8,  9],\n",
       "        [12, 13],\n",
       "        [16, 17],\n",
       "        [20, 21]]),\n",
       " array([[ 2,  3],\n",
       "        [ 6,  7],\n",
       "        [10, 11],\n",
       "        [14, 15],\n",
       "        [18, 19],\n",
       "        [22, 23]])]"
      ]
     },
     "execution_count": 36,
     "metadata": {},
     "output_type": "execute_result"
    }
   ],
   "source": [
    "np.split(r, 2, axis= 1)"
   ]
  },
  {
   "cell_type": "code",
   "execution_count": 37,
   "id": "667f3474",
   "metadata": {},
   "outputs": [
    {
     "data": {
      "text/plain": [
       "list"
      ]
     },
     "execution_count": 37,
     "metadata": {},
     "output_type": "execute_result"
    }
   ],
   "source": [
    "type(np.split(r, 2, axis= 1))"
   ]
  },
  {
   "cell_type": "code",
   "execution_count": null,
   "id": "0f712618",
   "metadata": {},
   "outputs": [],
   "source": []
  }
 ],
 "metadata": {
  "kernelspec": {
   "display_name": "Python 3 (ipykernel)",
   "language": "python",
   "name": "python3"
  },
  "language_info": {
   "codemirror_mode": {
    "name": "ipython",
    "version": 3
   },
   "file_extension": ".py",
   "mimetype": "text/x-python",
   "name": "python",
   "nbconvert_exporter": "python",
   "pygments_lexer": "ipython3",
   "version": "3.10.6"
  },
  "toc": {
   "base_numbering": 1,
   "nav_menu": {},
   "number_sections": true,
   "sideBar": true,
   "skip_h1_title": false,
   "title_cell": "Table of Contents",
   "title_sidebar": "Contents",
   "toc_cell": false,
   "toc_position": {},
   "toc_section_display": true,
   "toc_window_display": true
  }
 },
 "nbformat": 4,
 "nbformat_minor": 5
}
