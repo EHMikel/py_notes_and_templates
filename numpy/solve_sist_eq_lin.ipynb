{
 "cells": [
  {
   "cell_type": "code",
   "execution_count": 2,
   "id": "a7b96ce9",
   "metadata": {},
   "outputs": [],
   "source": [
    "import numpy as np"
   ]
  },
  {
   "cell_type": "markdown",
   "id": "6935288d",
   "metadata": {},
   "source": [
    "# resolviendo sistemas de equaciones lineales\n",
    "\n",
    "- Resolución de dos sistemas de ecuaciones\n",
    "    - $ A : \\begin{cases} -9x +  4y = 20 \\\\ -7y + 16x = 80                         \\end{cases}$\n",
    "    \n",
    "    - $ B : \\begin{cases} x - 2y + 3z = 7 \\\\ 2x + y + z = 4 \\\\ -3x + 2y -2z = -10 \\end{cases}$\n",
    "    \n",
    "    - $ C : \\begin{cases} 2x + 6y = 6 \\\\ 5x + 3y = -9 \\end{cases}$\n",
    "    \n",
    "- Verifica por código los resultados\n",
    "\n",
    "## A"
   ]
  },
  {
   "cell_type": "code",
   "execution_count": 3,
   "id": "6fe15539",
   "metadata": {},
   "outputs": [
    {
     "name": "stdout",
     "output_type": "stream",
     "text": [
      "460.0 1040.0\n"
     ]
    }
   ],
   "source": [
    "# paso 1 se crea un array con la aparte que tiene las variables x e y, es decir un vector por equacion, \n",
    "# pero excluyendo el resultado y otro con los resultados\n",
    "\n",
    "Av = np.array([[-9,4],[16,-7]])\n",
    "Ar = np.array([20,80])\n",
    "\n",
    "x, y = np.linalg.solve(Av,Ar)\n",
    "\n",
    "print(x, y)"
   ]
  },
  {
   "cell_type": "markdown",
   "id": "cda3f1c6",
   "metadata": {},
   "source": [
    "## B"
   ]
  },
  {
   "cell_type": "code",
   "execution_count": 4,
   "id": "fa5e2d62",
   "metadata": {},
   "outputs": [
    {
     "name": "stdout",
     "output_type": "stream",
     "text": [
      "2.0 -0.9999999999999998 1.0000000000000002\n"
     ]
    }
   ],
   "source": [
    "Bv = np.array([[1,-2,3],[2,1,1],[-3,2,-2]])\n",
    "Br = np.array([7,4,-10])\n",
    "\n",
    "x, y, z = np.linalg.solve(Bv,Br)\n",
    "print(x, y, z)"
   ]
  },
  {
   "cell_type": "markdown",
   "id": "dfa8aae0",
   "metadata": {},
   "source": [
    "## C"
   ]
  },
  {
   "cell_type": "code",
   "execution_count": 6,
   "id": "ba0b1a44",
   "metadata": {},
   "outputs": [
    {
     "name": "stdout",
     "output_type": "stream",
     "text": [
      "[-3.  2.]\n"
     ]
    }
   ],
   "source": [
    "coeffs  = np.array([[2, 6], [5, 3]])\n",
    "depvars = np.array([6, -9])\n",
    "solution = np.linalg.solve(coeffs, depvars)\n",
    "print(solution)"
   ]
  },
  {
   "cell_type": "code",
   "execution_count": null,
   "id": "08758f4f",
   "metadata": {},
   "outputs": [],
   "source": []
  }
 ],
 "metadata": {
  "kernelspec": {
   "display_name": "Python 3 (ipykernel)",
   "language": "python",
   "name": "python3"
  },
  "language_info": {
   "codemirror_mode": {
    "name": "ipython",
    "version": 3
   },
   "file_extension": ".py",
   "mimetype": "text/x-python",
   "name": "python",
   "nbconvert_exporter": "python",
   "pygments_lexer": "ipython3",
   "version": "3.10.6"
  },
  "toc": {
   "base_numbering": 1,
   "nav_menu": {},
   "number_sections": true,
   "sideBar": true,
   "skip_h1_title": false,
   "title_cell": "Table of Contents",
   "title_sidebar": "Contents",
   "toc_cell": false,
   "toc_position": {},
   "toc_section_display": true,
   "toc_window_display": false
  }
 },
 "nbformat": 4,
 "nbformat_minor": 5
}
