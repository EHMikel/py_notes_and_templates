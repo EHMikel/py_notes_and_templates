{
 "cells": [
  {
   "cell_type": "code",
   "execution_count": 1,
   "id": "071fa483",
   "metadata": {},
   "outputs": [],
   "source": [
    "import numpy as np"
   ]
  },
  {
   "cell_type": "markdown",
   "id": "ea83cb3f",
   "metadata": {},
   "source": [
    "# np.arange\n",
    "\n",
    "Devuelve un array de números equidistantes (el step) entre ellos dentro de un intervalo\n",
    "\n",
    "**arange([start,], stop, [, step,], dtype=None**, *****, like=None)**\n",
    "\n",
    "Return evenly spaced values within a given interval.\n",
    "\n",
    "``arange`` can be called with a varying number of positional arguments:\n",
    "\n",
    "* ``arange(stop)``: Values are generated within the half-open interval\n",
    "  ``[0, stop)`` (in other words, the interval including `start` but\n",
    "  excluding `stop`).\n",
    "* ``arange(start, stop)``: Values are generated within the half-open\n",
    "  interval ``[start, stop)``.\n",
    "* ``arange(start, stop, step)`` Values are generated within the half-open\n",
    "  interval ``[start, stop)``, with spacing between values given by\n",
    "  ``step``.\n",
    "\n",
    "For integer arguments the function is roughly equivalent to the Python\n",
    "built-in :py:class:`range`, but returns an ndarray rather than a ``range``\n",
    "instance.\n",
    "\n",
    "When using a non-integer step, such as 0.1, it is often better to use\n",
    "`numpy.linspace`.\n",
    "\n",
    "## Parameters\n",
    "----------\n",
    "**start** : integer or real, optional\n",
    "    Start of interval.  The interval includes this value.  The default\n",
    "    start value is 0.\n",
    "    \n",
    "**stop** : integer or real\n",
    "    End of interval.  The interval does not include this value, except\n",
    "    in some cases where `step` is not an integer and floating point\n",
    "    round-off affects the length of `out`.\n",
    "    \n",
    "**step** : integer or real, optional\n",
    "    Spacing between values.  For any output `out`, this is the distance\n",
    "    between two adjacent values, ``out[i+1] - out[i]``.  The default\n",
    "    step size is 1.  If `step` is specified as a position argument,\n",
    "    `start` must also be given.\n",
    "    \n",
    "**dtype** : dtype, optional\n",
    "    The type of the output array.  If `dtype` is not given, infer the data\n",
    "    type from the other input arguments.\n",
    "    \n",
    "**like** : array_like, optional\n",
    "    Reference object to allow the creation of arrays which are not\n",
    "    NumPy arrays. If an array-like passed in as ``like`` supports\n",
    "    the ``__array_function__`` protocol, the result will be defined\n",
    "    by it. In this case, it ensures the creation of an array object\n",
    "    compatible with that passed in via this argument.\n",
    "\n",
    "    .. versionadded:: 1.20.0\n",
    "\n",
    "## Returns\n",
    "-------\n",
    "**arange** : ndarray\n",
    "    Array of evenly spaced values.\n",
    "\n",
    "    For floating point arguments, the length of the result is\n",
    "    ``ceil((stop - start)/step)``.  Because of floating point overflow,\n",
    "    this rule may result in the last element of `out` being greater\n",
    "    than `stop`."
   ]
  },
  {
   "cell_type": "code",
   "execution_count": 2,
   "id": "ae414881",
   "metadata": {},
   "outputs": [
    {
     "data": {
      "text/plain": [
       "array([0, 1, 2, 3, 4])"
      ]
     },
     "execution_count": 2,
     "metadata": {},
     "output_type": "execute_result"
    }
   ],
   "source": [
    "np.arange(5)                           # crea un array range unidimensional deñ 0 al 4"
   ]
  },
  {
   "cell_type": "code",
   "execution_count": 3,
   "id": "3d364f1c",
   "metadata": {},
   "outputs": [
    {
     "name": "stdout",
     "output_type": "stream",
     "text": [
      "[0 1 2 3 4 5 6 7 8 9]\n",
      "[ 5  6  7  8  9 10 11 12 13 14]\n"
     ]
    }
   ],
   "source": [
    "print(np.arange(0, 10) )               # se incluye el número de start pero no el de stop [start, stop)\n",
    "print(np.arange(5, 15))"
   ]
  },
  {
   "cell_type": "code",
   "execution_count": 4,
   "id": "b7072301",
   "metadata": {},
   "outputs": [
    {
     "name": "stdout",
     "output_type": "stream",
     "text": [
      "[ 10  20  30  40  50  60  70  80  90 100]\n"
     ]
    }
   ],
   "source": [
    "print(np.arange(10, 101, 10))          # el 101 es para que llegue a 100 "
   ]
  },
  {
   "cell_type": "code",
   "execution_count": 7,
   "id": "9172979b",
   "metadata": {},
   "outputs": [
    {
     "name": "stdout",
     "output_type": "stream",
     "text": [
      "[ 10.  20.  30.  40.  50.  60.  70.  80.  90. 100.]\n"
     ]
    }
   ],
   "source": [
    "print(np.arange(10, 101, 10, dtype= 'float')) # le indicamos el tipo de dato que queremos"
   ]
  },
  {
   "cell_type": "markdown",
   "id": "88473cda",
   "metadata": {},
   "source": [
    "# np.linspace\n",
    "\n",
    "Devuelve un array con n numeros  igualmente espaciados dentro de un intervalo que nosotros especifiquemos\n",
    "\n",
    "## esquema\n",
    "\n",
    "np.linspace(\n",
    "    start,\n",
    "    stop,\n",
    "    num=50,\n",
    "    endpoint=True,\n",
    "    retstep=False,\n",
    "    dtype=None,\n",
    "    axis=0,\n",
    ")\n",
    "Docstring:\n",
    "Return evenly spaced numbers over a specified interval.\n",
    "\n",
    "Returns `num` evenly spaced samples, calculated over the\n",
    "interval [`start`, `stop`].\n",
    "\n",
    "\n",
    "## Parameters\n",
    "----------\n",
    "**start** : array_like\n",
    "    The starting value of the sequence.\n",
    "    \n",
    "**stop** : array_like\n",
    "    The end value of the sequence, unless `endpoint` is set to False.\n",
    "    In that case, the sequence consists of all but the last of ``num + 1``\n",
    "    evenly spaced samples, so that `stop` is excluded.  Note that the step\n",
    "    size changes when `endpoint` is False.\n",
    "    \n",
    "**num** : int, optional\n",
    "    Number of samples to generate. Default is 50. Must be non-negative.\n",
    "    \n",
    "**endpoint** : bool, optional\n",
    "    If True, `stop` is the last sample. Otherwise, it is not included.\n",
    "    Default is True.\n",
    "    \n",
    "**retstep** : bool, optional\n",
    "    If True, return (`samples`, `step`), where `step` is the spacing\n",
    "    between samples.\n",
    "    \n",
    "**dtype** : dtype, optional\n",
    "    The type of the output array.  If `dtype` is not given, the data type\n",
    "    is inferred from `start` and `stop`. The inferred dtype will never be\n",
    "    an integer; `float` is chosen even if the arguments would produce an\n",
    "    array of integers.\n",
    "\n",
    "    .. versionadded:: 1.9.0\n",
    "\n",
    "**axis** : int, optional\n",
    "    The axis in the result to store the samples.  Relevant only if start\n",
    "    or stop are array-like.  By default (0), the samples will be along a\n",
    "    new axis inserted at the beginning. Use -1 to get an axis at the end.\n",
    "\n",
    "    .. versionadded:: 1.16.0\n",
    "\n",
    "## Returns\n",
    "-------\n",
    "**samples** : ndarray\n",
    "    There are `num` equally spaced samples in the closed interval\n",
    "    ``[start, stop]`` or the half-open interval ``[start, stop)``\n",
    "    (depending on whether `endpoint` is True or False).\n",
    "**step** : float, optional\n",
    "    Only returned if `retstep` is True\n",
    "\n",
    "    Size of spacing between samples.\n"
   ]
  },
  {
   "cell_type": "code",
   "execution_count": 9,
   "id": "636d91f3",
   "metadata": {},
   "outputs": [
    {
     "data": {
      "text/plain": [
       "array([-10.        ,  -9.59183673,  -9.18367347,  -8.7755102 ,\n",
       "        -8.36734694,  -7.95918367,  -7.55102041,  -7.14285714,\n",
       "        -6.73469388,  -6.32653061,  -5.91836735,  -5.51020408,\n",
       "        -5.10204082,  -4.69387755,  -4.28571429,  -3.87755102,\n",
       "        -3.46938776,  -3.06122449,  -2.65306122,  -2.24489796,\n",
       "        -1.83673469,  -1.42857143,  -1.02040816,  -0.6122449 ,\n",
       "        -0.20408163,   0.20408163,   0.6122449 ,   1.02040816,\n",
       "         1.42857143,   1.83673469,   2.24489796,   2.65306122,\n",
       "         3.06122449,   3.46938776,   3.87755102,   4.28571429,\n",
       "         4.69387755,   5.10204082,   5.51020408,   5.91836735,\n",
       "         6.32653061,   6.73469388,   7.14285714,   7.55102041,\n",
       "         7.95918367,   8.36734694,   8.7755102 ,   9.18367347,\n",
       "         9.59183673,  10.        ])"
      ]
     },
     "execution_count": 9,
     "metadata": {},
     "output_type": "execute_result"
    }
   ],
   "source": [
    "np.linspace(start= -10, stop=10)    # incluye el número de parada [start, stop]\n",
    "                                    # por defecto devolvera 50 numeros dentro del intervalo especificado"
   ]
  },
  {
   "cell_type": "code",
   "execution_count": 10,
   "id": "d0b2a15c",
   "metadata": {},
   "outputs": [
    {
     "data": {
      "text/plain": [
       "array([-10.        ,  -8.94736842,  -7.89473684,  -6.84210526,\n",
       "        -5.78947368,  -4.73684211,  -3.68421053,  -2.63157895,\n",
       "        -1.57894737,  -0.52631579,   0.52631579,   1.57894737,\n",
       "         2.63157895,   3.68421053,   4.73684211,   5.78947368,\n",
       "         6.84210526,   7.89473684,   8.94736842,  10.        ])"
      ]
     },
     "execution_count": 10,
     "metadata": {},
     "output_type": "execute_result"
    }
   ],
   "source": [
    "np.linspace(start= -10, stop=10, num= 20) # ahora devolvera 20 números equidistantes "
   ]
  },
  {
   "cell_type": "code",
   "execution_count": 11,
   "id": "47df33e4",
   "metadata": {},
   "outputs": [
    {
     "data": {
      "text/plain": [
       "(2000,)"
      ]
     },
     "execution_count": 11,
     "metadata": {},
     "output_type": "execute_result"
    }
   ],
   "source": [
    "np.linspace(start= -10, stop=10, num= 2000).shape"
   ]
  },
  {
   "cell_type": "markdown",
   "id": "9ab51979",
   "metadata": {},
   "source": [
    "# np.logspace\n",
    "\n",
    "es como linspace pero el paso entre los valores es logaritmico\n",
    "\n",
    "## esquema\n",
    "\n",
    "np.logspace(\n",
    "    start,\n",
    "    stop,\n",
    "    num=50,\n",
    "    endpoint=True,\n",
    "    retstep=False,\n",
    "    dtype=None,\n",
    "    axis=0,\n",
    ")\n",
    "Docstring:\n",
    "Return numbers spaced evenly on a log scale.\n",
    "\n",
    "In linear space, the sequence starts at ``base ** start``\n",
    "(`base` to the power of `start`) and ends with ``base ** stop``\n",
    "(see `endpoint` below).\n",
    "\n",
    "\n",
    "## Parameters\n",
    "----------\n",
    "**start** : array_like\n",
    "    The starting value of the sequence.\n",
    "    \n",
    "**stop** : array_like\n",
    "    The end value of the sequence, unless `endpoint` is set to False.\n",
    "    In that case, the sequence consists of all but the last of ``num + 1``\n",
    "    evenly spaced samples, so that `stop` is excluded.  Note that the step\n",
    "    size changes when `endpoint` is False.\n",
    "    \n",
    "**num** : int, optional\n",
    "    Number of samples to generate. Default is 50. Must be non-negative.\n",
    "    \n",
    "**base** : array_like, optional\n",
    "    The base of the log space. The step size between the elements in\n",
    "    ``ln(samples) / ln(base)`` (or ``log_base(samples)``) is uniform.\n",
    "    Default is 10.0.\n",
    "    \n",
    "**endpoint** : bool, optional\n",
    "    If True, `stop` is the last sample. Otherwise, it is not included.\n",
    "    Default is True.\n",
    "    \n",
    "**retstep** : bool, optional\n",
    "    If True, return (`samples`, `step`), where `step` is the spacing\n",
    "    between samples.\n",
    "    \n",
    "**dtype** : dtype, optional\n",
    "    The type of the output array.  If `dtype` is not given, the data type\n",
    "    is inferred from `start` and `stop`. The inferred dtype will never be\n",
    "    an integer; `float` is chosen even if the arguments would produce an\n",
    "    array of integers.\n",
    "\n",
    "    .. versionadded:: 1.9.0\n",
    "\n",
    "**axis** : int, optional\n",
    "    The axis in the result to store the samples.  Relevant only if start\n",
    "    or stop are array-like.  By default (0), the samples will be along a\n",
    "    new axis inserted at the beginning. Use -1 to get an axis at the end.\n",
    "\n",
    "    .. versionadded:: 1.16.0\n",
    "\n",
    "## Returns\n",
    "-------\n",
    "**samples** : ndarray\n",
    "    `num` samples, equally spaced on a log scale.\n",
    "\n",
    "\n",
    "    Size of spacing between samples.\n"
   ]
  },
  {
   "cell_type": "code",
   "execution_count": 41,
   "id": "0261cd42",
   "metadata": {},
   "outputs": [
    {
     "data": {
      "text/plain": [
       "array([1.00000000e-03, 1.32571137e-03, 1.75751062e-03, 2.32995181e-03,\n",
       "       3.08884360e-03, 4.09491506e-03, 5.42867544e-03, 7.19685673e-03,\n",
       "       9.54095476e-03, 1.26485522e-02, 1.67683294e-02, 2.22299648e-02,\n",
       "       2.94705170e-02, 3.90693994e-02, 5.17947468e-02, 6.86648845e-02,\n",
       "       9.10298178e-02, 1.20679264e-01, 1.59985872e-01, 2.12095089e-01,\n",
       "       2.81176870e-01, 3.72759372e-01, 4.94171336e-01, 6.55128557e-01,\n",
       "       8.68511374e-01, 1.15139540e+00, 1.52641797e+00, 2.02358965e+00,\n",
       "       2.68269580e+00, 3.55648031e+00, 4.71486636e+00, 6.25055193e+00,\n",
       "       8.28642773e+00, 1.09854114e+01, 1.45634848e+01, 1.93069773e+01,\n",
       "       2.55954792e+01, 3.39322177e+01, 4.49843267e+01, 5.96362332e+01,\n",
       "       7.90604321e+01, 1.04811313e+02, 1.38949549e+02, 1.84206997e+02,\n",
       "       2.44205309e+02, 3.23745754e+02, 4.29193426e+02, 5.68986603e+02,\n",
       "       7.54312006e+02, 1.00000000e+03])"
      ]
     },
     "execution_count": 41,
     "metadata": {},
     "output_type": "execute_result"
    }
   ],
   "source": [
    "np.logspace(-3, 3, base= 10)"
   ]
  },
  {
   "cell_type": "code",
   "execution_count": null,
   "id": "57ad2343",
   "metadata": {},
   "outputs": [],
   "source": []
  }
 ],
 "metadata": {
  "kernelspec": {
   "display_name": "Python 3 (ipykernel)",
   "language": "python",
   "name": "python3"
  },
  "language_info": {
   "codemirror_mode": {
    "name": "ipython",
    "version": 3
   },
   "file_extension": ".py",
   "mimetype": "text/x-python",
   "name": "python",
   "nbconvert_exporter": "python",
   "pygments_lexer": "ipython3",
   "version": "3.10.6"
  },
  "toc": {
   "base_numbering": 1,
   "nav_menu": {},
   "number_sections": true,
   "sideBar": true,
   "skip_h1_title": false,
   "title_cell": "Table of Contents",
   "title_sidebar": "Contents",
   "toc_cell": false,
   "toc_position": {},
   "toc_section_display": true,
   "toc_window_display": false
  }
 },
 "nbformat": 4,
 "nbformat_minor": 5
}
