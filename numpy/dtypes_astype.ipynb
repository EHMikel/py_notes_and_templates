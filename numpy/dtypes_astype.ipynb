{
 "cells": [
  {
   "cell_type": "code",
   "execution_count": 4,
   "id": "37dc1038",
   "metadata": {},
   "outputs": [],
   "source": [
    "import numpy as np"
   ]
  },
  {
   "cell_type": "markdown",
   "id": "347162de",
   "metadata": {},
   "source": [
    "# dtype\n",
    "\n",
    "es el tipo de dato que se almacena en un array, también es un atributo que todos los arrays contienen. Los hay de los siguientes tipos:\n",
    "\n",
    "- `int8`\n",
    "- `int16`\n",
    "- `int32`\n",
    "- `int64`\n",
    "- unsigned `uint8`|`16`|`32`|`64`\n",
    "- `float16`|`32`|`64`\n",
    "- `complex64`|`128`"
   ]
  },
  {
   "cell_type": "code",
   "execution_count": 5,
   "id": "c8f9695e",
   "metadata": {},
   "outputs": [
    {
     "name": "stdout",
     "output_type": "stream",
     "text": [
      "int32 [1 2 3 4]\n"
     ]
    }
   ],
   "source": [
    "c = np.arange(1, 5)\n",
    "print(c.dtype, c)"
   ]
  },
  {
   "cell_type": "code",
   "execution_count": 6,
   "id": "10a23641",
   "metadata": {},
   "outputs": [
    {
     "name": "stdout",
     "output_type": "stream",
     "text": [
      "float64 [1. 2. 3. 4.]\n"
     ]
    }
   ],
   "source": [
    "d = np.arange(1.0, 5.0)\n",
    "print(d.dtype, d)"
   ]
  },
  {
   "cell_type": "code",
   "execution_count": 7,
   "id": "40b05217",
   "metadata": {},
   "outputs": [
    {
     "name": "stdout",
     "output_type": "stream",
     "text": [
      "complex64 [1.+0.j 2.+0.j 3.+0.j 4.+0.j]\n"
     ]
    }
   ],
   "source": [
    "e = np.arange(1, 5, dtype=np.complex64)\n",
    "print(e.dtype, e)"
   ]
  },
  {
   "cell_type": "markdown",
   "id": "d7f304ea",
   "metadata": {},
   "source": [
    "# astype\n",
    "\n",
    "Se usa para cambiar el tipo de dato que almacena un array\n",
    "\n",
    "## Docstring:\n",
    "\n",
    "**a.astype(dtype, order='K', casting='unsafe', subok=True, copy=True)**\n",
    "\n",
    "Copy of the array, cast to a specified type.\n",
    "\n",
    "## Parameters\n",
    "----------\n",
    "**dtype** : str or dtype\n",
    "    Typecode or data-type to which the array is cast.\n",
    "    \n",
    "**order** : {'C', 'F', 'A', 'K'}, optional\n",
    "    Controls the memory layout order of the result.\n",
    "    'C' means C order, 'F' means Fortran order, 'A'\n",
    "    means 'F' order if all the arrays are Fortran contiguous,\n",
    "    'C' order otherwise, and 'K' means as close to the\n",
    "    order the array elements appear in memory as possible.\n",
    "    Default is 'K'.\n",
    "    \n",
    "**casting** : {'no', 'equiv', 'safe', 'same_kind', 'unsafe'}, optional\n",
    "    Controls what kind of data casting may occur. Defaults to 'unsafe'\n",
    "    for backwards compatibility.\n",
    "\n",
    "      * 'no' means the data types should not be cast at all.\n",
    "      * 'equiv' means only byte-order changes are allowed.\n",
    "      * 'safe' means only casts which can preserve values are allowed.\n",
    "      * 'same_kind' means only safe casts or casts within a kind,\n",
    "        like float64 to float32, are allowed.\n",
    "      * 'unsafe' means any data conversions may be done.\n",
    "      \n",
    "**subok** : bool, optional\n",
    "    If True, then sub-classes will be passed-through (default), otherwise\n",
    "    the returned array will be forced to be a base-class array.\n",
    "    \n",
    "**copy** : bool, optional\n",
    "    By default, astype always returns a newly allocated array. If this\n",
    "    is set to false, and the `dtype`, `order`, and `subok`\n",
    "    requirements are satisfied, the input array is returned instead\n",
    "    of a copy.\n",
    "\n",
    "## Returns\n",
    "-------\n",
    "**arr_t** : ndarray\n",
    "\n",
    "    Unless `copy` is False and the other conditions for returning the input\n",
    "    array are satisfied (see description for `copy` input parameter), `arr_t`\n",
    "    is a new array of the same shape as the input array, with dtype, order\n",
    "    given by `dtype`, `order`."
   ]
  },
  {
   "cell_type": "code",
   "execution_count": 10,
   "id": "65c5d331",
   "metadata": {},
   "outputs": [
    {
     "name": "stdout",
     "output_type": "stream",
     "text": [
      "float32 [1. 2. 3. 4.]\n"
     ]
    }
   ],
   "source": [
    "c= c.astype(np.float32)\n",
    "print(c.dtype, c)"
   ]
  },
  {
   "cell_type": "code",
   "execution_count": 11,
   "id": "f627288e",
   "metadata": {},
   "outputs": [
    {
     "name": "stdout",
     "output_type": "stream",
     "text": [
      "[1 2 3 4] uint8\n"
     ]
    }
   ],
   "source": [
    "d = d.astype(np.uint8)\n",
    "print(d, d.dtype)"
   ]
  },
  {
   "cell_type": "code",
   "execution_count": 12,
   "id": "149365a2",
   "metadata": {},
   "outputs": [
    {
     "name": "stderr",
     "output_type": "stream",
     "text": [
      "C:\\Users\\plane\\AppData\\Local\\Temp\\ipykernel_9964\\2681653536.py:1: ComplexWarning: Casting complex values to real discards the imaginary part\n",
      "  e.astype(float)\n"
     ]
    },
    {
     "data": {
      "text/plain": [
       "array([1., 2., 3., 4.])"
      ]
     },
     "execution_count": 12,
     "metadata": {},
     "output_type": "execute_result"
    }
   ],
   "source": [
    "e.astype(float)"
   ]
  },
  {
   "cell_type": "code",
   "execution_count": null,
   "id": "7112019e",
   "metadata": {},
   "outputs": [],
   "source": []
  }
 ],
 "metadata": {
  "kernelspec": {
   "display_name": "Python 3 (ipykernel)",
   "language": "python",
   "name": "python3"
  },
  "language_info": {
   "codemirror_mode": {
    "name": "ipython",
    "version": 3
   },
   "file_extension": ".py",
   "mimetype": "text/x-python",
   "name": "python",
   "nbconvert_exporter": "python",
   "pygments_lexer": "ipython3",
   "version": "3.10.6"
  },
  "toc": {
   "base_numbering": 1,
   "nav_menu": {},
   "number_sections": true,
   "sideBar": true,
   "skip_h1_title": false,
   "title_cell": "Table of Contents",
   "title_sidebar": "Contents",
   "toc_cell": false,
   "toc_position": {},
   "toc_section_display": true,
   "toc_window_display": false
  }
 },
 "nbformat": 4,
 "nbformat_minor": 5
}
