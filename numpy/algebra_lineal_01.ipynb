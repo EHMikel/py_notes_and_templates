{
 "cells": [
  {
   "cell_type": "code",
   "execution_count": 1,
   "id": "4aa4e18a",
   "metadata": {},
   "outputs": [],
   "source": [
    "import numpy as np"
   ]
  },
  {
   "cell_type": "markdown",
   "id": "3da0b6c0",
   "metadata": {},
   "source": [
    "# transpuesta de una matriz\n",
    "\n",
    "El atributo .T es equivalente al método .transpose()"
   ]
  },
  {
   "cell_type": "code",
   "execution_count": 2,
   "id": "247305a7",
   "metadata": {},
   "outputs": [
    {
     "name": "stdout",
     "output_type": "stream",
     "text": [
      "[[0 1 2 3 4]\n",
      " [5 6 7 8 9]]\n",
      "\n",
      "\n",
      "[[0 5]\n",
      " [1 6]\n",
      " [2 7]\n",
      " [3 8]\n",
      " [4 9]]\n"
     ]
    }
   ],
   "source": [
    "m1 = np.arange(10).reshape(2, 5)\n",
    "print(m1)\n",
    "print('\\n')\n",
    "print(m1.T)"
   ]
  },
  {
   "cell_type": "code",
   "execution_count": 3,
   "id": "02445d18",
   "metadata": {},
   "outputs": [
    {
     "name": "stdout",
     "output_type": "stream",
     "text": [
      "[[0 5]\n",
      " [1 6]\n",
      " [2 7]\n",
      " [3 8]\n",
      " [4 9]]\n"
     ]
    }
   ],
   "source": [
    "print(m1.transpose())"
   ]
  },
  {
   "cell_type": "markdown",
   "id": "e42aec72",
   "metadata": {},
   "source": [
    "The `T` attribute has no effect on rank 0 (empty) or rank 1 arrays:"
   ]
  },
  {
   "cell_type": "code",
   "execution_count": 4,
   "id": "82d4f889",
   "metadata": {},
   "outputs": [
    {
     "name": "stdout",
     "output_type": "stream",
     "text": [
      "[0 1 2 3 4]\n",
      "\n",
      "\n",
      "[0 1 2 3 4]\n"
     ]
    }
   ],
   "source": [
    "m2 = np.arange(5)\n",
    "print(m2)\n",
    "print('\\n')\n",
    "print(m2.T)"
   ]
  },
  {
   "cell_type": "markdown",
   "id": "765307ca",
   "metadata": {},
   "source": [
    "We can get the desired transposition by first reshaping the 1D array to a single-row matrix (2D):"
   ]
  },
  {
   "cell_type": "code",
   "execution_count": 5,
   "id": "b468fd84",
   "metadata": {},
   "outputs": [
    {
     "name": "stdout",
     "output_type": "stream",
     "text": [
      "[[0 1 2 3 4]]\n",
      "\n",
      "\n",
      "[[0]\n",
      " [1]\n",
      " [2]\n",
      " [3]\n",
      " [4]]\n"
     ]
    }
   ],
   "source": [
    "m2r = m2.reshape(1,5)\n",
    "print(m2r)\n",
    "print('\\n')\n",
    "print(m2r.T)"
   ]
  },
  {
   "cell_type": "markdown",
   "id": "d89500bb",
   "metadata": {},
   "source": [
    "# Multiplicación de matrices .dot() y @\n"
   ]
  },
  {
   "cell_type": "code",
   "execution_count": 6,
   "id": "b6b94fbd",
   "metadata": {},
   "outputs": [
    {
     "name": "stdout",
     "output_type": "stream",
     "text": [
      "[[0 1 2 3 4]\n",
      " [5 6 7 8 9]]\n",
      "\n",
      "\n",
      "[[ 0  1  2]\n",
      " [ 3  4  5]\n",
      " [ 6  7  8]\n",
      " [ 9 10 11]\n",
      " [12 13 14]]\n"
     ]
    }
   ],
   "source": [
    "n1 = np.arange(10).reshape(2, 5)\n",
    "print(n1)\n",
    "print('\\n')\n",
    "n2 = np.arange(15).reshape(5,3)\n",
    "print(n2)"
   ]
  },
  {
   "cell_type": "code",
   "execution_count": 7,
   "id": "ca155bcd",
   "metadata": {},
   "outputs": [
    {
     "data": {
      "text/plain": [
       "array([[ 90, 100, 110],\n",
       "       [240, 275, 310]])"
      ]
     },
     "execution_count": 7,
     "metadata": {},
     "output_type": "execute_result"
    }
   ],
   "source": [
    "n1.dot(n2)  # el resultado debe dar una matriz de 2 x 3"
   ]
  },
  {
   "cell_type": "code",
   "execution_count": 8,
   "id": "36dab4db",
   "metadata": {},
   "outputs": [
    {
     "name": "stdout",
     "output_type": "stream",
     "text": [
      "[[ 90 100 110]\n",
      " [240 275 310]]\n"
     ]
    }
   ],
   "source": [
    "print(n1 @ n2) # el @ es la operación equivalente a .dot()"
   ]
  },
  {
   "cell_type": "markdown",
   "id": "43a55e01",
   "metadata": {},
   "source": [
    "# la inversa y la pseudo- inversa de una matriz\n",
    "\n",
    "## np.linalg.inv()\n",
    "\n",
    "## Docstring:\n",
    "\n",
    "print(value, ..., sep=' ', end='\\n', file=sys.stdout, flush=False)\n",
    "\n",
    "Prints the values to a stream, or to sys.stdout by default.\n",
    "\n",
    "Optional keyword arguments:\n",
    "\n",
    "**file**:  a file-like object (stream); defaults to the current sys.stdout.\n",
    "\n",
    "**sep**:   string inserted between values, default a space.\n",
    "\n",
    "**end**:   string appended after the last value, default a newline.\n",
    "\n",
    "**flush**: whether to forcibly flush the stream.\n",
    "\n",
    "**Type**:      builtin_function_or_method"
   ]
  },
  {
   "cell_type": "code",
   "execution_count": 10,
   "id": "f28f9180",
   "metadata": {},
   "outputs": [
    {
     "name": "stdout",
     "output_type": "stream",
     "text": [
      "[[ 1  2  3]\n",
      " [ 5  7 11]\n",
      " [21 29 31]]\n",
      "\n",
      "\n",
      "[[-2.31818182  0.56818182  0.02272727]\n",
      " [ 1.72727273 -0.72727273  0.09090909]\n",
      " [-0.04545455  0.29545455 -0.06818182]]\n"
     ]
    }
   ],
   "source": [
    "m3 = np.array([[1,2,3],[5,7,11],[21,29,31]])\n",
    "\n",
    "print(m3)\n",
    "print('\\n')\n",
    "print(np.linalg.inv(m3))"
   ]
  },
  {
   "cell_type": "markdown",
   "id": "3f51647a",
   "metadata": {},
   "source": [
    "## np.linalg.pinv()\n",
    "\n",
    "### Signature: \n",
    "\n",
    "**np.linalg.pinv(a, rcond=1e-15, hermitian=False)**\n",
    "\n",
    "### Docstring:\n",
    "\n",
    "Compute the (Moore-Penrose) pseudo-inverse of a matrix.\n",
    "\n",
    "Calculate the generalized inverse of a matrix using its\n",
    "singular-value decomposition (SVD) and including all\n",
    "*large* singular values.\n",
    "\n",
    "### Parameters\n",
    "----------\n",
    "**a** : (..., M, N) array_like\n",
    "    Matrix or stack of matrices to be pseudo-inverted.\n",
    "    \n",
    "**rcond** : (...) array_like of float\n",
    "    Cutoff for small singular values.\n",
    "    Singular values less than or equal to\n",
    "    ``rcond * largest_singular_value`` are set to zero.\n",
    "    Broadcasts against the stack of matrices.\n",
    "    \n",
    "**hermitian** : bool, optional\n",
    "    If True, `a` is assumed to be Hermitian (symmetric if real-valued),\n",
    "    enabling a more efficient method for finding singular values.\n",
    "    Defaults to False.\n",
    "\n",
    "### Returns\n",
    "-------\n",
    "B : (..., N, M) ndarray"
   ]
  },
  {
   "cell_type": "code",
   "execution_count": 12,
   "id": "c9426026",
   "metadata": {},
   "outputs": [
    {
     "data": {
      "text/plain": [
       "array([[-2.31818182,  0.56818182,  0.02272727],\n",
       "       [ 1.72727273, -0.72727273,  0.09090909],\n",
       "       [-0.04545455,  0.29545455, -0.06818182]])"
      ]
     },
     "execution_count": 12,
     "metadata": {},
     "output_type": "execute_result"
    }
   ],
   "source": [
    "np.linalg.pinv(m3)"
   ]
  },
  {
   "cell_type": "markdown",
   "id": "3441bc10",
   "metadata": {},
   "source": [
    "# Determinant: np.linalg.det()\n",
    "\n"
   ]
  },
  {
   "cell_type": "code",
   "execution_count": 15,
   "id": "9d1dfeb7",
   "metadata": {},
   "outputs": [
    {
     "name": "stdout",
     "output_type": "stream",
     "text": [
      "[[ 1  2  3]\n",
      " [ 5  7 11]\n",
      " [21 29 31]]\n",
      "43.99999999999997\n"
     ]
    }
   ],
   "source": [
    "print(m3)\n",
    "print(np.linalg.det(m3))"
   ]
  },
  {
   "cell_type": "markdown",
   "id": "f71dc205",
   "metadata": {},
   "source": [
    "# eigenvalues y eigenvectors: np.linalg.eig()\n",
    "\n",
    "para sacar los autovalores y autovectores de una matriz"
   ]
  },
  {
   "cell_type": "code",
   "execution_count": 16,
   "id": "915bd80a",
   "metadata": {},
   "outputs": [
    {
     "name": "stdout",
     "output_type": "stream",
     "text": [
      "[42.26600592 -0.35798416 -2.90802176]\n",
      "\n",
      "\n",
      "[[-0.08381182 -0.76283526 -0.18913107]\n",
      " [-0.3075286   0.64133975 -0.6853186 ]\n",
      " [-0.94784057 -0.08225377  0.70325518]]\n"
     ]
    }
   ],
   "source": [
    "eig_val, eig_vec = np.linalg.eig(m3)\n",
    "print(eig_val) # λ\n",
    "print('\\n')\n",
    "print(eig_vec) # v"
   ]
  },
  {
   "cell_type": "markdown",
   "id": "30391dfa",
   "metadata": {},
   "source": [
    " La siguiente multiplicación debería dar una matriz 0"
   ]
  },
  {
   "cell_type": "code",
   "execution_count": 18,
   "id": "5e84360b",
   "metadata": {},
   "outputs": [
    {
     "data": {
      "text/plain": [
       "array([[ 6.21724894e-15,  1.66533454e-15, -3.10862447e-15],\n",
       "       [ 3.55271368e-15,  5.30131494e-15, -5.32907052e-15],\n",
       "       [ 3.55271368e-14,  5.38458167e-15, -9.76996262e-15]])"
      ]
     },
     "execution_count": 18,
     "metadata": {},
     "output_type": "execute_result"
    }
   ],
   "source": [
    "m3.dot(eig_vec) - eig_val*eig_vec # se puede observar qeu todos los valores son casi 0"
   ]
  },
  {
   "cell_type": "code",
   "execution_count": null,
   "id": "4aeb7a70",
   "metadata": {},
   "outputs": [],
   "source": []
  }
 ],
 "metadata": {
  "kernelspec": {
   "display_name": "Python 3 (ipykernel)",
   "language": "python",
   "name": "python3"
  },
  "language_info": {
   "codemirror_mode": {
    "name": "ipython",
    "version": 3
   },
   "file_extension": ".py",
   "mimetype": "text/x-python",
   "name": "python",
   "nbconvert_exporter": "python",
   "pygments_lexer": "ipython3",
   "version": "3.10.6"
  },
  "toc": {
   "base_numbering": 1,
   "nav_menu": {},
   "number_sections": true,
   "sideBar": true,
   "skip_h1_title": false,
   "title_cell": "Table of Contents",
   "title_sidebar": "Contents",
   "toc_cell": false,
   "toc_position": {},
   "toc_section_display": true,
   "toc_window_display": false
  }
 },
 "nbformat": 4,
 "nbformat_minor": 5
}
