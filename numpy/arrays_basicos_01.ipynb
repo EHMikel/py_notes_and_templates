{
 "cells": [
  {
   "cell_type": "code",
   "execution_count": 1,
   "id": "781c226c",
   "metadata": {},
   "outputs": [],
   "source": [
    "import numpy as np"
   ]
  },
  {
   "cell_type": "code",
   "execution_count": null,
   "id": "5209346a",
   "metadata": {},
   "outputs": [],
   "source": []
  },
  {
   "cell_type": "markdown",
   "id": "fb37361a",
   "metadata": {},
   "source": [
    "# Argumentos de un array\n",
    "\n",
    "Docstring:\n",
    "array(object, dtype=None, *, copy=True, order='K', subok=False, ndmin=0,\n",
    "      like=None)\n",
    "\n",
    "Create an array.\n",
    "\n",
    "Parameters\n",
    "----------\n",
    "**object** : array_like\n",
    "    An array, any object exposing the array interface, an object whose\n",
    "    __array__ method returns an array, or any (nested) sequence.\n",
    "    If object is a scalar, a 0-dimensional array containing object is\n",
    "    returned.\n",
    "    \n",
    "    \n",
    "**dtype** : data-type, optional\n",
    "    The desired data-type for the array.  If not given, then the type will\n",
    "    be determined as the minimum type required to hold the objects in the\n",
    "    sequence.\n",
    "    \n",
    "**copy** : bool, optional\n",
    "    If true (default), then the object is copied.  Otherwise, a copy will\n",
    "    only be made if __array__ returns a copy, if obj is a nested sequence,\n",
    "    or if a copy is needed to satisfy any of the other requirements\n",
    "    (`dtype`, `order`, etc.).\n",
    "    \n",
    "**order** : {'K', 'A', 'C', 'F'}, optional\n",
    "    Specify the memory layout of the array. If object is not an array, the\n",
    "    newly created array will be in C order (row major) unless 'F' is\n",
    "    specified, in which case it will be in Fortran order (column major).\n",
    "    If object is an array the following holds.\n",
    "\n",
    "    ===== ========= ===================================================\n",
    "    order  no copy                     copy=True\n",
    "    ===== ========= ===================================================\n",
    "    'K'   unchanged F & C order preserved, otherwise most similar order\n",
    "    'A'   unchanged F order if input is F and not C, otherwise C order\n",
    "    'C'   C order   C order\n",
    "    'F'   F order   F order\n",
    "    ===== ========= ===================================================\n",
    "\n",
    "    When ``copy=False`` and a copy is made for other reasons, the result is\n",
    "    the same as if ``copy=True``, with some exceptions for 'A', see the\n",
    "    Notes section. The default order is 'K'.\n",
    "    \n",
    "    \n",
    "**subok** : bool, optional\n",
    "    If True, then sub-classes will be passed-through, otherwise\n",
    "    the returned array will be forced to be a base-class array (default).\n",
    "    \n",
    "**ndmin** : int, optional\n",
    "    Specifies the minimum number of dimensions that the resulting\n",
    "    array should have.  Ones will be prepended to the shape as\n",
    "    needed to meet this requirement.\n",
    "    \n",
    "**like** : array_like, optional\n",
    "    Reference object to allow the creation of arrays which are not\n",
    "    NumPy arrays. If an array-like passed in as ``like`` supports\n",
    "    the ``__array_function__`` protocol, the result will be defined\n",
    "    by it. In this case, it ensures the creation of an array object\n",
    "    compatible with that passed in via this argument.\n",
    "\n",
    "\n",
    "# np.zeros\n",
    "\n",
    "crea un array de las dimensiones indicadas y lo llena de zeros"
   ]
  },
  {
   "cell_type": "code",
   "execution_count": 2,
   "id": "3784f039",
   "metadata": {},
   "outputs": [
    {
     "data": {
      "text/plain": [
       "array([0., 0., 0., 0., 0.])"
      ]
     },
     "execution_count": 2,
     "metadata": {},
     "output_type": "execute_result"
    }
   ],
   "source": [
    "np.zeros(5)                      # crea un vector linea de 5 zeros"
   ]
  },
  {
   "cell_type": "code",
   "execution_count": 3,
   "id": "c3e7f7d3",
   "metadata": {},
   "outputs": [
    {
     "data": {
      "text/plain": [
       "array([[0., 0., 0., 0.],\n",
       "       [0., 0., 0., 0.],\n",
       "       [0., 0., 0., 0.]])"
      ]
     },
     "execution_count": 3,
     "metadata": {},
     "output_type": "execute_result"
    }
   ],
   "source": [
    "np.zeros((3,4))                  # crea un array de zeros de n x m "
   ]
  },
  {
   "cell_type": "markdown",
   "id": "7dc71caa",
   "metadata": {},
   "source": [
    "## arrays n-dimensionales"
   ]
  },
  {
   "cell_type": "code",
   "execution_count": 17,
   "id": "5646ea45",
   "metadata": {},
   "outputs": [
    {
     "data": {
      "text/plain": [
       "array([[[0., 0., 0., 0.],\n",
       "        [0., 0., 0., 0.],\n",
       "        [0., 0., 0., 0.]],\n",
       "\n",
       "       [[0., 0., 0., 0.],\n",
       "        [0., 0., 0., 0.],\n",
       "        [0., 0., 0., 0.]]])"
      ]
     },
     "execution_count": 17,
     "metadata": {},
     "output_type": "execute_result"
    }
   ],
   "source": [
    "np.zeros((2,3,4))"
   ]
  },
  {
   "cell_type": "markdown",
   "id": "a1e6c7fe",
   "metadata": {},
   "source": [
    "## atributos básicos de los arrays"
   ]
  },
  {
   "cell_type": "code",
   "execution_count": 5,
   "id": "cad5887c",
   "metadata": {},
   "outputs": [
    {
     "name": "stdout",
     "output_type": "stream",
     "text": [
      "[[0. 0. 0. 0.]\n",
      " [0. 0. 0. 0.]\n",
      " [0. 0. 0. 0.]]\n"
     ]
    }
   ],
   "source": [
    "a = np.zeros((3,4))\n",
    "print(a)"
   ]
  },
  {
   "cell_type": "code",
   "execution_count": 6,
   "id": "520604a0",
   "metadata": {},
   "outputs": [
    {
     "data": {
      "text/plain": [
       "(3, 4)"
      ]
     },
     "execution_count": 6,
     "metadata": {},
     "output_type": "execute_result"
    }
   ],
   "source": [
    "a.shape                         # nos devuelve cada axis del array, en este caso (n,m)"
   ]
  },
  {
   "cell_type": "code",
   "execution_count": 7,
   "id": "330ff5d5",
   "metadata": {},
   "outputs": [
    {
     "data": {
      "text/plain": [
       "2"
      ]
     },
     "execution_count": 7,
     "metadata": {},
     "output_type": "execute_result"
    }
   ],
   "source": [
    "a.ndim                          # devuelve el rango (rank) del array"
   ]
  },
  {
   "cell_type": "code",
   "execution_count": 8,
   "id": "5c0cdaca",
   "metadata": {},
   "outputs": [
    {
     "data": {
      "text/plain": [
       "12"
      ]
     },
     "execution_count": 8,
     "metadata": {},
     "output_type": "execute_result"
    }
   ],
   "source": [
    "a.size"
   ]
  },
  {
   "cell_type": "markdown",
   "id": "bb08cd18",
   "metadata": {},
   "source": [
    "# np.ones\n",
    "\n",
    "Exactamente lo mismo que zeros pero con 1s"
   ]
  },
  {
   "cell_type": "code",
   "execution_count": 9,
   "id": "fd87f1ae",
   "metadata": {},
   "outputs": [
    {
     "data": {
      "text/plain": [
       "array([[1., 1., 1., 1.],\n",
       "       [1., 1., 1., 1.],\n",
       "       [1., 1., 1., 1.]])"
      ]
     },
     "execution_count": 9,
     "metadata": {},
     "output_type": "execute_result"
    }
   ],
   "source": [
    "np.ones((3,4))"
   ]
  },
  {
   "cell_type": "markdown",
   "id": "47859d11",
   "metadata": {},
   "source": [
    "# np.full\n",
    "\n",
    "Crea un array de las dimensiones indicadas todo lleno con el mismo número"
   ]
  },
  {
   "cell_type": "code",
   "execution_count": 10,
   "id": "3655e47f",
   "metadata": {},
   "outputs": [
    {
     "data": {
      "text/plain": [
       "array([[3.14159265, 3.14159265, 3.14159265, 3.14159265],\n",
       "       [3.14159265, 3.14159265, 3.14159265, 3.14159265],\n",
       "       [3.14159265, 3.14159265, 3.14159265, 3.14159265]])"
      ]
     },
     "execution_count": 10,
     "metadata": {},
     "output_type": "execute_result"
    }
   ],
   "source": [
    "np.full((3,4), np.pi)"
   ]
  },
  {
   "cell_type": "markdown",
   "id": "225a6e27",
   "metadata": {},
   "source": [
    "# np.empty\n",
    "\n",
    "crea un array de las dimensiones indicadas y lo llena con lo que sea que haya en memoria en ese momento"
   ]
  },
  {
   "cell_type": "code",
   "execution_count": 12,
   "id": "9669b4ae",
   "metadata": {},
   "outputs": [
    {
     "data": {
      "text/plain": [
       "array([[0.00e+000, 0.00e+000, 0.00e+000, 0.00e+000],\n",
       "       [0.00e+000, 8.18e-321, 0.00e+000, 0.00e+000]])"
      ]
     },
     "execution_count": 12,
     "metadata": {},
     "output_type": "execute_result"
    }
   ],
   "source": [
    "np.empty((2,4))"
   ]
  },
  {
   "cell_type": "markdown",
   "id": "8c071f38",
   "metadata": {},
   "source": [
    "# np.array \n",
    "\n",
    "Creamos un array de manera manual"
   ]
  },
  {
   "cell_type": "code",
   "execution_count": 18,
   "id": "b355d0e3",
   "metadata": {},
   "outputs": [
    {
     "data": {
      "text/plain": [
       "array([[ 1,  2,  3,  4],\n",
       "       [10, 20, 30, 40]])"
      ]
     },
     "execution_count": 18,
     "metadata": {},
     "output_type": "execute_result"
    }
   ],
   "source": [
    "np.array([[1,2,3,4], [10,20,30,40]], )"
   ]
  },
  {
   "cell_type": "code",
   "execution_count": 16,
   "id": "078a5eb3",
   "metadata": {},
   "outputs": [],
   "source": [
    "# np.array([[1,2,3,4], [10,20,30]])  # esto da error"
   ]
  },
  {
   "cell_type": "code",
   "execution_count": 22,
   "id": "62933e8f",
   "metadata": {},
   "outputs": [
    {
     "data": {
      "text/plain": [
       "array([[ 1.,  2.,  3.,  4.],\n",
       "       [10., 20., 30., 40.]])"
      ]
     },
     "execution_count": 22,
     "metadata": {},
     "output_type": "execute_result"
    }
   ],
   "source": [
    "np.array([[1,2,3,4], [10,20,30,40]], dtype= 'float')  # se le puede especificar el tipu de numero que queremos que guarde"
   ]
  },
  {
   "cell_type": "code",
   "execution_count": null,
   "id": "2e5a7c29",
   "metadata": {},
   "outputs": [],
   "source": []
  }
 ],
 "metadata": {
  "kernelspec": {
   "display_name": "Python 3 (ipykernel)",
   "language": "python",
   "name": "python3"
  },
  "language_info": {
   "codemirror_mode": {
    "name": "ipython",
    "version": 3
   },
   "file_extension": ".py",
   "mimetype": "text/x-python",
   "name": "python",
   "nbconvert_exporter": "python",
   "pygments_lexer": "ipython3",
   "version": "3.10.6"
  },
  "toc": {
   "base_numbering": 1,
   "nav_menu": {},
   "number_sections": true,
   "sideBar": true,
   "skip_h1_title": false,
   "title_cell": "Table of Contents",
   "title_sidebar": "Contents",
   "toc_cell": false,
   "toc_position": {},
   "toc_section_display": true,
   "toc_window_display": false
  }
 },
 "nbformat": 4,
 "nbformat_minor": 5
}
