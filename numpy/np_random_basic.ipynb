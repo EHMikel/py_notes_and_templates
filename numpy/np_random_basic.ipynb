{
 "cells": [
  {
   "cell_type": "code",
   "execution_count": 1,
   "id": "0e6693da",
   "metadata": {},
   "outputs": [],
   "source": [
    "import numpy as np"
   ]
  },
  {
   "cell_type": "markdown",
   "id": "b84a7af7",
   "metadata": {},
   "source": [
    "# np.random.randint()\n",
    "\n",
    "- Genera un array con numeros aleatorios enteros\n",
    "\n",
    "### Docstring:\n",
    "\n",
    "**randint(low, high=None, size=None, dtype=int)**\n",
    "\n",
    "Return random integers from `low` (inclusive) to `high` (exclusive).\n",
    "\n",
    "\n",
    "## Parameters\n",
    "----------\n",
    "**low** : int or array-like of ints\n",
    "    Lowest (signed) integers to be drawn from the distribution (unless\n",
    "    ``high=None``, in which case this parameter is one above the\n",
    "    *highest* such integer).\n",
    "    \n",
    "**high** : int or array-like of ints, optional\n",
    "    If provided, one above the largest (signed) integer to be drawn\n",
    "    from the distribution (see above for behavior if ``high=None``).\n",
    "    If array-like, must contain integer values\n",
    "    \n",
    "**size** : int or tuple of ints, optional\n",
    "    Output shape.  If the given shape is, e.g., ``(m, n, k)``, then\n",
    "    ``m * n * k`` samples are drawn.  Default is None, in which case a\n",
    "    single value is returned.\n",
    "    \n",
    "**dtype** : dtype, optional\n",
    "    Desired dtype of the result. Byteorder must be native.\n",
    "    The default value is int."
   ]
  },
  {
   "cell_type": "code",
   "execution_count": 2,
   "id": "432a0bb2",
   "metadata": {},
   "outputs": [
    {
     "data": {
      "text/plain": [
       "array([[-5,  1,  8],\n",
       "       [ 1,  1,  1],\n",
       "       [-9, -6, -3]])"
      ]
     },
     "execution_count": 2,
     "metadata": {},
     "output_type": "execute_result"
    }
   ],
   "source": [
    "np.random.randint(low= -10, high= 10, size= (3,3))"
   ]
  },
  {
   "cell_type": "code",
   "execution_count": 9,
   "id": "066c6a72",
   "metadata": {},
   "outputs": [
    {
     "data": {
      "text/plain": [
       "array([[8, 5, 1],\n",
       "       [9, 2, 7],\n",
       "       [2, 7, 6]], dtype=uint8)"
      ]
     },
     "execution_count": 9,
     "metadata": {},
     "output_type": "execute_result"
    }
   ],
   "source": [
    "np.random.randint(low= 0, high= 10, size= (3,3), dtype= np.uint8)"
   ]
  },
  {
   "cell_type": "markdown",
   "id": "2f654f96",
   "metadata": {},
   "source": [
    "# np.random.rand()\n",
    "\n",
    "- genera valores aleatorios entre 0 y 1, las dimensiones se pasan directamente, no en tupla.\n",
    "\n",
    "rand(d0, d1, ..., dn)\n",
    "\n",
    "\n",
    "Random values in a given shape.\n",
    "\n",
    "\n",
    "Create an array of the given shape and populate it with\n",
    "random samples from a uniform distribution\n",
    "over ``[0, 1)``.\n",
    "\n",
    "## Parameters\n",
    "----------\n",
    "**d0, d1, ..., dn** : int, optional\n",
    "    The dimensions of the returned array, must be non-negative.\n",
    "    If no argument is given a single Python float is returned.\n",
    "\n",
    "## Returns\n",
    "\n",
    "**out** : ndarray, shape ``(d0, d1, ..., dn)``\n",
    "    Random values.\n",
    "    \n",
    "# np.random.random()\n",
    "\n",
    "- genera un array con las dimensiones especificadas, de números aleatorios entre el 0 y el 1\n",
    "\n",
    "Docstring:\n",
    "\n",
    "random(size=None)\n",
    "\n",
    "Return random floats in the half-open interval [0.0, 1.0). Alias for `random_sample` to ease forward-porting to the new random API. Type:      builtin_function_or_method"
   ]
  },
  {
   "cell_type": "code",
   "execution_count": 18,
   "id": "5d532177",
   "metadata": {
    "scrolled": true
   },
   "outputs": [
    {
     "data": {
      "text/plain": [
       "array([[[0.30424224, 0.52475643],\n",
       "        [0.43194502, 0.29122914],\n",
       "        [0.61185289, 0.13949386],\n",
       "        [0.29214465, 0.36636184]],\n",
       "\n",
       "       [[0.45606998, 0.78517596],\n",
       "        [0.19967378, 0.51423444],\n",
       "        [0.59241457, 0.04645041],\n",
       "        [0.60754485, 0.17052412]],\n",
       "\n",
       "       [[0.06505159, 0.94888554],\n",
       "        [0.96563203, 0.80839735],\n",
       "        [0.30461377, 0.09767211],\n",
       "        [0.68423303, 0.44015249]],\n",
       "\n",
       "       [[0.12203823, 0.49517691],\n",
       "        [0.03438852, 0.9093204 ],\n",
       "        [0.25877998, 0.66252228],\n",
       "        [0.31171108, 0.52006802]]])"
      ]
     },
     "execution_count": 18,
     "metadata": {},
     "output_type": "execute_result"
    }
   ],
   "source": [
    "np.random.rand(4,4)"
   ]
  },
  {
   "cell_type": "code",
   "execution_count": 19,
   "id": "24d4d37f",
   "metadata": {},
   "outputs": [
    {
     "data": {
      "text/plain": [
       "array([[[0.54671028, 0.18485446],\n",
       "        [0.96958463, 0.77513282],\n",
       "        [0.93949894, 0.89482735],\n",
       "        [0.59789998, 0.92187424]],\n",
       "\n",
       "       [[0.0884925 , 0.19598286],\n",
       "        [0.04522729, 0.32533033],\n",
       "        [0.38867729, 0.27134903],\n",
       "        [0.82873751, 0.35675333]],\n",
       "\n",
       "       [[0.28093451, 0.54269608],\n",
       "        [0.14092422, 0.80219698],\n",
       "        [0.07455064, 0.98688694],\n",
       "        [0.77224477, 0.19871568]],\n",
       "\n",
       "       [[0.00552212, 0.81546143],\n",
       "        [0.70685734, 0.72900717],\n",
       "        [0.77127035, 0.07404465],\n",
       "        [0.35846573, 0.11586906]]])"
      ]
     },
     "execution_count": 19,
     "metadata": {},
     "output_type": "execute_result"
    }
   ],
   "source": [
    "np.random.rand(4,4, 2)"
   ]
  },
  {
   "cell_type": "code",
   "execution_count": 17,
   "id": "3334d951",
   "metadata": {},
   "outputs": [
    {
     "data": {
      "text/plain": [
       "array([[0.37454012, 0.95071431, 0.73199394, 0.59865848],\n",
       "       [0.15601864, 0.15599452, 0.05808361, 0.86617615],\n",
       "       [0.60111501, 0.70807258, 0.02058449, 0.96990985],\n",
       "       [0.83244264, 0.21233911, 0.18182497, 0.18340451]])"
      ]
     },
     "execution_count": 17,
     "metadata": {},
     "output_type": "execute_result"
    }
   ],
   "source": [
    "np.random.seed(42)\n",
    "np.random.random(size= (4,4))"
   ]
  },
  {
   "cell_type": "markdown",
   "id": "ec90e953",
   "metadata": {},
   "source": [
    "# np.random.randn()\n",
    "\n",
    "Es exactamente igual que rand pero genera valores aleatorios con media 0 y std de 1\n",
    "\n",
    "### Docstring:\n",
    "\n",
    "**randn(d0, d1, ..., dn)**\n",
    "\n",
    "Return a sample (or samples) from the \"standard normal\" distribution.\n",
    "\n",
    "\n",
    "If positive int_like arguments are provided, `randn` generates an array\n",
    "of shape ``(d0, d1, ..., dn)``, filled\n",
    "with random floats sampled from a univariate \"normal\" (Gaussian)\n",
    "distribution of mean 0 and variance 1. A single float randomly sampled\n",
    "from the distribution is returned if no argument is provided.\n",
    "\n",
    "## Parameters\n",
    "----------\n",
    "**d0, d1, ..., dn** : int, optional\n",
    "    The dimensions of the returned array, must be non-negative.\n",
    "    If no argument is given a single Python float is returned.\n",
    "\n",
    "## Returns\n",
    "-------\n",
    "**Z** : ndarray or float\n",
    "    A ``(d0, d1, ..., dn)``-shaped array of floating-point samples from\n",
    "    the standard normal distribution, or a single such float if\n",
    "    no parameters were supplied.\n"
   ]
  },
  {
   "cell_type": "code",
   "execution_count": 20,
   "id": "b3f0cef4",
   "metadata": {},
   "outputs": [
    {
     "data": {
      "text/plain": [
       "array([[ 0.33126343,  0.97554513, -0.47917424, -0.18565898],\n",
       "       [-1.10633497, -1.19620662,  0.81252582,  1.35624003],\n",
       "       [-0.07201012,  1.0035329 ,  0.36163603, -0.64511975]])"
      ]
     },
     "execution_count": 20,
     "metadata": {},
     "output_type": "execute_result"
    }
   ],
   "source": [
    "np.random.randn(3,4)"
   ]
  },
  {
   "cell_type": "markdown",
   "id": "82efb189",
   "metadata": {},
   "source": [
    "## para ver la diferencia entre rand y randn"
   ]
  },
  {
   "cell_type": "code",
   "execution_count": 21,
   "id": "acdbb30a",
   "metadata": {},
   "outputs": [
    {
     "data": {
      "image/png": "[encoded data removed]",
      "text/plain": [
       "<Figure size 640x480 with 1 Axes>"
      ]
     },
     "metadata": {},
     "output_type": "display_data"
    }
   ],
   "source": [
    "import matplotlib.pyplot as plt\n",
    "plt.hist(np.random.rand(100000), density=True, bins=100, histtype=\"step\", color=\"blue\", label=\"rand\")\n",
    "plt.hist(np.random.randn(100000), density=True, bins=100, histtype=\"step\", color=\"red\", label=\"randn\")\n",
    "plt.axis([-2.5, 2.5, 0, 1.1])\n",
    "plt.legend(loc = \"upper left\")\n",
    "plt.title(\"Random distributions\")\n",
    "plt.xlabel(\"Value\")\n",
    "plt.ylabel(\"Density\")\n",
    "plt.show()"
   ]
  },
  {
   "cell_type": "markdown",
   "id": "988e4680",
   "metadata": {},
   "source": [
    "# np.random.uniform()\n",
    "\n",
    "funciona como randint pero devuelve valores aleatorios float en el intervalo especificado\n",
    "\n",
    "**uniform(low=0.0, high=1.0, size=None)**\n",
    "\n",
    "\n",
    "## Parameters\n",
    "----------\n",
    "**low** : float or array_like of floats, optional\n",
    "    Lower boundary of the output interval.  All values generated will be\n",
    "    greater than or equal to low.  The default value is 0.\n",
    "    \n",
    "**high** : float or array_like of floats\n",
    "    Upper boundary of the output interval.  All values generated will be\n",
    "    less than or equal to high.  The high limit may be included in the \n",
    "    returned array of floats due to floating-point rounding in the \n",
    "    equation ``low + (high-low) * random_sample()``.  The default value \n",
    "    is 1.0.\n",
    "    \n",
    "**size** : int or tuple of ints, optional\n",
    "    Output shape.  If the given shape is, e.g., ``(m, n, k)``, then\n",
    "    ``m * n * k`` samples are drawn.  If size is ``None`` (default),\n",
    "    a single value is returned if ``low`` and ``high`` are both scalars.\n",
    "    Otherwise, ``np.broadcast(low, high).size`` samples are drawn.\n",
    "\n",
    "Returns\n",
    "-------\n",
    "**out** : ndarray or scalar\n",
    "    Drawn samples from the parameterized uniform distribution."
   ]
  },
  {
   "cell_type": "code",
   "execution_count": 22,
   "id": "5ed36d99",
   "metadata": {},
   "outputs": [
    {
     "data": {
      "text/plain": [
       "array([4.62194004, 6.00951748, 0.56734887, 4.64836312, 4.22358799])"
      ]
     },
     "execution_count": 22,
     "metadata": {},
     "output_type": "execute_result"
    }
   ],
   "source": [
    "np.random.uniform(low= 0, high= 10, size= 5)"
   ]
  },
  {
   "cell_type": "code",
   "execution_count": 23,
   "id": "18989bce",
   "metadata": {},
   "outputs": [
    {
     "data": {
      "text/plain": [
       "array([[3.52524871, 7.78635614, 6.09157952, 9.66185267, 2.78619483],\n",
       "       [3.47214534, 4.82144694, 0.77599944, 3.04857733, 0.97817426],\n",
       "       [1.34814143, 6.60644196, 7.25966585, 0.64531606, 1.54775143],\n",
       "       [6.5061282 , 8.84690337, 1.08268565, 3.18462553, 7.18886611],\n",
       "       [5.99395538, 4.23068166, 3.88706932, 2.84315604, 6.55443621]])"
      ]
     },
     "execution_count": 23,
     "metadata": {},
     "output_type": "execute_result"
    }
   ],
   "source": [
    "np.random.uniform(low= 0, high= 10, size= (5, 5))"
   ]
  },
  {
   "cell_type": "markdown",
   "id": "59c97be0",
   "metadata": {},
   "source": [
    "# np.random.normal()\n",
    "\n",
    "Devuelve valores aleatorios siguiendo una distribución normal dandole media y desviación típica.\n",
    "\n",
    "### Docstring:\n",
    "\n",
    "**normal(loc=0.0, scale=1.0, size=None)**\n",
    "\n",
    "Draw random samples from a normal (Gaussian) distribution.\n",
    "\n",
    "\n",
    "## Parameters\n",
    "----------\n",
    "**loc** : float or array_like of floats\n",
    "    Mean (\"centre\") of the distribution.\n",
    "    \n",
    "**scale** : float or array_like of floats\n",
    "    Standard deviation (spread or \"width\") of the distribution. Must be\n",
    "    non-negative.\n",
    "    \n",
    "**size** : int or tuple of ints, optional\n",
    "    Output shape.  If the given shape is, e.g., ``(m, n, k)``, then\n",
    "    ``m * n * k`` samples are drawn.  If size is ``None`` (default),\n",
    "    a single value is returned if ``loc`` and ``scale`` are both scalars.\n",
    "    Otherwise, ``np.broadcast(loc, scale).size`` samples are drawn.\n",
    "    \n",
    "\n",
    "## Returns\n",
    "-------\n",
    "out : ndarray or scalar\n",
    "    Drawn samples from the parameterized normal distribution."
   ]
  },
  {
   "cell_type": "code",
   "execution_count": 29,
   "id": "2463a7af",
   "metadata": {},
   "outputs": [
    {
     "data": {
      "text/plain": [
       "array([[ 6.33982913, -1.97654236,  7.28738917,  4.84376377,  6.92098898],\n",
       "       [ 8.26321556,  7.01065181,  4.14752896,  7.53378743,  7.33834621]])"
      ]
     },
     "execution_count": 29,
     "metadata": {},
     "output_type": "execute_result"
    }
   ],
   "source": [
    "np.random.normal(loc= 5, scale= 2.5, size= (2, 5))"
   ]
  },
  {
   "cell_type": "code",
   "execution_count": 38,
   "id": "472a3aeb",
   "metadata": {},
   "outputs": [
    {
     "data": {
      "image/png": "[encoded data removed]",
      "text/plain": [
       "<Figure size 700x500 with 1 Axes>"
      ]
     },
     "metadata": {},
     "output_type": "display_data"
    }
   ],
   "source": [
    "plt.figure(figsize= (7, 5))\n",
    "plt.hist(np.random.normal(loc= 100, scale= 75, size= 10_000),\n",
    "         bins= 50,\n",
    "         density= True,\n",
    "         histtype='step',\n",
    "         color= 'purple',\n",
    "         label= 'normal')\n",
    "plt.hist(np.random.uniform(low= 50, high= 150, size= 10_000),\n",
    "         bins= 50,\n",
    "         density= True,\n",
    "         histtype='step',\n",
    "         color= 'blue',\n",
    "         label= 'unform')\n",
    "\n",
    "plt.title('np.random.normal vs np.random.uniform', fontsize= 16)\n",
    "plt.show()"
   ]
  },
  {
   "cell_type": "code",
   "execution_count": null,
   "id": "fe6bb4e1",
   "metadata": {},
   "outputs": [],
   "source": []
  }
 ],
 "metadata": {
  "kernelspec": {
   "display_name": "Python 3 (ipykernel)",
   "language": "python",
   "name": "python3"
  },
  "language_info": {
   "codemirror_mode": {
    "name": "ipython",
    "version": 3
   },
   "file_extension": ".py",
   "mimetype": "text/x-python",
   "name": "python",
   "nbconvert_exporter": "python",
   "pygments_lexer": "ipython3",
   "version": "3.10.6"
  },
  "toc": {
   "base_numbering": 1,
   "nav_menu": {},
   "number_sections": true,
   "sideBar": true,
   "skip_h1_title": false,
   "title_cell": "Table of Contents",
   "title_sidebar": "Contents",
   "toc_cell": false,
   "toc_position": {},
   "toc_section_display": true,
   "toc_window_display": false
  }
 },
 "nbformat": 4,
 "nbformat_minor": 5
}
