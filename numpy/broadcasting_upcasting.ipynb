{
 "cells": [
  {
   "cell_type": "code",
   "execution_count": 1,
   "id": "b35e386a",
   "metadata": {},
   "outputs": [],
   "source": [
    "import numpy as np"
   ]
  },
  {
   "cell_type": "markdown",
   "id": "7e188935",
   "metadata": {},
   "source": [
    "# Broadcasting\n",
    "\n",
    "En general, numpy espera operaciones para arrays de las misma dimensiones y/o forma, sin embargo, cuando este no es el caso se aplican una serie de reglas de broadcasting.\n",
    "\n",
    "Al operar con dos matrices, NumPy compara sus formas por elementos. Empieza por la dimensión más a la derecha y sigue hacia la izquierda. Dos dimensiones son compatibles cuando\n",
    "\n",
    "   1. son iguales, o\n",
    "\n",
    "   2. una de ellas es 1.\n",
    "\n",
    "Si no se cumplen estas condiciones, se lanza una excepción ValueError: operands could not be broadcast together, indicando que las matrices tienen formas incompatibles.\n",
    "\n",
    "No es necesario que las matrices de entrada tengan el mismo número de dimensiones. La matriz resultante tendrá el mismo número de dimensiones que la matriz de entrada con el mayor número de dimensiones, donde el tamaño de cada dimensión es el mayor tamaño de la dimensión correspondiente entre las matrices de entrada. Tenga en cuenta que se supone que las dimensiones que faltan tienen tamaño uno.\n",
    "\n",
    "<img src= 'broadcasting.png'>\n",
    "<img src= 'broadcasting_2.png'>\n",
    "\n",
    "## Regla 1 \n",
    "\n",
    "**Si las matrices no tienen el mismo rango, se añadirá un 1 a las matrices de menor rango hasta que sus rangos coincidan.**"
   ]
  },
  {
   "cell_type": "code",
   "execution_count": 17,
   "id": "ac627b1a",
   "metadata": {},
   "outputs": [
    {
     "name": "stdout",
     "output_type": "stream",
     "text": [
      "[[[0 1 2 3 4]]] 3 (1, 1, 5)\n"
     ]
    }
   ],
   "source": [
    "h = np.arange(5).reshape(1, 1, 5)\n",
    "print(h, h.ndim, h.shape)"
   ]
  },
  {
   "cell_type": "markdown",
   "id": "4e5dbfda",
   "metadata": {},
   "source": [
    "Ahora vamos a intentar añadir una matriz 1D de forma `(5,)` a esta matriz 3D de forma `(1,1,5)`. "
   ]
  },
  {
   "cell_type": "code",
   "execution_count": 18,
   "id": "981d4dc6",
   "metadata": {},
   "outputs": [
    {
     "name": "stdout",
     "output_type": "stream",
     "text": [
      "[10 20 30 40 50] 1 (5,)\n"
     ]
    }
   ],
   "source": [
    "a = np.array([10, 20, 30, 40, 50])\n",
    "print(a, a.ndim, a.shape)"
   ]
  },
  {
   "cell_type": "code",
   "execution_count": 10,
   "id": "852d08bc",
   "metadata": {},
   "outputs": [
    {
     "data": {
      "text/plain": [
       "array([[[10, 21, 32, 43, 54]]])"
      ]
     },
     "execution_count": 10,
     "metadata": {},
     "output_type": "execute_result"
    }
   ],
   "source": [
    "h + a"
   ]
  },
  {
   "cell_type": "markdown",
   "id": "e3f710c9",
   "metadata": {},
   "source": [
    "## Regla 2\n",
    "\n",
    "**Las matrices con un 1 a lo largo de una dimensión determinada actúan como si tuvieran el tamaño de la matriz con la forma más grande a lo largo de esa dimensión. El valor del elemento de la matriz se repite a lo largo de esa dimensión**"
   ]
  },
  {
   "cell_type": "code",
   "execution_count": 11,
   "id": "8f840ff4",
   "metadata": {},
   "outputs": [
    {
     "data": {
      "text/plain": [
       "array([[0, 1, 2],\n",
       "       [3, 4, 5]])"
      ]
     },
     "execution_count": 11,
     "metadata": {},
     "output_type": "execute_result"
    }
   ],
   "source": [
    "k = np.arange(6).reshape(2, 3)\n",
    "k"
   ]
  },
  {
   "cell_type": "markdown",
   "id": "e9c9ddde",
   "metadata": {},
   "source": [
    "Intentemos añadir un array 2D de forma `(2,1)` a este `ndarray` 2D de forma `(2, 3)`."
   ]
  },
  {
   "cell_type": "code",
   "execution_count": 12,
   "id": "f82cc0b8",
   "metadata": {},
   "outputs": [
    {
     "data": {
      "text/plain": [
       "array([[100, 101, 102],\n",
       "       [203, 204, 205]])"
      ]
     },
     "execution_count": 12,
     "metadata": {},
     "output_type": "execute_result"
    }
   ],
   "source": [
    "k + [[100], [200]]  # same as: k + [[100, 100, 100], [200, 200, 200]]"
   ]
  },
  {
   "cell_type": "code",
   "execution_count": 13,
   "id": "e6444eb2",
   "metadata": {},
   "outputs": [
    {
     "data": {
      "text/plain": [
       "array([[100, 201, 302],\n",
       "       [103, 204, 305]])"
      ]
     },
     "execution_count": 13,
     "metadata": {},
     "output_type": "execute_result"
    }
   ],
   "source": [
    "# aqui se combinan la regla 1 y la 2\n",
    "\n",
    "k + [100, 200, 300]  # after rule 1: [[100, 200, 300]], and after rule 2: [[100, 200, 300], [100, 200, 300]]"
   ]
  },
  {
   "cell_type": "code",
   "execution_count": 15,
   "id": "f4950fce",
   "metadata": {},
   "outputs": [
    {
     "data": {
      "text/plain": [
       "array([[10000, 10001, 10002],\n",
       "       [10003, 10004, 10005]])"
      ]
     },
     "execution_count": 15,
     "metadata": {},
     "output_type": "execute_result"
    }
   ],
   "source": [
    "# y aún más simple\n",
    "\n",
    "k + 10000"
   ]
  },
  {
   "cell_type": "markdown",
   "id": "78d620ab",
   "metadata": {},
   "source": [
    "## Regla 3 \n",
    "\n",
    "**Despues de las reglas 2 y 1 las formas de todos los arrays deben coincidir**"
   ]
  },
  {
   "cell_type": "code",
   "execution_count": 19,
   "id": "cfa93164",
   "metadata": {},
   "outputs": [
    {
     "name": "stdout",
     "output_type": "stream",
     "text": [
      "operands could not be broadcast together with shapes (2,3) (2,) \n"
     ]
    }
   ],
   "source": [
    "try:\n",
    "    k + [33, 44]\n",
    "except ValueError as e:\n",
    "    print(e)"
   ]
  },
  {
   "cell_type": "markdown",
   "id": "f62daafa",
   "metadata": {},
   "source": [
    "# Upcasting\n",
    "\n",
    "Al tratar de combinar matrices con diferentes `dtype`s, NumPy *upcast* a un tipo capaz de manejar todos los valores posibles (independientemente de lo que los valores *actual* son)"
   ]
  },
  {
   "cell_type": "code",
   "execution_count": 20,
   "id": "91a2f1ed",
   "metadata": {},
   "outputs": [
    {
     "name": "stdout",
     "output_type": "stream",
     "text": [
      "uint8 [0 1 2 3 4]\n"
     ]
    }
   ],
   "source": [
    "k1 = np.arange(0, 5, dtype=np.uint8)\n",
    "print(k1.dtype, k1)"
   ]
  },
  {
   "cell_type": "code",
   "execution_count": 21,
   "id": "0aac94f7",
   "metadata": {},
   "outputs": [
    {
     "name": "stdout",
     "output_type": "stream",
     "text": [
      "int16 [ 5  7  9 11 13]\n"
     ]
    }
   ],
   "source": [
    "k2 = k1 + np.array([5, 6, 7, 8, 9], dtype=np.int8)\n",
    "print(k2.dtype, k2)"
   ]
  },
  {
   "cell_type": "markdown",
   "id": "c88f32d8",
   "metadata": {},
   "source": [
    "Tenga en cuenta que `int16` es necesario para representar todos los *posibles* valores `int8` y `uint8` (de -128 a 255), aunque en este caso hubiera bastado con un `uint8`."
   ]
  },
  {
   "cell_type": "code",
   "execution_count": 22,
   "id": "7449c26b",
   "metadata": {},
   "outputs": [
    {
     "name": "stdout",
     "output_type": "stream",
     "text": [
      "float64 [1.5 2.5 3.5 4.5 5.5]\n"
     ]
    }
   ],
   "source": [
    "k3 = k1 + 1.5\n",
    "print(k3.dtype, k3)"
   ]
  },
  {
   "cell_type": "code",
   "execution_count": null,
   "id": "5e728793",
   "metadata": {},
   "outputs": [],
   "source": []
  }
 ],
 "metadata": {
  "kernelspec": {
   "display_name": "Python 3 (ipykernel)",
   "language": "python",
   "name": "python3"
  },
  "language_info": {
   "codemirror_mode": {
    "name": "ipython",
    "version": 3
   },
   "file_extension": ".py",
   "mimetype": "text/x-python",
   "name": "python",
   "nbconvert_exporter": "python",
   "pygments_lexer": "ipython3",
   "version": "3.10.6"
  },
  "toc": {
   "base_numbering": 1,
   "nav_menu": {},
   "number_sections": true,
   "sideBar": true,
   "skip_h1_title": false,
   "title_cell": "Table of Contents",
   "title_sidebar": "Contents",
   "toc_cell": false,
   "toc_position": {},
   "toc_section_display": true,
   "toc_window_display": false
  }
 },
 "nbformat": 4,
 "nbformat_minor": 5
}
