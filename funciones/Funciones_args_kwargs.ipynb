{
 "cells": [
  {
   "cell_type": "markdown",
   "id": "1c3bea94",
   "metadata": {},
   "source": [
    "# * args en tupla como argumento a las funciones\n",
    "\n",
    "## Numero de argumentos indefinido \n",
    "\n",
    "- Al definir la funcion se le debe poner *args, el asterisco es obligatorio\n",
    "- Al llamar a la función tambien se le tiene que poner el asterisco"
   ]
  },
  {
   "cell_type": "code",
   "execution_count": 6,
   "id": "b17b8381",
   "metadata": {},
   "outputs": [
    {
     "name": "stdout",
     "output_type": "stream",
     "text": [
      "Hola Manolo\n",
      "Hola Pepe\n",
      "Hola Luis\n",
      "Hola Alex\n"
     ]
    }
   ],
   "source": [
    "def saludar(*names): # names es args\n",
    "    # print(type(names))\n",
    "    for name in names:\n",
    "        print(\"Hola \" + name)\n",
    "\n",
    "saludar(*(\"Manolo\", \"Pepe\", \"Luis\", \"Alex\")) "
   ]
  },
  {
   "cell_type": "code",
   "execution_count": 4,
   "id": "2ad0632d",
   "metadata": {},
   "outputs": [],
   "source": [
    "argumentos = ('tonto', 'listo','estupido', 'cabron', 'ladilla', 'asshole')"
   ]
  },
  {
   "cell_type": "code",
   "execution_count": 7,
   "id": "811899f6",
   "metadata": {
    "scrolled": true
   },
   "outputs": [
    {
     "name": "stdout",
     "output_type": "stream",
     "text": [
      "Hola tonto\n",
      "Hola listo\n",
      "Hola estupido\n",
      "Hola cabron\n",
      "Hola ladilla\n",
      "Hola asshole\n"
     ]
    }
   ],
   "source": [
    "saludar(*argumentos)"
   ]
  },
  {
   "cell_type": "markdown",
   "id": "1429bf26",
   "metadata": {},
   "source": [
    "## Número de argumentos definido\n",
    "\n",
    "- No hace falta el * al definir la función.\n",
    "- Se le puede pasar una tupla con los argumentos al llamar a la función; el * es obligatorio y el número de argumentos debe coincidir con el número de elementos de la tupla, si no, da error"
   ]
  },
  {
   "cell_type": "code",
   "execution_count": 22,
   "id": "70c410af",
   "metadata": {},
   "outputs": [
    {
     "name": "stdout",
     "output_type": "stream",
     "text": [
      "hola Mikel, tienes 25, vives en Lezo, en el año 2023\n"
     ]
    }
   ],
   "source": [
    "def datos(nombre:str, edad:int, localidad:str, año: int):\n",
    "    print(f'hola {nombre}, tienes {edad}, vives en {localidad}, en el año {año}')\n",
    "    return None\n",
    "\n",
    "datos('Mikel', 25, 'Lezo', 2023)"
   ]
  },
  {
   "cell_type": "code",
   "execution_count": 23,
   "id": "3618575a",
   "metadata": {},
   "outputs": [
    {
     "name": "stdout",
     "output_type": "stream",
     "text": [
      "hola Mikel, tienes 25, vives en Lezo, en el año 2023\n"
     ]
    }
   ],
   "source": [
    "mikel = ('Mikel', 25, 'Lezo', 2023)\n",
    "\n",
    "datos(*mikel)"
   ]
  },
  {
   "cell_type": "code",
   "execution_count": 24,
   "id": "c9014d83",
   "metadata": {},
   "outputs": [
    {
     "name": "stdout",
     "output_type": "stream",
     "text": [
      "hola Mikel, tienes 25, vives en Lezo, en el año 2023\n"
     ]
    }
   ],
   "source": [
    "# tambien vale si es una lista\n",
    "\n",
    "mikel = list(mikel)\n",
    "\n",
    "datos(*mikel)"
   ]
  },
  {
   "cell_type": "markdown",
   "id": "3739bf86",
   "metadata": {},
   "source": [
    "## combirtiendo los args en 'kwargs'\n",
    "\n",
    "- con la sintaxis funcion(*,...) le obligo al usuario a escribir los nombres de los argumentos"
   ]
  },
  {
   "cell_type": "code",
   "execution_count": 12,
   "id": "885d0843",
   "metadata": {},
   "outputs": [],
   "source": [
    "def datos(*,nombre:str, edad:int, localidad:str, año: int):\n",
    "    print(f'hola {nombre}, tienes {edad}, vives en {localidad}, en el año {año}')\n",
    "    return None"
   ]
  },
  {
   "cell_type": "code",
   "execution_count": 20,
   "id": "171b3c77",
   "metadata": {},
   "outputs": [
    {
     "name": "stdout",
     "output_type": "stream",
     "text": [
      "hola Mikel, tienes 33, vives en sss, en el año 99\n"
     ]
    }
   ],
   "source": [
    "datos(nombre= 'Mikel', edad= 33, localidad='sss', año= 99)"
   ]
  },
  {
   "cell_type": "code",
   "execution_count": 15,
   "id": "1d63d55c",
   "metadata": {},
   "outputs": [],
   "source": [
    "# Estos dos dan error\n",
    "\n",
    "# datos(*mikel)\n",
    "# datos('Mikel', 25, 'Lezo', 2023)"
   ]
  },
  {
   "cell_type": "code",
   "execution_count": 37,
   "id": "ec5a00d1",
   "metadata": {},
   "outputs": [
    {
     "name": "stdout",
     "output_type": "stream",
     "text": [
      "hola Mikel, tienes 33, vives en sss, en el año 99\n"
     ]
    }
   ],
   "source": [
    "datos_dict = {'nombre': 'Mikel',\n",
    "              'edad': 33,\n",
    "              'localidad':'sss',\n",
    "              'año': 99}\n",
    "\n",
    "datos(**datos_dict) # da igual si le ponemos * o **"
   ]
  },
  {
   "cell_type": "markdown",
   "id": "c443e9cd",
   "metadata": {},
   "source": [
    "# **Kwargs en diccionario como argumento\n",
    "\n",
    "## Numero de key word arguments indefinido\n",
    "\n",
    "- En este caso es obligatorio el ** tanto definiendo la función como llamadola\n",
    "- Ahora ya no vale con pasarle una tupla o una lista, SE LE PASA UN DICCIONARIO con key word = el nombre del kwarg y valor = valor del key value"
   ]
  },
  {
   "cell_type": "code",
   "execution_count": 27,
   "id": "3071714a",
   "metadata": {},
   "outputs": [],
   "source": [
    "def saludar(**kwargs):\n",
    "    for key, value in kwargs.items():\n",
    "        print('clave', key, 'valor', value)\n",
    "    \n",
    "    return None"
   ]
  },
  {
   "cell_type": "code",
   "execution_count": 28,
   "id": "2401d60a",
   "metadata": {},
   "outputs": [
    {
     "name": "stdout",
     "output_type": "stream",
     "text": [
      "clave quien valor [12, 12, 3, 4, 5, 3]\n",
      "clave mensaje valor te quiere enseñar esto\n",
      "clave gesto valor guiño\n"
     ]
    }
   ],
   "source": [
    "dc_saludo = {\n",
    "    'quien': [12, 12, 3,4 , 5,3],\n",
    "    'mensaje': 'te quiere enseñar esto',\n",
    "    'gesto': 'guiño'\n",
    "}\n",
    "\n",
    "saludar(**dc_saludo)"
   ]
  },
  {
   "cell_type": "markdown",
   "id": "260a46e2",
   "metadata": {},
   "source": [
    "## Número de key word arguments definido\n",
    "\n",
    "- En este caso solo es necesario el ** al llamar a la función\n",
    "- El número de elementos del diccionario debe coincidir con el de los kwargs al definir la función.\n",
    "- Al definir el diccionario las claves (los key words) deben ir entre \"\"."
   ]
  },
  {
   "cell_type": "code",
   "execution_count": 30,
   "id": "20f9a358",
   "metadata": {},
   "outputs": [],
   "source": [
    "def saludar(quien, mensaje, gesto):\n",
    "    print(f\"Hola {quien}, {mensaje}, mira esto: {gesto}\")\n"
   ]
  },
  {
   "cell_type": "code",
   "execution_count": 31,
   "id": "0f1cbb84",
   "metadata": {},
   "outputs": [
    {
     "name": "stdout",
     "output_type": "stream",
     "text": [
      "Hola [12, 12, 3, 4, 5, 3], te quiere enseñar esto, mira esto: guiño\n"
     ]
    }
   ],
   "source": [
    "\n",
    "dc_saludo = {\n",
    "    'quien': [12, 12, 3,4 , 5,3],\n",
    "    'mensaje': 'te quiere enseñar esto',\n",
    "    'gesto': 'guiño'\n",
    "}\n",
    "\n",
    "saludar(**dc_saludo)"
   ]
  },
  {
   "cell_type": "code",
   "execution_count": 34,
   "id": "2d2ace1c",
   "metadata": {},
   "outputs": [
    {
     "name": "stdout",
     "output_type": "stream",
     "text": [
      "Hola [12, 12, 3, 4, 5, 3], te quiere enseñar esto, mira esto: guiño\n"
     ]
    }
   ],
   "source": [
    "def saludar(*,quien, mensaje, gesto):\n",
    "    print(f\"Hola {quien}, {mensaje}, mira esto: {gesto}\")\n",
    "    \n",
    "saludar(**dc_saludo)  "
   ]
  },
  {
   "cell_type": "code",
   "execution_count": null,
   "id": "bb6fd8a8",
   "metadata": {},
   "outputs": [],
   "source": []
  }
 ],
 "metadata": {
  "kernelspec": {
   "display_name": "Python 3 (ipykernel)",
   "language": "python",
   "name": "python3"
  },
  "language_info": {
   "codemirror_mode": {
    "name": "ipython",
    "version": 3
   },
   "file_extension": ".py",
   "mimetype": "text/x-python",
   "name": "python",
   "nbconvert_exporter": "python",
   "pygments_lexer": "ipython3",
   "version": "3.11.4"
  },
  "toc": {
   "base_numbering": 1,
   "nav_menu": {},
   "number_sections": true,
   "sideBar": true,
   "skip_h1_title": false,
   "title_cell": "Table of Contents",
   "title_sidebar": "Contents",
   "toc_cell": false,
   "toc_position": {},
   "toc_section_display": true,
   "toc_window_display": false
  }
 },
 "nbformat": 4,
 "nbformat_minor": 5
}
