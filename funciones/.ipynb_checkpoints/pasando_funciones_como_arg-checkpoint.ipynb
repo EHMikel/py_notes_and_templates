{
 "cells": [
  {
   "cell_type": "markdown",
   "id": "f23956ce",
   "metadata": {},
   "source": [
    "# Se le puede pasar a una funcion un lista o tupla de funciones como argumento\n",
    "\n",
    "Con el objetivo de aplicar una pipeline o un proceso de limpieza de datos"
   ]
  },
  {
   "cell_type": "code",
   "execution_count": 1,
   "id": "00113521",
   "metadata": {},
   "outputs": [],
   "source": [
    "def limpiar_strings(strings, operaciones):\n",
    "    resultado = []\n",
    "    for string in strings:\n",
    "        for operacion in operaciones:\n",
    "            string = operacion(string)\n",
    "        resultado.append(string)\n",
    "    return resultado"
   ]
  },
  {
   "cell_type": "code",
   "execution_count": 18,
   "id": "72333fce",
   "metadata": {},
   "outputs": [],
   "source": [
    "ciudades = ['   barna ', 'valencia   ', 'madrid  ', 'bilbao  ']\n",
    "pipeline = [str.strip, str.title]"
   ]
  },
  {
   "cell_type": "code",
   "execution_count": 19,
   "id": "f5cbfea3",
   "metadata": {},
   "outputs": [
    {
     "data": {
      "text/plain": [
       "['Barna', 'Valencia', 'Madrid', 'Bilbao']"
      ]
     },
     "execution_count": 19,
     "metadata": {},
     "output_type": "execute_result"
    }
   ],
   "source": [
    "limpiar_strings(ciudades, pipeline)"
   ]
  },
  {
   "cell_type": "code",
   "execution_count": null,
   "id": "4a69eb5a",
   "metadata": {},
   "outputs": [],
   "source": []
  }
 ],
 "metadata": {
  "kernelspec": {
   "display_name": "Python 3 (ipykernel)",
   "language": "python",
   "name": "python3"
  },
  "language_info": {
   "codemirror_mode": {
    "name": "ipython",
    "version": 3
   },
   "file_extension": ".py",
   "mimetype": "text/x-python",
   "name": "python",
   "nbconvert_exporter": "python",
   "pygments_lexer": "ipython3",
   "version": "3.10.6"
  },
  "toc": {
   "base_numbering": 1,
   "nav_menu": {},
   "number_sections": true,
   "sideBar": true,
   "skip_h1_title": false,
   "title_cell": "Table of Contents",
   "title_sidebar": "Contents",
   "toc_cell": false,
   "toc_position": {},
   "toc_section_display": true,
   "toc_window_display": false
  }
 },
 "nbformat": 4,
 "nbformat_minor": 5
}
