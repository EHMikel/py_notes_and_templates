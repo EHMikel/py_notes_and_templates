{
 "cells": [
  {
   "cell_type": "code",
   "execution_count": 1,
   "id": "98f2b967",
   "metadata": {},
   "outputs": [],
   "source": [
    "import numpy as np\n",
    "import pandas as pd\n",
    "import matplotlib.pyplot as plt"
   ]
  },
  {
   "cell_type": "code",
   "execution_count": 2,
   "id": "710849ee",
   "metadata": {},
   "outputs": [
    {
     "data": {
      "text/html": [
       "<div>\n",
       "<style scoped>\n",
       "    .dataframe tbody tr th:only-of-type {\n",
       "        vertical-align: middle;\n",
       "    }\n",
       "\n",
       "    .dataframe tbody tr th {\n",
       "        vertical-align: top;\n",
       "    }\n",
       "\n",
       "    .dataframe thead th {\n",
       "        text-align: right;\n",
       "    }\n",
       "</style>\n",
       "<table border=\"1\" class=\"dataframe\">\n",
       "  <thead>\n",
       "    <tr style=\"text-align: right;\">\n",
       "      <th></th>\n",
       "      <th>mpg</th>\n",
       "      <th>cilindros</th>\n",
       "      <th>desplazamiento</th>\n",
       "      <th>potencia</th>\n",
       "      <th>peso</th>\n",
       "      <th>aceleracion</th>\n",
       "      <th>año</th>\n",
       "      <th>origen</th>\n",
       "      <th>nombre</th>\n",
       "    </tr>\n",
       "  </thead>\n",
       "  <tbody>\n",
       "    <tr>\n",
       "      <th>119</th>\n",
       "      <td>20.0</td>\n",
       "      <td>4</td>\n",
       "      <td>114.0</td>\n",
       "      <td>91.0</td>\n",
       "      <td>2582.0</td>\n",
       "      <td>14.0</td>\n",
       "      <td>73</td>\n",
       "      <td>2</td>\n",
       "      <td>audi 100ls</td>\n",
       "    </tr>\n",
       "    <tr>\n",
       "      <th>2</th>\n",
       "      <td>18.0</td>\n",
       "      <td>8</td>\n",
       "      <td>318.0</td>\n",
       "      <td>150.0</td>\n",
       "      <td>3436.0</td>\n",
       "      <td>11.0</td>\n",
       "      <td>70</td>\n",
       "      <td>1</td>\n",
       "      <td>plymouth satellite</td>\n",
       "    </tr>\n",
       "    <tr>\n",
       "      <th>321</th>\n",
       "      <td>32.2</td>\n",
       "      <td>4</td>\n",
       "      <td>108.0</td>\n",
       "      <td>75.0</td>\n",
       "      <td>2265.0</td>\n",
       "      <td>15.2</td>\n",
       "      <td>80</td>\n",
       "      <td>3</td>\n",
       "      <td>toyota corolla</td>\n",
       "    </tr>\n",
       "    <tr>\n",
       "      <th>40</th>\n",
       "      <td>14.0</td>\n",
       "      <td>8</td>\n",
       "      <td>351.0</td>\n",
       "      <td>153.0</td>\n",
       "      <td>4154.0</td>\n",
       "      <td>13.5</td>\n",
       "      <td>71</td>\n",
       "      <td>1</td>\n",
       "      <td>ford galaxie 500</td>\n",
       "    </tr>\n",
       "    <tr>\n",
       "      <th>306</th>\n",
       "      <td>28.8</td>\n",
       "      <td>6</td>\n",
       "      <td>173.0</td>\n",
       "      <td>115.0</td>\n",
       "      <td>2595.0</td>\n",
       "      <td>11.3</td>\n",
       "      <td>79</td>\n",
       "      <td>1</td>\n",
       "      <td>chevrolet citation</td>\n",
       "    </tr>\n",
       "  </tbody>\n",
       "</table>\n",
       "</div>"
      ],
      "text/plain": [
       "      mpg  cilindros  desplazamiento  potencia    peso  aceleracion  año  \\\n",
       "119  20.0          4           114.0      91.0  2582.0         14.0   73   \n",
       "2    18.0          8           318.0     150.0  3436.0         11.0   70   \n",
       "321  32.2          4           108.0      75.0  2265.0         15.2   80   \n",
       "40   14.0          8           351.0     153.0  4154.0         13.5   71   \n",
       "306  28.8          6           173.0     115.0  2595.0         11.3   79   \n",
       "\n",
       "     origen              nombre  \n",
       "119       2          audi 100ls  \n",
       "2         1  plymouth satellite  \n",
       "321       3      toyota corolla  \n",
       "40        1    ford galaxie 500  \n",
       "306       1  chevrolet citation  "
      ]
     },
     "metadata": {},
     "output_type": "display_data"
    },
    {
     "data": {
      "text/html": [
       "<div>\n",
       "<style scoped>\n",
       "    .dataframe tbody tr th:only-of-type {\n",
       "        vertical-align: middle;\n",
       "    }\n",
       "\n",
       "    .dataframe tbody tr th {\n",
       "        vertical-align: top;\n",
       "    }\n",
       "\n",
       "    .dataframe thead th {\n",
       "        text-align: right;\n",
       "    }\n",
       "</style>\n",
       "<table border=\"1\" class=\"dataframe\">\n",
       "  <thead>\n",
       "    <tr style=\"text-align: right;\">\n",
       "      <th></th>\n",
       "      <th>mpg</th>\n",
       "      <th>cilindros</th>\n",
       "      <th>desplazamiento</th>\n",
       "      <th>potencia</th>\n",
       "      <th>peso</th>\n",
       "      <th>aceleracion</th>\n",
       "      <th>año</th>\n",
       "      <th>origen</th>\n",
       "    </tr>\n",
       "  </thead>\n",
       "  <tbody>\n",
       "    <tr>\n",
       "      <th>count</th>\n",
       "      <td>398.000000</td>\n",
       "      <td>398.000000</td>\n",
       "      <td>398.000000</td>\n",
       "      <td>392.000000</td>\n",
       "      <td>398.000000</td>\n",
       "      <td>398.000000</td>\n",
       "      <td>398.000000</td>\n",
       "      <td>398.000000</td>\n",
       "    </tr>\n",
       "    <tr>\n",
       "      <th>mean</th>\n",
       "      <td>23.514573</td>\n",
       "      <td>5.454774</td>\n",
       "      <td>193.425879</td>\n",
       "      <td>104.469388</td>\n",
       "      <td>2970.424623</td>\n",
       "      <td>15.568090</td>\n",
       "      <td>76.010050</td>\n",
       "      <td>1.572864</td>\n",
       "    </tr>\n",
       "    <tr>\n",
       "      <th>std</th>\n",
       "      <td>7.815984</td>\n",
       "      <td>1.701004</td>\n",
       "      <td>104.269838</td>\n",
       "      <td>38.491160</td>\n",
       "      <td>846.841774</td>\n",
       "      <td>2.757689</td>\n",
       "      <td>3.697627</td>\n",
       "      <td>0.802055</td>\n",
       "    </tr>\n",
       "    <tr>\n",
       "      <th>min</th>\n",
       "      <td>9.000000</td>\n",
       "      <td>3.000000</td>\n",
       "      <td>68.000000</td>\n",
       "      <td>46.000000</td>\n",
       "      <td>1613.000000</td>\n",
       "      <td>8.000000</td>\n",
       "      <td>70.000000</td>\n",
       "      <td>1.000000</td>\n",
       "    </tr>\n",
       "    <tr>\n",
       "      <th>25%</th>\n",
       "      <td>17.500000</td>\n",
       "      <td>4.000000</td>\n",
       "      <td>104.250000</td>\n",
       "      <td>75.000000</td>\n",
       "      <td>2223.750000</td>\n",
       "      <td>13.825000</td>\n",
       "      <td>73.000000</td>\n",
       "      <td>1.000000</td>\n",
       "    </tr>\n",
       "    <tr>\n",
       "      <th>50%</th>\n",
       "      <td>23.000000</td>\n",
       "      <td>4.000000</td>\n",
       "      <td>148.500000</td>\n",
       "      <td>93.500000</td>\n",
       "      <td>2803.500000</td>\n",
       "      <td>15.500000</td>\n",
       "      <td>76.000000</td>\n",
       "      <td>1.000000</td>\n",
       "    </tr>\n",
       "    <tr>\n",
       "      <th>75%</th>\n",
       "      <td>29.000000</td>\n",
       "      <td>8.000000</td>\n",
       "      <td>262.000000</td>\n",
       "      <td>126.000000</td>\n",
       "      <td>3608.000000</td>\n",
       "      <td>17.175000</td>\n",
       "      <td>79.000000</td>\n",
       "      <td>2.000000</td>\n",
       "    </tr>\n",
       "    <tr>\n",
       "      <th>max</th>\n",
       "      <td>46.600000</td>\n",
       "      <td>8.000000</td>\n",
       "      <td>455.000000</td>\n",
       "      <td>230.000000</td>\n",
       "      <td>5140.000000</td>\n",
       "      <td>24.800000</td>\n",
       "      <td>82.000000</td>\n",
       "      <td>3.000000</td>\n",
       "    </tr>\n",
       "  </tbody>\n",
       "</table>\n",
       "</div>"
      ],
      "text/plain": [
       "              mpg   cilindros  desplazamiento    potencia         peso  \\\n",
       "count  398.000000  398.000000      398.000000  392.000000   398.000000   \n",
       "mean    23.514573    5.454774      193.425879  104.469388  2970.424623   \n",
       "std      7.815984    1.701004      104.269838   38.491160   846.841774   \n",
       "min      9.000000    3.000000       68.000000   46.000000  1613.000000   \n",
       "25%     17.500000    4.000000      104.250000   75.000000  2223.750000   \n",
       "50%     23.000000    4.000000      148.500000   93.500000  2803.500000   \n",
       "75%     29.000000    8.000000      262.000000  126.000000  3608.000000   \n",
       "max     46.600000    8.000000      455.000000  230.000000  5140.000000   \n",
       "\n",
       "       aceleracion         año      origen  \n",
       "count   398.000000  398.000000  398.000000  \n",
       "mean     15.568090   76.010050    1.572864  \n",
       "std       2.757689    3.697627    0.802055  \n",
       "min       8.000000   70.000000    1.000000  \n",
       "25%      13.825000   73.000000    1.000000  \n",
       "50%      15.500000   76.000000    1.000000  \n",
       "75%      17.175000   79.000000    2.000000  \n",
       "max      24.800000   82.000000    3.000000  "
      ]
     },
     "execution_count": 2,
     "metadata": {},
     "output_type": "execute_result"
    }
   ],
   "source": [
    "path = 'http://archive.ics.uci.edu/ml/machine-learning-databases/auto-mpg/auto-mpg.data'\n",
    "\n",
    "df = pd.read_csv(path, delim_whitespace=True, header=None,\n",
    "            names = ['mpg', 'cilindros', 'desplazamiento','potencia',\n",
    "            'peso', 'aceleracion', 'año', 'origen', 'nombre'],\n",
    "            na_values='?')\n",
    "\n",
    "display(df.sample(5))\n",
    "df.describe()"
   ]
  },
  {
   "cell_type": "markdown",
   "id": "8c78642e",
   "metadata": {},
   "source": [
    "# barplot\n",
    "\n",
    "El segundo tipo de visualización más común es el gráfico de barras, o bar plot en inglés. El uso principal de este tipo de visualización es el de representar variables discretas y el número de observaciones ( o cantidad ) de nuestras variables categóricas.  \n",
    "\n",
    "## básico vertical"
   ]
  },
  {
   "cell_type": "code",
   "execution_count": 3,
   "id": "73078d4a",
   "metadata": {},
   "outputs": [
    {
     "data": {
      "text/plain": [
       "array([70, 71, 72, 73, 74, 75, 76, 77, 78, 79, 80, 81, 82], dtype=int64)"
      ]
     },
     "execution_count": 3,
     "metadata": {},
     "output_type": "execute_result"
    }
   ],
   "source": [
    "df['año'].unique()"
   ]
  },
  {
   "cell_type": "code",
   "execution_count": 4,
   "id": "4be2f50f",
   "metadata": {},
   "outputs": [
    {
     "data": {
      "text/plain": [
       "73    40\n",
       "78    36\n",
       "76    34\n",
       "82    31\n",
       "75    30\n",
       "70    29\n",
       "79    29\n",
       "80    29\n",
       "81    29\n",
       "71    28\n",
       "72    28\n",
       "77    28\n",
       "74    27\n",
       "Name: año, dtype: int64"
      ]
     },
     "execution_count": 4,
     "metadata": {},
     "output_type": "execute_result"
    }
   ],
   "source": [
    "df['año'].value_counts()"
   ]
  },
  {
   "cell_type": "code",
   "execution_count": 5,
   "id": "65b2a74c",
   "metadata": {},
   "outputs": [
    {
     "data": {
      "image/png": "[encoded data removed]",
      "text/plain": [
       "<Figure size 1000x600 with 1 Axes>"
      ]
     },
     "metadata": {},
     "output_type": "display_data"
    }
   ],
   "source": [
    "x = df['año'].unique()\n",
    "y = df['año'].value_counts()\n",
    "\n",
    "plt.figure(figsize=(10,6))\n",
    "\n",
    "plt.bar(x, y)\n",
    "\n",
    "plt.title('coches segun sus años', fontdict= {'fontsize': 16})\n",
    "plt.ylim(20,42)\n",
    "\n",
    "plt.show()"
   ]
  },
  {
   "cell_type": "markdown",
   "id": "9d99b558",
   "metadata": {},
   "source": [
    "## básico horizontal"
   ]
  },
  {
   "cell_type": "code",
   "execution_count": 11,
   "id": "f9f677a0",
   "metadata": {
    "scrolled": false
   },
   "outputs": [
    {
     "data": {
      "image/png": "[encoded data removed]",
      "text/plain": [
       "<Figure size 1000x600 with 1 Axes>"
      ]
     },
     "metadata": {},
     "output_type": "display_data"
    }
   ],
   "source": [
    "x = df['año'].unique()\n",
    "y = df['año'].value_counts()\n",
    "\n",
    "plt.figure(figsize=(10,6))\n",
    "\n",
    "plt.barh(x, y)\n",
    "\n",
    "plt.title('coches segun sus años', fontdict= {'fontsize': 16})\n",
    "plt.xlim(25,42)\n",
    "\n",
    "plt.show()"
   ]
  },
  {
   "cell_type": "markdown",
   "id": "8d63244e",
   "metadata": {},
   "source": [
    "## añadiendo detalles\n",
    "\n",
    "### ejemplo vertica bar plot"
   ]
  },
  {
   "cell_type": "code",
   "execution_count": 18,
   "id": "a218f3d4",
   "metadata": {},
   "outputs": [
    {
     "data": {
      "image/png": "[encoded data removed]",
      "text/plain": [
       "<Figure size 1000x600 with 1 Axes>"
      ]
     },
     "metadata": {},
     "output_type": "display_data"
    }
   ],
   "source": [
    "x = df.value_counts('año').index\n",
    "\n",
    "y = df.value_counts('año')\n",
    "\n",
    "# Construir nuestro gráfico\n",
    "\n",
    "fig = plt.figure(figsize=(10, 6))\n",
    "\n",
    "colores = ['red', 'green', 'black','grey','blue', 'purple', 'orange']\n",
    "\n",
    "plt.bar(x, y,\n",
    "        width = 0.6,          # Este parametro ajusta el ancho de las barras\n",
    "        edgecolor = 'black',  # Añadiendo un perfil negro a cada barra\n",
    "        color = colores)      # Usaremos la lista de colores para que itere sobre las barras\n",
    "\n",
    "\n",
    "plt.title('años de coches')\n",
    "plt.ylim(20,45)            # Este método ajusta el eje Y\n",
    "\n",
    "plt.show()"
   ]
  },
  {
   "cell_type": "markdown",
   "id": "a3d51d94",
   "metadata": {},
   "source": [
    "### horizontal bar plot"
   ]
  },
  {
   "cell_type": "code",
   "execution_count": 23,
   "id": "454d37ad",
   "metadata": {},
   "outputs": [],
   "source": [
    "# Estilo general de la figura\n",
    "plt.style.use('ggplot')"
   ]
  },
  {
   "cell_type": "code",
   "execution_count": 24,
   "id": "de76f6bc",
   "metadata": {},
   "outputs": [],
   "source": [
    "ls_count = (284487, 244560, 208493, 196764)\n",
    "cities = ('Madrid', 'Barcelona', 'Sevilla', 'Valencia')\n",
    "data = np.array(ls_count)/1000\n",
    "y_pos = np.arange(data.size)"
   ]
  },
  {
   "cell_type": "code",
   "execution_count": 25,
   "id": "e0f28210",
   "metadata": {},
   "outputs": [
    {
     "data": {
      "image/png": "[encoded data removed]",
      "text/plain": [
       "<Figure size 1000x600 with 1 Axes>"
      ]
     },
     "metadata": {},
     "output_type": "display_data"
    }
   ],
   "source": [
    "width = 0.35       # the width of the bars\n",
    "opacity = 0.7\n",
    "\n",
    "fig, ax = plt.subplots(figsize = (10,6))\n",
    "\n",
    "rects1 = ax.barh(y_pos,\n",
    "                 data,\n",
    "                 width,\n",
    "                 alpha=opacity)\n",
    "\n",
    "rects1[3].set_color('#ff9757')\n",
    "rects1[2].set_color('#ffcb59')\n",
    "rects1[1].set_color('#d6ee39')\n",
    "rects1[0].set_color('#6ade30')\n",
    "\n",
    "ax.set_yticks(y_pos)\n",
    "ax.set_yticklabels(cities)\n",
    "\n",
    "# add some text for labels, title and axes ticks\n",
    "ax.set_ylabel('Ciudades')\n",
    "ax.set_xlabel('Km de carril bici')\n",
    "\n",
    "ax.legend((rects1[0], rects1[1], rects1[2], rects1[3]), cities)\n",
    "\n",
    "plt.show()"
   ]
  },
  {
   "cell_type": "code",
   "execution_count": null,
   "id": "fd855e4b",
   "metadata": {},
   "outputs": [],
   "source": [
    "df.plot()"
   ]
  }
 ],
 "metadata": {
  "kernelspec": {
   "display_name": "Python 3 (ipykernel)",
   "language": "python",
   "name": "python3"
  },
  "language_info": {
   "codemirror_mode": {
    "name": "ipython",
    "version": 3
   },
   "file_extension": ".py",
   "mimetype": "text/x-python",
   "name": "python",
   "nbconvert_exporter": "python",
   "pygments_lexer": "ipython3",
   "version": "3.10.6"
  },
  "toc": {
   "base_numbering": 1,
   "nav_menu": {},
   "number_sections": true,
   "sideBar": true,
   "skip_h1_title": false,
   "title_cell": "Table of Contents",
   "title_sidebar": "Contents",
   "toc_cell": false,
   "toc_position": {},
   "toc_section_display": true,
   "toc_window_display": false
  }
 },
 "nbformat": 4,
 "nbformat_minor": 5
}
